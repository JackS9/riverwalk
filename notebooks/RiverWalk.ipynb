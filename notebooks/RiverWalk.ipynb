{
 "cells": [
  {
   "cell_type": "markdown",
   "metadata": {
    "extensions": {
     "jupyter_dashboards": {
      "version": 1,
      "views": {
       "grid_default": {
        "col": 0,
        "height": 4,
        "hidden": false,
        "row": 0,
        "width": 4
       },
       "report_default": {
        "hidden": false
       }
      }
     }
    }
   },
   "source": [
    "# RiverWalk\n",
    "### Create map of a stream reach based on a specified NWIS site and range (up/down stream), including various feature layers derived from USGS NLDI navigation along the stream, its tributaries and associated drainage basins, while also extracting data into a database for further analysis (plotting and statistics)\n",
    "### TODO:\n",
    " * Finish dictionary of properties for NWIS gage queries\n",
    " * Add units to Measurement table\n",
    " * Create Basins table including all HUCs and drainage basins, both original and intersection with differential drainage basin (if different)\n",
    "   * Type = HUC6|8|10|12, PP_BASIN; Projected = T|F\n",
    " * Add unique keys to tables to avoid duplicates\n",
    "   * site_type + site_id in Site table\n",
    "   * site_id + property + datetime in Measurement table\n",
    "   * basin_type + basin_id in Basin table\n",
    " * Extend to HUC6, HUC8, and HUC10 intersections with differential drainage basin, from most downstream PP (largest) to most upstream PP (smallest)\n",
    "   * Include all HUC12s contained within HUC6 intersections above\n",
    " * Add EPA [HMS web services](https://www.epa.gov/ceam/hydrologic-micro-services-hm) to get NOAA NCEI weather stations/data and NLDAS, GLDAS, and TRMM gridded data sources for precipitation\n",
    "   * Project raster data onto differential drainage basin (like HydroGlobe or DeepLandMine) as transparent overlays\n",
    " * Add other raster layers (projected and transparent)\n",
    "   * LULC and DEM from USGS [The National Map](https://viewer.nationalmap.gov/services/)\n",
    "   * Land products from NASA [MIDAS](https://modis.gsfc.nasa.gov/data/) \n",
    " * Add EPA [WATERS web services](https://www.epa.gov/waterdata/upstreamdownstream-search-service) to get additional water quality related features:\n",
    "   * Features available:\n",
    "     * 303(d) Listed Impaired Waters\n",
    "     * 305(b) Assessed Waters\n",
    "     * Beaches\n",
    "     * Clean Watersheds Needs Survey\n",
    "     * Fish Consumption Advisories\n",
    "     * Fish Tissue Data\n",
    "     * Facility Registration Service Data\n",
    "     * Nonpoint Source Projects\n",
    "     * Facilities that Discharge to Water\n",
    "     * Monitoring Locations\n",
    "     * TMDLs on Impaired Waters\n",
    "     * USGS Streamgages\n",
    "   * All available in [GeoViewer](https://epa.maps.arcgis.com/apps/webappviewer/index.html)\n",
    "   * API: \n",
    "     * https://www.epa.gov/waterdata/upstreamdownstream-search-service\n",
    "     * https://ofmpub.epa.gov/waters10/UpstreamDownStream.Service \n",
    "     * Including Point-to-Point (PP) navigation/searching (using Start/Stop ComIDs)\n",
    " * Add option to retrieve only daily averages for time-series (gage) data, especially for longer date ranges"
   ]
  },
  {
   "cell_type": "markdown",
   "metadata": {},
   "source": [
    "<h2>Quick index:</h2>\n",
    "<ul>\n",
    "    <li><a href=#reach>Define River Reach</a></li>\n",
    "    <li><a href=#map>Go to Map</a></li>\n",
    "    <li><a href=#gage_plots>USGS Gage Plots</a></li>\n",
    "</ul>"
   ]
  },
  {
   "cell_type": "markdown",
   "metadata": {},
   "source": [
    "## Get things set up"
   ]
  },
  {
   "cell_type": "code",
   "execution_count": 253,
   "metadata": {},
   "outputs": [],
   "source": [
    "import os.path\n",
    "from os import path"
   ]
  },
  {
   "cell_type": "markdown",
   "metadata": {},
   "source": [
    "### Use full with of window in browser"
   ]
  },
  {
   "cell_type": "code",
   "execution_count": 254,
   "metadata": {},
   "outputs": [
    {
     "data": {
      "text/html": [
       "<style>.container { width:100% !important; }</style>"
      ],
      "text/plain": [
       "<IPython.core.display.HTML object>"
      ]
     },
     "metadata": {},
     "output_type": "display_data"
    }
   ],
   "source": [
    "from IPython.core.display import display, HTML\n",
    "display(HTML(\"<style>.container { width:100% !important; }</style>\"))"
   ]
  },
  {
   "cell_type": "markdown",
   "metadata": {},
   "source": [
    "### Enable use of Javascript"
   ]
  },
  {
   "cell_type": "code",
   "execution_count": 255,
   "metadata": {},
   "outputs": [],
   "source": [
    "from IPython.display import Javascript"
   ]
  },
  {
   "cell_type": "markdown",
   "metadata": {},
   "source": [
    "### Enable all variable displays within a cell\n",
    " * Terminate statement with semicolon or assign to a variable (\"X =\") to suppress output"
   ]
  },
  {
   "cell_type": "code",
   "execution_count": 256,
   "metadata": {},
   "outputs": [],
   "source": [
    "from IPython.core.interactiveshell import InteractiveShell\n",
    "InteractiveShell.ast_node_interactivity = \"all\""
   ]
  },
  {
   "cell_type": "markdown",
   "metadata": {
    "extensions": {
     "jupyter_dashboards": {
      "version": 1,
      "views": {
       "grid_default": {
        "col": 4,
        "height": 4,
        "hidden": false,
        "row": 0,
        "width": 4
       },
       "report_default": {
        "hidden": false
       }
      }
     }
    }
   },
   "source": [
    "### Enable numerical arrays and matrices with NumPy"
   ]
  },
  {
   "cell_type": "code",
   "execution_count": 257,
   "metadata": {
    "extensions": {
     "jupyter_dashboards": {
      "version": 1,
      "views": {
       "grid_default": {
        "hidden": true
       },
       "report_default": {
        "hidden": true
       }
      }
     }
    }
   },
   "outputs": [],
   "source": [
    "import numpy as np"
   ]
  },
  {
   "cell_type": "markdown",
   "metadata": {
    "extensions": {
     "jupyter_dashboards": {
      "version": 1,
      "views": {
       "grid_default": {
        "col": 4,
        "height": 4,
        "hidden": false,
        "row": 0,
        "width": 4
       },
       "report_default": {
        "hidden": false
       }
      }
     }
    }
   },
   "source": [
    "### Enable R-style DataFrames with Pandas"
   ]
  },
  {
   "cell_type": "code",
   "execution_count": 258,
   "metadata": {
    "extensions": {
     "jupyter_dashboards": {
      "version": 1,
      "views": {
       "grid_default": {
        "hidden": true
       },
       "report_default": {
        "hidden": true
       }
      }
     }
    }
   },
   "outputs": [],
   "source": [
    "import pandas as pd"
   ]
  },
  {
   "cell_type": "markdown",
   "metadata": {
    "extensions": {
     "jupyter_dashboards": {
      "version": 1,
      "views": {
       "grid_default": {
        "col": 4,
        "height": 4,
        "hidden": false,
        "row": 0,
        "width": 4
       },
       "report_default": {
        "hidden": false
       }
      }
     }
    }
   },
   "source": [
    "### Enable Math functions"
   ]
  },
  {
   "cell_type": "code",
   "execution_count": 259,
   "metadata": {
    "extensions": {
     "jupyter_dashboards": {
      "version": 1,
      "views": {
       "grid_default": {
        "hidden": true
       },
       "report_default": {
        "hidden": true
       }
      }
     }
    }
   },
   "outputs": [],
   "source": [
    "import math"
   ]
  },
  {
   "cell_type": "markdown",
   "metadata": {
    "extensions": {
     "jupyter_dashboards": {
      "version": 1,
      "views": {
       "grid_default": {
        "col": 4,
        "height": 4,
        "hidden": false,
        "row": 0,
        "width": 4
       },
       "report_default": {
        "hidden": false
       }
      }
     }
    }
   },
   "source": [
    "### Enable working with Dates and Times"
   ]
  },
  {
   "cell_type": "code",
   "execution_count": 260,
   "metadata": {
    "extensions": {
     "jupyter_dashboards": {
      "version": 1,
      "views": {
       "grid_default": {
        "hidden": true
       },
       "report_default": {
        "hidden": true
       }
      }
     }
    }
   },
   "outputs": [],
   "source": [
    "import time\n",
    "from datetime import datetime"
   ]
  },
  {
   "cell_type": "markdown",
   "metadata": {
    "extensions": {
     "jupyter_dashboards": {
      "version": 1,
      "views": {
       "grid_default": {
        "col": 4,
        "height": 4,
        "hidden": false,
        "row": 0,
        "width": 4
       },
       "report_default": {
        "hidden": false
       }
      }
     }
    }
   },
   "source": [
    "### Enable inline MATLAB-style plotting with MatPlotLib"
   ]
  },
  {
   "cell_type": "code",
   "execution_count": 261,
   "metadata": {
    "extensions": {
     "jupyter_dashboards": {
      "version": 1,
      "views": {
       "grid_default": {
        "hidden": true
       },
       "report_default": {
        "hidden": true
       }
      }
     }
    }
   },
   "outputs": [],
   "source": [
    "import matplotlib.pyplot as plt\n",
    "%matplotlib inline"
   ]
  },
  {
   "cell_type": "markdown",
   "metadata": {},
   "source": [
    "### Make plots (even matplotlib plots) prettier with Seaborn"
   ]
  },
  {
   "cell_type": "code",
   "execution_count": 262,
   "metadata": {
    "extensions": {
     "jupyter_dashboards": {
      "version": 1,
      "views": {
       "grid_default": {
        "hidden": true
       },
       "report_default": {
        "hidden": true
       }
      }
     }
    }
   },
   "outputs": [],
   "source": [
    "import seaborn as sbn"
   ]
  },
  {
   "cell_type": "markdown",
   "metadata": {
    "extensions": {
     "jupyter_dashboards": {
      "version": 1,
      "views": {
       "grid_default": {},
       "report_default": {
        "hidden": false
       }
      }
     }
    }
   },
   "source": [
    "### Enable interactive functions (especially plots) using iPyWidgets"
   ]
  },
  {
   "cell_type": "code",
   "execution_count": 263,
   "metadata": {
    "extensions": {
     "jupyter_dashboards": {
      "version": 1,
      "views": {
       "grid_default": {
        "hidden": true
       },
       "report_default": {
        "hidden": true
       }
      }
     }
    }
   },
   "outputs": [],
   "source": [
    "import ipywidgets as widgets\n",
    "from ipywidgets import interact, interactive, fixed, interact_manual"
   ]
  },
  {
   "cell_type": "markdown",
   "metadata": {
    "extensions": {
     "jupyter_dashboards": {
      "version": 1,
      "views": {
       "grid_default": {},
       "report_default": {
        "hidden": false
       }
      }
     }
    }
   },
   "source": [
    "### Enable geospatial DataFrames with GeoPandas (built on Fiona, which is built on GDAL/OGR)"
   ]
  },
  {
   "cell_type": "code",
   "execution_count": 264,
   "metadata": {
    "extensions": {
     "jupyter_dashboards": {
      "version": 1,
      "views": {
       "grid_default": {
        "hidden": true
       },
       "report_default": {
        "hidden": true
       }
      }
     }
    }
   },
   "outputs": [],
   "source": [
    "import geopandas as gpd"
   ]
  },
  {
   "cell_type": "markdown",
   "metadata": {},
   "source": [
    "### Enable other geospatial functions using Shapely"
   ]
  },
  {
   "cell_type": "code",
   "execution_count": 265,
   "metadata": {},
   "outputs": [],
   "source": [
    "import shapely\n",
    "from shapely.geometry import Point, Polygon"
   ]
  },
  {
   "cell_type": "markdown",
   "metadata": {
    "extensions": {
     "jupyter_dashboards": {
      "version": 1,
      "views": {
       "grid_default": {},
       "report_default": {
        "hidden": false
       }
      }
     }
    }
   },
   "source": [
    "### Enable geometry plotting for GeoPandas dataframe using Descartes (built on Shapely and MatPlotLib)"
   ]
  },
  {
   "cell_type": "code",
   "execution_count": 266,
   "metadata": {
    "extensions": {
     "jupyter_dashboards": {
      "version": 1,
      "views": {
       "grid_default": {
        "hidden": true
       },
       "report_default": {
        "hidden": true
       }
      }
     }
    }
   },
   "outputs": [],
   "source": [
    "import descartes"
   ]
  },
  {
   "cell_type": "markdown",
   "metadata": {
    "extensions": {
     "jupyter_dashboards": {
      "version": 1,
      "views": {
       "grid_default": {},
       "report_default": {
        "hidden": false
       }
      }
     }
    }
   },
   "source": [
    "### Enable Leatlet.JS-based mapping with Folium "
   ]
  },
  {
   "cell_type": "code",
   "execution_count": 267,
   "metadata": {
    "extensions": {
     "jupyter_dashboards": {
      "version": 1,
      "views": {
       "grid_default": {
        "hidden": true
       },
       "report_default": {
        "hidden": true
       }
      }
     }
    }
   },
   "outputs": [],
   "source": [
    "import folium\n",
    "from folium import IFrame\n",
    "import folium.plugins as plugins"
   ]
  },
  {
   "cell_type": "markdown",
   "metadata": {
    "extensions": {
     "jupyter_dashboards": {
      "version": 1,
      "views": {
       "grid_default": {},
       "report_default": {
        "hidden": false
       }
      }
     }
    }
   },
   "source": [
    "### Enable additional HTML features with Branca"
   ]
  },
  {
   "cell_type": "code",
   "execution_count": 268,
   "metadata": {
    "extensions": {
     "jupyter_dashboards": {
      "version": 1,
      "views": {
       "grid_default": {
        "hidden": true
       },
       "report_default": {
        "hidden": true
       }
      }
     }
    }
   },
   "outputs": [],
   "source": [
    "import branca"
   ]
  },
  {
   "cell_type": "markdown",
   "metadata": {},
   "source": [
    "### Enable HTTP requests and parsing of JSON results"
   ]
  },
  {
   "cell_type": "code",
   "execution_count": 269,
   "metadata": {},
   "outputs": [],
   "source": [
    "import requests\n",
    "import json"
   ]
  },
  {
   "cell_type": "markdown",
   "metadata": {},
   "source": [
    "### Enable SQL database access using SQLAlchemy (and GeoAlchemy)"
   ]
  },
  {
   "cell_type": "code",
   "execution_count": 270,
   "metadata": {},
   "outputs": [],
   "source": [
    "from sqlalchemy import create_engine  \n",
    "from sqlalchemy import Table, Column, Integer, String, Float, DateTime, MetaData  \n",
    "from sqlalchemy import select, func\n",
    "from sqlalchemy.ext.declarative import declarative_base  \n",
    "from sqlalchemy.event import listen\n",
    "from sqlalchemy.orm import sessionmaker, relationship, backref\n",
    "from geoalchemy2 import Geometry"
   ]
  },
  {
   "cell_type": "markdown",
   "metadata": {},
   "source": [
    "### Define some handy geometry functions"
   ]
  },
  {
   "cell_type": "code",
   "execution_count": 271,
   "metadata": {},
   "outputs": [],
   "source": [
    "def geom_distance(lat1, lon1, lat2, lon2):\n",
    "    R = 6378.137 # Radius of earth in KM\n",
    "    dLat = lat2 * math.pi / 180 - lat1 * math.pi / 180\n",
    "    dLon = lon2 * math.pi / 180 - lon1 * math.pi / 180\n",
    "    a = math.sin(dLat/2) * math.sin(dLat/2) + math.cos(lat1 * math.pi / 180) * math.cos(lat2 * math.pi / 180) * math.sin(dLon/2) * math.sin(dLon/2)\n",
    "    c = 2 * math.atan2(math.sqrt(a), math.sqrt(1-a))\n",
    "    d = R * c\n",
    "    return d # Km"
   ]
  },
  {
   "cell_type": "code",
   "execution_count": 272,
   "metadata": {},
   "outputs": [],
   "source": [
    "def geom_diagonal(geom):\n",
    "    lon1 = geom.total_bounds[0]\n",
    "    lat1 = geom.total_bounds[1]\n",
    "    lon2 = geom.total_bounds[2]\n",
    "    lat2 = geom.total_bounds[3]\n",
    "    d = geom_distance(lat1, lon1, lat2, lon2)\n",
    "    return d # Km"
   ]
  },
  {
   "cell_type": "code",
   "execution_count": 273,
   "metadata": {},
   "outputs": [],
   "source": [
    "def geom_extent(geom):\n",
    "    d2 = geom_width(geom)+geom_height(geom)\n",
    "    return d2 # Km"
   ]
  },
  {
   "cell_type": "code",
   "execution_count": 274,
   "metadata": {},
   "outputs": [],
   "source": [
    "def geom_height(geom):\n",
    "    lon1 = geom.total_bounds[0]\n",
    "    lat1 = geom.total_bounds[1]\n",
    "    lon2 = geom.total_bounds[2]\n",
    "    lat2 = geom.total_bounds[3]\n",
    "    h = geom_distance(lat1, lon1, lat2, lon1)\n",
    "    return h # Km"
   ]
  },
  {
   "cell_type": "code",
   "execution_count": 275,
   "metadata": {},
   "outputs": [],
   "source": [
    "def geom_width(geom):\n",
    "    lon1 = geom.total_bounds[0]\n",
    "    lat1 = geom.total_bounds[1]\n",
    "    lon2 = geom.total_bounds[2]\n",
    "    lat2 = geom.total_bounds[3]\n",
    "    w = geom_distance(lat1, lon1, lat1, lon2)\n",
    "    return w # Km"
   ]
  },
  {
   "cell_type": "code",
   "execution_count": 276,
   "metadata": {},
   "outputs": [],
   "source": [
    "def geom_bbox(geom):\n",
    "    polygon = gpd.GeoDataFrame(gpd.GeoSeries(geom.envelope), columns=['geometry'])\n",
    "    return polygon"
   ]
  },
  {
   "cell_type": "code",
   "execution_count": 277,
   "metadata": {},
   "outputs": [],
   "source": [
    "# In case CRS is different\n",
    "\n",
    "def geom_bbox2(geom):\n",
    "    lon_point_list = [geom.total_bounds[0],geom.total_bounds[2],geom.total_bounds[2],geom.total_bounds[0],geom.total_bounds[0]]\n",
    "    lat_point_list = [geom.total_bounds[1],geom.total_bounds[1],geom.total_bounds[3],geom.total_bounds[3],geom.total_bounds[1]]\n",
    "    polygon_geom = Polygon(zip(lon_point_list, lat_point_list))\n",
    "    crs = {'init': 'epsg:4326'}\n",
    "    polygon = gpd.GeoDataFrame(index=[0], crs=crs, geometry=[polygon_geom])    \n",
    "    return polygon"
   ]
  },
  {
   "cell_type": "code",
   "execution_count": 278,
   "metadata": {},
   "outputs": [],
   "source": [
    "# Try using the area of the total_bounds polygon in both degrees and meters to generate an approximate \"conversion\" factor\n",
    "\n",
    "def geom_area(geom):\n",
    "    factor = geom_width(geom)*geom_height(geom)/geom_bbox(geom).area\n",
    "    area = factor*geom.area\n",
    "    return area # Km^2"
   ]
  },
  {
   "cell_type": "code",
   "execution_count": 279,
   "metadata": {},
   "outputs": [],
   "source": [
    "# Use a cartesian projection coordinate system to get true area\n",
    "# *** Currently crashes kernel ***\n",
    "\n",
    "def geom_area2(geom):\n",
    "    geom_m = geom.to_crs(epsg=3857) # or 3395 (WGS 84 compliant)\n",
    "    # May need to use explicit definition for 3395: \n",
    "    #   proj4.defs(\"EPSG:3395\",\"+proj=merc +lon_0=0 +k=1 +x_0=0 +y_0=0 +datum=WGS84 +units=m +no_defs\")\n",
    "    a = geom_m.area/10**6\n",
    "    return a # Km^2"
   ]
  },
  {
   "cell_type": "markdown",
   "metadata": {},
   "source": [
    "### Create widgets for river reach definition"
   ]
  },
  {
   "cell_type": "code",
   "execution_count": null,
   "metadata": {},
   "outputs": [],
   "source": [
    "def run_all_below(ev):\n",
    "    display(Javascript('IPython.notebook.execute_cell_range(IPython.notebook.get_selected_index()+1, IPython.notebook.ncells())'))\n",
    "    \n",
    "run_button = widgets.Button(description=\" Rerun all cells below \", button_style='warning') \n",
    "run_button.on_click(run_all_below)\n",
    "\n",
    "start_date = datetime(datetime.now().year-3, 1, 1) # <== Earliest start date here\n",
    "end_date = datetime.now()\n",
    "dates = pd.date_range(start_date, end_date, freq='D')\n",
    "date_options = [(date.strftime(' %m/%d/%y '), date) for date in dates]\n",
    "date_index = (0, len(date_options)-1)\n",
    "\n",
    "date_range_slider = widgets.SelectionRangeSlider(\n",
    "    options=date_options,\n",
    "    index=date_index,\n",
    "    description = \"Date range: \",\n",
    "    orientation = 'horizontal',\n",
    "    layout = {'width': '500px'}\n",
    ")\n",
    "\n",
    "reach = widgets.VBox(\n",
    "    [\n",
    "        widgets.Label(\n",
    "            value='Select NWIS Station and range (Km):\\n'\n",
    "        ),\n",
    "        widgets.Dropdown(\n",
    "            options=[\n",
    "                ('Charleston','USGS-03198000'), # <== Add other NWIS stations here\n",
    "                ('Huntington','USGS-03206000')\n",
    "            ], \n",
    "            value='USGS-03198000', # <== Default goes here\n",
    "            description='NWIS Site:'\n",
    "        ),\n",
    "        widgets.IntSlider(\n",
    "            value=50,\n",
    "            min=0,\n",
    "            max=100,\n",
    "            step=5,\n",
    "            description='Upstream:',\n",
    "            disabled=False,\n",
    "            continuous_update=False,\n",
    "            orientation='horizontal',\n",
    "            readout=True,\n",
    "            readout_format='d'\n",
    "        ),\n",
    "        widgets.IntSlider(\n",
    "            value=25,\n",
    "            min=0,\n",
    "            max=100,\n",
    "            step=5,\n",
    "            description='Downstream:',\n",
    "            disabled=False,\n",
    "            continuous_update=False,\n",
    "            orientation='horizontal',\n",
    "            readout=True,\n",
    "            readout_format='d'\n",
    "        ),\n",
    "        date_range_slider,\n",
    "        widgets.Checkbox(\n",
    "            value=True,\n",
    "            description='Ignore dates for WQP data',\n",
    "            disabled=False\n",
    "        ),\n",
    "        widgets.Checkbox(\n",
    "            value=False,\n",
    "            description='Delete Database if Found',\n",
    "            disabled=False\n",
    "        ),\n",
    "        run_button\n",
    "    ]\n",
    ")\n",
    "reach.layout.border = 'solid'\n",
    "reach.layout.width ='50%'"
   ]
  },
  {
   "cell_type": "markdown",
   "metadata": {},
   "source": [
    "<div id='reach' />"
   ]
  },
  {
   "cell_type": "markdown",
   "metadata": {},
   "source": [
    "## Define the river reach "
   ]
  },
  {
   "cell_type": "code",
   "execution_count": 569,
   "metadata": {},
   "outputs": [
    {
     "data": {
      "application/vnd.jupyter.widget-view+json": {
       "model_id": "9706f5708bd24829a21f11d91f43efff",
       "version_major": 2,
       "version_minor": 0
      },
      "text/plain": [
       "VBox(children=(Label(value='Select NWIS Station and range (Km):\\n'), Dropdown(description='NWIS Site:', option…"
      ]
     },
     "metadata": {},
     "output_type": "display_data"
    }
   ],
   "source": [
    "display(reach)"
   ]
  },
  {
   "cell_type": "code",
   "execution_count": 514,
   "metadata": {},
   "outputs": [],
   "source": [
    "NWIS_SITE = reach.children[1].value\n",
    "UM_DIST = reach.children[2].value\n",
    "DM_DIST = reach.children[3].value\n",
    "BEGIN_DATE = reach.children[4].value[0]\n",
    "END_DATE = reach.children[4].value[1]\n",
    "IGNORE_WQP_DATES = reach.children[5].value\n",
    "DB_TO_BE_DELETED = reach.children[6].value"
   ]
  },
  {
   "cell_type": "code",
   "execution_count": 515,
   "metadata": {},
   "outputs": [
    {
     "name": "stdout",
     "output_type": "stream",
     "text": [
      "\n",
      "------------------------------------------------------------------------------------\n",
      "Reach ==> NWIS Station: USGS-03198000 + 50 Km upstream and 25 Km downstream\n",
      "Begin Date: 2017-01-01 00:00:00, End Date: 2020-05-29 00:00:00\n",
      "*** Data range to be ignored for WQP properties (get all)\n",
      "------------------------------------------------------------------------------------\n",
      "\n"
     ]
    }
   ],
   "source": [
    "print(\"\\n------------------------------------------------------------------------------------\")\n",
    "print(\"Reach ==> NWIS Station: {0} + {1} Km upstream and {2} Km downstream\".format(NWIS_SITE, UM_DIST, DM_DIST))\n",
    "print(\"Begin Date: {0}, End Date: {1}\".format(BEGIN_DATE,END_DATE))\n",
    "if (IGNORE_WQP_DATES): print(\"*** Data range to be ignored for WQP properties (get all)\")\n",
    "if (DB_TO_BE_DELETED): print(\"*** Database to be deleted and rebuilt if found\")\n",
    "print(\"------------------------------------------------------------------------------------\\n\")"
   ]
  },
  {
   "cell_type": "markdown",
   "metadata": {},
   "source": [
    "### URLs for REST Web Services"
   ]
  },
  {
   "cell_type": "code",
   "execution_count": 516,
   "metadata": {},
   "outputs": [],
   "source": [
    "USGS_NLDI_WS = \"https://labs.waterdata.usgs.gov/api/nldi/linked-data\" # USGS NLDI REST web services\n",
    "NWIS_SITE_URL = USGS_NLDI_WS+\"/nwissite/\"+NWIS_SITE \n",
    "NWIS_SITE_NAV = NWIS_SITE_URL+\"/navigate\"\n",
    "TNM_WS = \"https://hydro.nationalmap.gov/arcgis/rest/services\" # The National Map REST web services\n",
    "ARCGIS_WS = \"http://server.arcgisonline.com/arcgis/rest/services\" # ARCGIS Online REST web services"
   ]
  },
  {
   "cell_type": "markdown",
   "metadata": {},
   "source": [
    "### Set Input (optional) and Output Directories\n",
    "  * TODO: Need option to upload a file (for additional sites) to Input Directory"
   ]
  },
  {
   "cell_type": "code",
   "execution_count": 517,
   "metadata": {},
   "outputs": [],
   "source": [
    "IN_DIR = \"data/\"+NWIS_SITE\n",
    "OUT_DIR = IN_DIR+\"/out\""
   ]
  },
  {
   "cell_type": "markdown",
   "metadata": {},
   "source": [
    "### Create output directory if it does not already exist"
   ]
  },
  {
   "cell_type": "code",
   "execution_count": 518,
   "metadata": {},
   "outputs": [],
   "source": [
    "%mkdir -p {OUT_DIR}"
   ]
  },
  {
   "cell_type": "markdown",
   "metadata": {
    "extensions": {
     "jupyter_dashboards": {
      "version": 1,
      "views": {
       "grid_default": {
        "col": 0,
        "height": 4,
        "hidden": false,
        "row": 43,
        "width": 4
       },
       "report_default": {
        "hidden": false
       }
      }
     }
    }
   },
   "source": [
    "### Get Lat/Lon coordinates of starting site (NWIS station)"
   ]
  },
  {
   "cell_type": "code",
   "execution_count": 519,
   "metadata": {},
   "outputs": [],
   "source": [
    "nwis_site_json = gpd.read_file(NWIS_SITE_URL)\n",
    "nwis_site_geom = nwis_site_json.iloc[0]['geometry']\n",
    "nwis_site_coord = [nwis_site_geom.y, nwis_site_geom.x]"
   ]
  },
  {
   "cell_type": "markdown",
   "metadata": {},
   "source": [
    "### Set up a local file-based SQLite/Spatialite database\n",
    "* TODO: \n",
    "  * Only delete DB file if confirmed (e.g., known to be incomplete or invalid for some reason)"
   ]
  },
  {
   "cell_type": "code",
   "execution_count": 520,
   "metadata": {},
   "outputs": [],
   "source": [
    "spatialite_db_filename = \"spatialite_u{0:03d}d{1:03d}_{2:4d}{3:02d}{4:02d}_{5:4d}{6:02d}{7:02d}.db\".format(UM_DIST,DM_DIST,BEGIN_DATE.year,BEGIN_DATE.month,BEGIN_DATE.day,END_DATE.year,END_DATE.month,END_DATE.day)\n",
    "if os.path.isfile(OUT_DIR+'/'+spatialite_db_filename):\n",
    "    if (DB_TO_BE_DELETED):\n",
    "        os.remove(OUT_DIR+'/'+spatialite_db_filename)\n",
    "        DB_NOT_FOUND = True\n",
    "    else:\n",
    "        DB_NOT_FOUND = False\n",
    "else:\n",
    "    DB_NOT_FOUND = True\n",
    "spatialite_engine = create_engine('sqlite:///{0}/{1}'.format(OUT_DIR,spatialite_db_filename))"
   ]
  },
  {
   "cell_type": "code",
   "execution_count": 521,
   "metadata": {},
   "outputs": [],
   "source": [
    "def load_spatialite(dbapi_conn, connection_record):\n",
    "    dbapi_conn.enable_load_extension(True)\n",
    "    dbapi_conn.load_extension('/opt/conda/lib/mod_spatialite.so')\n",
    "    \n",
    "listen(spatialite_engine, 'connect', load_spatialite)"
   ]
  },
  {
   "cell_type": "code",
   "execution_count": 522,
   "metadata": {},
   "outputs": [],
   "source": [
    "spatialite_engine._metadata = MetaData(bind=spatialite_engine)\n",
    "spatialite_engine._metadata.reflect(spatialite_engine)"
   ]
  },
  {
   "cell_type": "code",
   "execution_count": 523,
   "metadata": {},
   "outputs": [],
   "source": [
    "spatialite_conn = spatialite_engine.connect()"
   ]
  },
  {
   "cell_type": "code",
   "execution_count": 524,
   "metadata": {},
   "outputs": [],
   "source": [
    "spatialite_conn.execute(select([func.InitSpatialMetaData()]));"
   ]
  },
  {
   "cell_type": "code",
   "execution_count": 525,
   "metadata": {},
   "outputs": [],
   "source": [
    "Base = declarative_base()\n",
    "\n",
    "class Site(Base):\n",
    "    __tablename__ = 'site'\n",
    "    id = Column(Integer, primary_key=True)\n",
    "    type = Column(String)\n",
    "    name = Column(String)\n",
    "    desc = Column(String)\n",
    "    url = Column(String)\n",
    "    comid = Column(String)\n",
    "    geom = Column(Geometry(geometry_type='POINT',management=True))\n",
    "\n",
    "if (DB_NOT_FOUND):\n",
    "    Site.__table__.create(spatialite_engine, checkfirst=True)"
   ]
  },
  {
   "cell_type": "code",
   "execution_count": 526,
   "metadata": {},
   "outputs": [],
   "source": [
    "class Measurement(Base):\n",
    "    __tablename__ = 'measurement'\n",
    "    id = Column(Integer, primary_key=True)\n",
    "    site_id = Column(String)\n",
    "    type = Column(String)\n",
    "    datetime = Column(DateTime)\n",
    "    property = Column(String)\n",
    "    value = Column(Float)\n",
    "    units = Column(String)\n",
    "\n",
    "if (DB_NOT_FOUND):\n",
    "    Measurement.__table__.create(spatialite_engine, checkfirst=True)"
   ]
  },
  {
   "cell_type": "code",
   "execution_count": 527,
   "metadata": {},
   "outputs": [],
   "source": [
    "Spatialite_Session = sessionmaker(bind=spatialite_engine)\n",
    "spatialite_session = Spatialite_Session()\n",
    "\n",
    "if (DB_NOT_FOUND):\n",
    "    anchor_site = Site(type='ANCHOR',name=NWIS_SITE,desc='Anchor site for reach',url=NWIS_SITE_URL,geom='POINT({0:.4f} {1:.4f})'.format(nwis_site_geom.x,nwis_site_geom.y))\n",
    "    spatialite_session.add(anchor_site)\n",
    "    spatialite_session.commit()"
   ]
  },
  {
   "cell_type": "markdown",
   "metadata": {
    "extensions": {
     "jupyter_dashboards": {
      "version": 1,
      "views": {
       "grid_default": {
        "col": 0,
        "height": 4,
        "hidden": false,
        "row": 43,
        "width": 4
       },
       "report_default": {
        "hidden": false
       }
      }
     }
    }
   },
   "source": [
    "## Generate map"
   ]
  },
  {
   "cell_type": "code",
   "execution_count": 528,
   "metadata": {
    "extensions": {
     "jupyter_dashboards": {
      "version": 1,
      "views": {
       "grid_default": {},
       "report_default": {
        "hidden": false
       }
      }
     }
    }
   },
   "outputs": [],
   "source": [
    "river_map = folium.Map(nwis_site_coord,zoom_start=10,tiles=None)\n",
    "plugins.ScrollZoomToggler().add_to(river_map);\n",
    "plugins.Fullscreen(\n",
    "    position='bottomright',\n",
    "    title='Full Screen',\n",
    "    title_cancel='Exit Full Screen',\n",
    "    force_separate_button=True\n",
    ").add_to(river_map);"
   ]
  },
  {
   "cell_type": "markdown",
   "metadata": {},
   "source": [
    "### Add NWIS and WQP sites within reach using NLDI web services at USGS"
   ]
  },
  {
   "cell_type": "code",
   "execution_count": 529,
   "metadata": {},
   "outputs": [],
   "source": [
    "# Popup parameters\n",
    "\n",
    "width = 500\n",
    "height = 120\n",
    "max_width = 1000\n",
    "\n",
    "# Main Stream\n",
    "\n",
    "folium.GeoJson(NWIS_SITE_NAV+\"/UM?distance=\"+str(UM_DIST),name=\"Main Stream (up)\",show=True,control=False).add_to(river_map);\n",
    "folium.GeoJson(NWIS_SITE_NAV+\"/DM?distance=\"+str(DM_DIST),name=\"Main Stream (down)\",show=True,control=False).add_to(river_map);\n",
    "\n",
    "# NWIS Sites\n",
    "\n",
    "fg_nwis = folium.FeatureGroup(name=\"USGS (NWIS) Sites\",overlay=True,show=False)\n",
    "color = 'darkred'\n",
    "icon = 'dashboard'\n",
    "        \n",
    "nwis_sites_dm = gpd.read_file(NWIS_SITE_NAV+\"/DM/nwissite?distance=\"+str(DM_DIST))\n",
    "nwis_sites_um = gpd.read_file(NWIS_SITE_NAV+\"/UM/nwissite?distance=\"+str(UM_DIST))\n",
    "nwis_sites = gpd.GeoDataFrame(pd.concat([nwis_sites_dm,nwis_sites_um], ignore_index=True), crs=nwis_sites_dm.crs) # TODO: eliminate duplicate for anchor site\n",
    "\n",
    "for i, nwis_site in nwis_sites.iterrows():\n",
    "    coord = [nwis_site.geometry.y,nwis_site.geometry.x]\n",
    "    label = 'NWIS Station: '+nwis_site.identifier\n",
    "    html = label\n",
    "    html += '<br>{0:s}'.format(nwis_site['name'])\n",
    "    html += '<br><a href=\\\"{0:s}\\\",target=\\\"_blank\\\">{1:s}</a>'.format(nwis_site.uri,nwis_site.uri)\n",
    "    html += '<br>Lat: {0:.4f}, Lon: {1:.4f}'.format(nwis_site.geometry.y,nwis_site.geometry.x)\n",
    "    html += '<br>Comid: {0:s}'.format(nwis_site.comid)\n",
    "    iframe = folium.IFrame(html,width=width,height=height)\n",
    "    popup = folium.Popup(iframe,max_width=max_width)\n",
    "    fg_nwis.add_child(folium.Marker(location=coord,icon=folium.Icon(color=color,icon=icon),popup=popup,tooltip=label));\n",
    "    \n",
    "    if (DB_NOT_FOUND):\n",
    "        nwis_site = Site(type='NWIS',name=nwis_site.identifier,desc=nwis_site['name'],url=nwis_site.uri,comid=nwis_site.comid, \\\n",
    "                         geom='POINT({0:.4f} {1:.4f})'.format(nwis_site.geometry.x,nwis_site.geometry.y))\n",
    "        spatialite_session.add(nwis_site)\n",
    "    \n",
    "if (DB_NOT_FOUND): spatialite_session.commit()\n",
    "        \n",
    "fg_nwis.add_to(river_map)\n",
    "\n",
    "# WQP Stations\n",
    "        \n",
    "fg_wqp = folium.FeatureGroup(name=\"WQP Stations\",overlay=True,show=False)\n",
    "color = 'darkgreen'\n",
    "radius = 3\n",
    "        \n",
    "wqp_sites_dm = gpd.read_file(NWIS_SITE_NAV+\"/DM/wqp?distance=\"+str(DM_DIST))\n",
    "wqp_sites_um = gpd.read_file(NWIS_SITE_NAV+\"/UM/wqp?distance=\"+str(UM_DIST))\n",
    "wqp_sites = gpd.GeoDataFrame(pd.concat([wqp_sites_dm,wqp_sites_um], ignore_index=True), crs=wqp_sites_dm.crs)\n",
    "\n",
    "for i, wqp_site in wqp_sites.iterrows():\n",
    "    coord = [wqp_site.geometry.y,wqp_site.geometry.x]\n",
    "    label = 'WQP Station: '+wqp_site.identifier\n",
    "    html = label\n",
    "    html += '<br>{0:s}'.format(wqp_site['name'])\n",
    "    html += '<br><a href=\\\"{0:s}\\\",target=\\\"_blank\\\">{1:s}</a>'.format(wqp_site.uri,wqp_site.uri)\n",
    "    html += '<br>Lat: {0:.4f}, Lon: {1:.4f}'.format(wqp_site.geometry.y,wqp_site.geometry.x)\n",
    "    html += '<br>Comid: {0:s}'.format(wqp_site.comid)\n",
    "    iframe = folium.IFrame(html,width=width,height=height)\n",
    "    popup = folium.Popup(iframe,max_width=max_width)\n",
    "    fg_wqp.add_child(folium.CircleMarker(location=coord,radius=radius,color=color,popup=popup,tooltip=label));\n",
    "    \n",
    "    if(DB_NOT_FOUND):\n",
    "        wqp_site = Site(type='WQP',name=wqp_site.identifier,desc=wqp_site['name'],url=wqp_site.uri,comid=wqp_site.comid, \\\n",
    "                        geom='POINT({0:.4f} {1:.4f})'.format(wqp_site.geometry.x,wqp_site.geometry.y))\n",
    "        spatialite_session.add(wqp_site)\n",
    "\n",
    "if (DB_NOT_FOUND): spatialite_session.commit()\n",
    "\n",
    "fg_wqp.add_to(river_map);"
   ]
  },
  {
   "cell_type": "markdown",
   "metadata": {},
   "source": [
    "### Add HUC12 Pour Points, *differential* drainage basins, HUC12 and HUC10 boundaries associated with each"
   ]
  },
  {
   "cell_type": "code",
   "execution_count": 530,
   "metadata": {},
   "outputs": [],
   "source": [
    "fg_huc12pp = folium.FeatureGroup(name=\"HUC12 Pour Points\",overlay=True,show=False)\n",
    "fg_basins = folium.FeatureGroup(name=\"Drainage Basins\",overlay=True,show=False)\n",
    "#fg_wbd8 = folium.FeatureGroup(name=\"HUC8 Boundaries\",overlay=True,show=False)\n",
    "fg_wbd10 = folium.FeatureGroup(name=\"HUC10 Boundaries\",overlay=True,show=False)\n",
    "fg_wbd12 = folium.FeatureGroup(name=\"HUC12 Boundaries\",overlay=True,show=False)\n",
    "\n",
    "#huc8_list = []\n",
    "huc10_list = []\n",
    "huc12_list = []\n",
    "\n",
    "color = 'darkblue'\n",
    "radius = 3\n",
    "        \n",
    "try:\n",
    "    huc12pp_sites_dm = gpd.read_file(NWIS_SITE_NAV+\"/DM/huc12pp?distance=\"+str(DM_DIST),driver='GeoJSON')\n",
    "except Exception as ex:\n",
    "    print(\"An exception of type {0} occurred. Arguments:\\n{1!r}\".format(type(ex).__name__, ex.args))\n",
    "    huc12pp_sites_dm = gpd.GeoDataFrame()\n",
    "    \n",
    "try:\n",
    "    huc12pp_sites_um = gpd.read_file(NWIS_SITE_NAV+\"/UM/huc12pp?distance=\"+str(UM_DIST),driver='GeoJSON')\n",
    "except Exception as ex:\n",
    "    print(\"An exception of type {0} occurred. Arguments:\\n{1!r}\".format(type(ex).__name__, ex.args))\n",
    "    huc12pp_sites_um = gpd.GeoDataFrame()\n",
    "    \n",
    "huc12pp_sites = gpd.GeoDataFrame(pd.concat([huc12pp_sites_dm,huc12pp_sites_um], ignore_index=True), crs=huc12pp_sites_dm.crs)\n",
    "\n",
    "n_segs = len(huc12pp_sites)-1\n",
    "\n",
    "# Sort sites by decreasing area of drainage basin\n",
    "def get_area(x):\n",
    "    x_basin = gpd.read_file(USGS_NLDI_WS+\"/comid/\"+x+\"/basin\")\n",
    "    return int(round(x_basin.iloc[0].geometry.area,3)*1000)  \n",
    "\n",
    "huc12pp_sites['area']=huc12pp_sites.apply(lambda x: get_area(x.comid), axis=1)\n",
    "huc12pp_sites.set_index(['area'],inplace=True,drop=True)\n",
    "huc12pp_sites.sort_index(inplace=True,ascending=False)\n",
    "\n",
    "i = 0\n",
    "\n",
    "for area, huc12pp_site in huc12pp_sites.iterrows():\n",
    "    \n",
    "    # Add to HUC12 PP to Site table in database\n",
    "    if (DB_NOT_FOUND):\n",
    "        huc12pp = Site(type='HUC12PP',name=huc12pp_site.identifier,desc=huc12pp_site['name'],url=huc12pp_site.uri,comid=huc12pp_site.comid, \\\n",
    "                       geom='POINT({0:.4f} {1:.4f})'.format(huc12pp_site.geometry.x,huc12pp_site.geometry.y))\n",
    "        spatialite_session.add(huc12pp)\n",
    "\n",
    "    # Get HUC12 PP drainage basin\n",
    "    basin_url = USGS_NLDI_WS+\"/comid/{0:s}/basin\".format(huc12pp_site.comid)\n",
    "    \n",
    "    try:\n",
    "        basin = gpd.read_file(basin_url,driver='GeoJSON')\n",
    "    except Exception as ex:\n",
    "        print(\"An exception of type {0} occurred. Arguments:\\n{1!r}\".format(type(ex).__name__, ex.args))\n",
    "        i = i + 1\n",
    "        continue\n",
    "\n",
    "    basin_area = geom_area(basin)\n",
    "    basin_diff_area = basin_area\n",
    "    \n",
    "    # Get HUC12 watershed boudary (WBD)\n",
    "    wbd12_url = TNM_WS+\"/wbd/MapServer/6/query?where=HUC12%3D%27{0:s}%27&outFields=NAME%2CHUC12%2CSHAPE_Length&f=geojson\".format(huc12pp_site.identifier)\n",
    "    \n",
    "    try:\n",
    "        wbd12 = gpd.read_file(wbd12_url,driver='GeoJSON')\n",
    "    except Exception as ex:\n",
    "        print(\"An exception of type {0} occurred. Arguments:\\n{1!r}\".format(type(ex).__name__, ex.args))\n",
    "        i = i + 1\n",
    "        continue\n",
    "\n",
    "    if i < n_segs:\n",
    "        # Add HUC12 boundary a feature layer\n",
    "        style_function = lambda x: {'color': 'darkgreen', 'weight': 1, 'fillColor': 'green', 'fillOpacity': 0.1}\n",
    "        highlight_function = lambda x: {'color':'yellow', 'weight':2}\n",
    "        tooltip = \"HUC12: {0:s} ({1:s}), Area: {2:.2f}\".format(wbd12.iloc[0].HUC12,wbd12.iloc[0].NAME,geom_area(wbd12)[0])\n",
    "        wbd12_feature = folium.GeoJson(wbd12.iloc[0].geometry,style_function=style_function,highlight_function=highlight_function,tooltip=tooltip)\n",
    "        fg_wbd12.add_child(wbd12_feature);        \n",
    "        huc12_list.append(huc12pp_site.identifier)\n",
    "\n",
    "    # Get HUC10 containing HUC12 and add that to another feature layer \n",
    "    huc10_identifier = huc12pp_site.identifier[:-2]\n",
    "\n",
    "    if (huc10_identifier not in huc10_list):\n",
    "        wbd10_url = TNM_WS+\"/wbd/MapServer/5/query?where=HUC10%3D%27{0:s}%27&outFields=NAME%2CHUC10%2CSHAPE_Length&f=geojson\".format(huc10_identifier)\n",
    "        try:\n",
    "            wbd10 = gpd.read_file(wbd10_url)\n",
    "        except:\n",
    "            pass\n",
    "        else:\n",
    "            basin_huc10_overlap = gpd.overlay(wbd10,basin,how='intersection')  \n",
    "\n",
    "            if i < n_segs:\n",
    "                style_function = lambda x: {'color': 'darkgreen', 'weight': 1, 'fillColor': 'green', 'fillOpacity': 0.05}\n",
    "                highlight_function = lambda x: {'color':'yellow', 'weight':2}\n",
    "                tooltip = \"HUC10: {0:s} ({1:s}), Area: {2:.2f}\".format(wbd10.iloc[0].HUC10,wbd10.iloc[0].NAME,geom_area(wbd10)[0])\n",
    "                wbd10_feature = folium.GeoJson(basin_huc10_overlap.iloc[0].geometry,style_function=style_function,highlight_function=highlight_function,tooltip=tooltip)\n",
    "                fg_wbd10.add_child(wbd10_feature);                 \n",
    "                huc10_list.append(huc10_identifier)\n",
    "\n",
    "#     # Get HUC8 containing HUC12 and add that to another feature layer \n",
    "#     huc8_identifier = huc12pp_site.identifier[:-4]\n",
    "\n",
    "#     if (huc8_identifier not in huc8_list):\n",
    "#         wbd8_url = TNM_WS+\"/wbd/MapServer/4/query?where=HUC8%3D%27{0:s}%27&outFields=NAME%2CHUC8%2CSHAPE_Length&f=geojson\".format(huc8_identifier)\n",
    "#         try:\n",
    "#             wbd8 = gpd.read_file(wbd8_url)\n",
    "#         except:\n",
    "#             pass\n",
    "#         else:\n",
    "#             basin_huc8_overlap = gpd.overlay(wbd8,basin,how='intersection')  \n",
    "\n",
    "#             if i < n_segs:\n",
    "#                 style_function = lambda x: {'color': 'darkgreen', 'weight': 1, 'fillColor': 'green', 'fillOpacity': 0.05}\n",
    "#                 highlight_function = lambda x: {'color':'yellow', 'weight':2}\n",
    "#                 tooltip = \"HUC8: {0:s} ({1:s}), Area: {2:.2f}\".format(wbd8.iloc[0].HUC8,wbd8.iloc[0].NAME,geom_area(wbd8)[0])\n",
    "#                 wbd8_feature = folium.GeoJson(basin_huc8_overlap.iloc[0].geometry,style_function=style_function,highlight_function=highlight_function,tooltip=tooltip)\n",
    "#                 fg_wbd8.add_child(wbd8_feature);                 \n",
    "#                 huc8_list.append(huc8_identifier)\n",
    "\n",
    "    if i > 0:\n",
    "        # Generate and show difference (polygon) between sussessive drainage basins\n",
    "        basin_diff = gpd.overlay(basin_prev,basin,how='difference')  \n",
    "        basin_diff_area = geom_area(basin_diff)\n",
    "        style_function = lambda x: {'color': 'red', 'weight': 1, 'fillColor': 'blue', 'fillOpacity': 0.1}\n",
    "        highlight_function = lambda x: {'color':'yellow', 'weight':3}\n",
    "        tooltip = \"Differential Drainage Basin for HUC12 Pour Point: {0:s} ({1:s}), Area: {2:.2f}\".format(wbd12.iloc[0].HUC12,wbd12.iloc[0].NAME,basin_diff_area[0])\n",
    "        basin_diff_feature = folium.GeoJson(basin_diff.iloc[0].geometry.buffer(-0.001).buffer(0.001),style_function=style_function,highlight_function=highlight_function,tooltip=tooltip)\n",
    "        fg_basins.add_child(basin_diff_feature);\n",
    "        \n",
    "        if i == n_segs:\n",
    "            # Show large basin of first (highest upstream) pour point\n",
    "            style_function = lambda x: {'color': 'gray', 'weight': 1, 'fillColor': 'gray', 'fillOpacity': 0.1}\n",
    "            highlight_function = lambda x: {'color':'yellow', 'weight':1}\n",
    "            tooltip = \"Total Drainage Basin for HUC12 Pour Point: {0:s} ({1:s}), Area: {2:.2f}\".format(wbd12.iloc[0].HUC12,wbd12.iloc[0].NAME,basin_area[0])\n",
    "            basin_feature = folium.GeoJson(basin.iloc[0].geometry,style_function=style_function,highlight_function=highlight_function,tooltip=tooltip)\n",
    "            fg_basins.add_child(basin_feature);\n",
    "            \n",
    "    basin_prev = basin\n",
    "\n",
    "    # HUC12 Pour Point markers\n",
    "    coord = [huc12pp_site.geometry.y,huc12pp_site.geometry.x]\n",
    "    label = 'Pour Point for HUC12: '+wbd12.iloc[0].NAME\n",
    "    html = label\n",
    "    html += '<br>Indentifier: {0:s}'.format(huc12pp_site.identifier)\n",
    "    html += '<br>Lat: {0:.2f}, Lon: {1:.2f}'.format(huc12pp_site.geometry.y,huc12pp_site.geometry.x)\n",
    "    html += '<br>Comid: {0:s}'.format(huc12pp_site.comid)\n",
    "    html += '<br>Area Total: {0:.2f}'.format(basin_area[0])\n",
    "    html += '<br>Area Difference: {0:.2f}'.format(basin_diff_area[0])\n",
    "    iframe = folium.IFrame(html,width=width,height=height)\n",
    "    popup = folium.Popup(iframe,max_width=max_width)\n",
    "    fg_huc12pp.add_child(folium.CircleMarker(location=coord,radius=radius,color=color,popup=popup,tooltip=label));\n",
    "    \n",
    "    i = i + 1\n",
    "    \n",
    "if (DB_NOT_FOUND): spatialite_session.commit()\n",
    "\n",
    "fg_huc12pp.add_to(river_map);\n",
    "fg_basins.add_to(river_map);\n",
    "#fg_wbd8.add_to(river_map);\n",
    "fg_wbd10.add_to(river_map);\n",
    "fg_wbd12.add_to(river_map);"
   ]
  },
  {
   "cell_type": "markdown",
   "metadata": {},
   "source": [
    "### Identify other HUC10s that are contained in the same HUC8 as the HUC12 Pour Point and the associated drainage basin"
   ]
  },
  {
   "cell_type": "code",
   "execution_count": 531,
   "metadata": {},
   "outputs": [],
   "source": [
    "# i = 0\n",
    "# n_segs = len(huc12pp_sites)\n",
    "\n",
    "# for area, huc12pp_site in huc12pp_sites.iterrows():\n",
    "#     if i >= n_segs - 1:\n",
    "#         break\n",
    "        \n",
    "#     basin_url = USGS_NLDI_WS+\"/comid/{0:s}/basin\".format(huc12pp_site.comid)    \n",
    "#     try:\n",
    "#         basin = gpd.read_file(basin_url,driver='GeoJSON')\n",
    "#     except:\n",
    "#         i = i + 1\n",
    "#         continue\n",
    "\n",
    "#     # Get HUC10 watershed boundaries sharing the same HUC8\n",
    "#     huc10_plus_url = TNM_WS+\"/wbd/MapServer/5/query?where=HUC10%20LIKE%20%27{0:s}%25%27&outFields=NAME%2CHUC10%2CSHAPE_Length&f=geojson\".format(huc12pp_site.identifier[:-4])\n",
    "\n",
    "#     try:\n",
    "#         huc10_plus = gpd.read_file(huc10_plus_url,driver='GeoJSON')\n",
    "#     except:\n",
    "#         i = i + 1\n",
    "#         continue\n",
    "        \n",
    "#     huc10_basin_overlap = gpd.overlay(huc10_plus,basin,how='intersection')\n",
    "    \n",
    "#     if (not huc10_basin_overlap.empty):\n",
    "#         for k, huc10_in_basin in huc10_basin_overlap.iterrows():\n",
    "#             huc10_wbd_url = TNM_WS+\"/wbd/MapServer/5/query?where=HUC10%3D%27{0:s}%27&outFields=NAME%2CHUC10%2CSHAPE_Length&f=geojson\".format(huc10_in_basin.HUC10)\n",
    "#             huc10_wbd = gpd.read_file(huc10_wbd_url,driver='GeoJSON')\n",
    "#             huc10_overlap = gpd.overlay(huc10_wbd,basin,how='intersection')\n",
    "#             if ((not huc10_overlap.empty) and (huc10_overlap.iloc[0].geometry.area > 0.001) and (huc10_in_basin.HUC10 not in huc10_list)):\n",
    "#                 huc10_list.append(huc10_in_basin.HUC10)                        \n",
    "#     i = i + 1"
   ]
  },
  {
   "cell_type": "markdown",
   "metadata": {},
   "source": [
    "### Add HUC12s that are contained in the same HUC10 as the HUC12 Pour Point and its associated drainage basin"
   ]
  },
  {
   "cell_type": "code",
   "execution_count": 532,
   "metadata": {},
   "outputs": [],
   "source": [
    "fg_huc12_plus = folium.FeatureGroup(name=\"Other HUC12s in HUC10\",overlay=True,show=False)\n",
    "        \n",
    "i = 0\n",
    "n_segs = len(huc12pp_sites)\n",
    "\n",
    "for area, huc12pp_site in huc12pp_sites.iterrows():\n",
    "    if i >= n_segs - 1:\n",
    "        break\n",
    "        \n",
    "    basin_url = USGS_NLDI_WS+\"/comid/{0:s}/basin\".format(huc12pp_site.comid)    \n",
    "    try:\n",
    "        basin = gpd.read_file(basin_url,driver='GeoJSON')\n",
    "    except:\n",
    "        i = i + 1\n",
    "        continue\n",
    "\n",
    "    # Get HUC12 watershed boundaries sharing the same HUC10\n",
    "    huc12_plus_url = TNM_WS+\"/wbd/MapServer/6/query?where=HUC12%20LIKE%20%27{0:s}%25%27&outFields=NAME%2CHUC12%2CSHAPE_Length&f=geojson\".format(huc12pp_site.identifier[:-2])\n",
    "\n",
    "    try:\n",
    "        huc12_plus = gpd.read_file(huc12_plus_url,driver='GeoJSON')\n",
    "    except:\n",
    "        i = i + 1\n",
    "        continue\n",
    "        \n",
    "    huc12_basin_overlap = gpd.overlay(huc12_plus,basin,how='intersection')\n",
    "    \n",
    "    if (not huc12_basin_overlap.empty):\n",
    "        for k, huc12_in_basin in huc12_basin_overlap.iterrows():\n",
    "            huc12_wbd_url = TNM_WS+\"/wbd/MapServer/6/query?where=HUC12%3D%27{0:s}%27&outFields=NAME%2CHUC12%2CSHAPE_Length&f=geojson\".format(huc12_in_basin.HUC12)\n",
    "            huc12_wbd = gpd.read_file(huc12_wbd_url,driver='GeoJSON')\n",
    "            huc12_overlap = gpd.overlay(huc12_wbd,basin,how='intersection')\n",
    "            if ((not huc12_overlap.empty) and (huc12_overlap.iloc[0].geometry.area > 0.001) and (huc12_in_basin.HUC12 not in huc12_list)):\n",
    "                huc12_list.append(huc12_in_basin.HUC12)\n",
    "                # Add HUC12 WBD boundary\n",
    "                style_function = lambda x: {'color': 'darkgreen', 'weight': 1, 'fillColor': 'green', 'fillOpacity': 0.05}\n",
    "                highlight_function = lambda x: {'color':'yellow', 'weight':2}\n",
    "                tooltip = \"HUC12: {0:s} ({1:s}), Area: {2:.2f}\".format(huc12_wbd.iloc[0].HUC12,huc12_wbd.iloc[0].NAME,geom_area(huc12_wbd)[0])\n",
    "                huc12_plus_feature = folium.GeoJson(huc12_wbd.iloc[0].geometry,style_function=style_function,highlight_function=highlight_function,tooltip=tooltip)\n",
    "                fg_huc12_plus.add_child(huc12_plus_feature);        \n",
    "                        \n",
    "    i = i + 1\n",
    "\n",
    "fg_huc12_plus.add_to(river_map);"
   ]
  },
  {
   "cell_type": "markdown",
   "metadata": {},
   "source": [
    "### Add HUC12s that are contained in nearby HUC10s (in same HUC8 as the HUC12 Pour Point) and in the associated drainage basin\n",
    "* TODO: How to exclude more distant HUC10s?"
   ]
  },
  {
   "cell_type": "markdown",
   "metadata": {},
   "source": [
    "### Add tributaries upstream of HUC12 Pour Points"
   ]
  },
  {
   "cell_type": "code",
   "execution_count": 533,
   "metadata": {},
   "outputs": [],
   "source": [
    "fg_utpp = folium.FeatureGroup(name=\"Tribs upstream of PPs\",overlay=True,show=False)\n",
    "\n",
    "for huc12 in huc12_list:\n",
    "    wbd12_url = TNM_WS+\"/wbd/MapServer/6/query?where=HUC12%3D%27{0:s}%27&f=geojson\".format(huc12)\n",
    "    \n",
    "    try:\n",
    "        wbd12 = gpd.read_file(wbd12_url)\n",
    "    except:\n",
    "        continue\n",
    "        \n",
    "    distance = int(round(geom_diagonal(wbd12),0)) # May need to exend for winding streams\n",
    "    #distance = 35\n",
    "    tribs = folium.GeoJson(USGS_NLDI_WS+\"/huc12pp/{0:s}/navigate/UT?distance={1:d}\".format(huc12,distance))\n",
    "    fg_utpp.add_child(tribs);\n",
    "    \n",
    "fg_utpp.add_to(river_map);"
   ]
  },
  {
   "cell_type": "markdown",
   "metadata": {},
   "source": [
    "### Add water quality (WQP) properties"
   ]
  },
  {
   "cell_type": "code",
   "execution_count": 534,
   "metadata": {},
   "outputs": [],
   "source": [
    "wqp_begin_date = \"{0:02d}-{1:02d}-{2:4d}\".format(BEGIN_DATE.month,BEGIN_DATE.day,BEGIN_DATE.year)\n",
    "wqp_end_date = \"{0:02d}-{1:02d}-{2:4d}\".format(END_DATE.month,END_DATE.day,END_DATE.year)"
   ]
  },
  {
   "cell_type": "code",
   "execution_count": 535,
   "metadata": {},
   "outputs": [],
   "source": [
    "if (DB_NOT_FOUND):\n",
    "    wqp_sites = spatialite_session.query(Site).filter_by(type='WQP')\n",
    "\n",
    "    for wqp_site in wqp_sites:\n",
    "        if (IGNORE_WQP_DATES):\n",
    "            wqp_properties = pd.read_csv(\"https://www.waterqualitydata.us/data/Result/search?siteid=\"+wqp_site.name+\"&mimeType=csv\")\n",
    "        else:\n",
    "            wqp_properties = pd.read_csv(\"https://www.waterqualitydata.us/data/Result/search?siteid=\"+wqp_site.name+\"&startDateLo=\"+wqp_begin_date+\"&startDateHi=\"+wqp_end_date+\"&mimeType=csv\")\n",
    "\n",
    "        for i, wqp_property in wqp_properties.iterrows():\n",
    "            try:\n",
    "                this_property = wqp_property['CharacteristicName']\n",
    "                this_value = float(wqp_property['ResultMeasureValue'])\n",
    "                this_datetime = datetime.strptime(wqp_property['ActivityStartDate']+' '+wqp_property['ActivityStartTime/Time'],\"%Y-%m-%d %H:%M:%S\")\n",
    "                measurement = Measurement(site_id=wqp_site.name,type='DISCRETE',datetime=this_datetime,property=this_property,value=this_value)\n",
    "                spatialite_session.add(measurement)\n",
    "            except Exception as ex:\n",
    "                #print(\"An exception of type {0} occurred. Arguments:\\n{1!r}\".format(type(ex).__name__, ex.args))\n",
    "                continue\n",
    "        \n",
    "    spatialite_session.commit()"
   ]
  },
  {
   "cell_type": "code",
   "execution_count": 536,
   "metadata": {},
   "outputs": [],
   "source": [
    "wqp_property_table = pd.read_sql_query('select site_id as Site, ST_X(geom) as Lon, ST_Y(geom) as Lat, property as Property, value as Value from measurement join site on site.name = site_id', spatialite_engine)\n",
    "wqp_property_table = wqp_property_table[wqp_property_table['Value'].notna()]"
   ]
  },
  {
   "cell_type": "code",
   "execution_count": 537,
   "metadata": {},
   "outputs": [],
   "source": [
    "wqp_summary_table = pd.read_sql_query('select site_id as Site, ST_X(geom) as Lon, ST_Y(geom) as Lat, property as Property, count(value) as Count, min(value) as Min, max(value) as Max, avg(value) as Avg from measurement join site on site.name = site_id group by site_id, property', spatialite_engine)\n",
    "wqp_summary_table = wqp_summary_table[wqp_summary_table['Avg'].notna()]"
   ]
  },
  {
   "cell_type": "code",
   "execution_count": 538,
   "metadata": {},
   "outputs": [],
   "source": [
    "wqp_property_counts = wqp_property_table.groupby('Property').count()\n",
    "#n_sites = wqp_sites.count()\n",
    "wqp_top_properties = wqp_property_counts[wqp_property_counts[\"Site\"]>3].sort_values('Site',ascending=False).index \n",
    "#wqp_top_properties"
   ]
  },
  {
   "cell_type": "code",
   "execution_count": 539,
   "metadata": {
    "extensions": {
     "jupyter_dashboards": {
      "version": 1,
      "views": {
       "grid_default": {
        "hidden": true
       },
       "report_default": {
        "hidden": true
       }
      }
     }
    }
   },
   "outputs": [],
   "source": [
    "def val2color(value,min_value,max_value):\n",
    "    clip_value = np.clip(value,min_value,max_value)\n",
    "    hue = int((clip_value-min_value)/(max_value-min_value)*255)\n",
    "    red = hue\n",
    "    green = 255 - 2*abs(hue-128)\n",
    "    blue = 255 - hue\n",
    "    return '#{0:02X}{1:02X}{2:02X}'.format(red,green,blue)\n",
    "\n",
    "fg_wqp_properties = folium.FeatureGroup(name='WQP Properties',overlay=True,show=True)\n",
    "_ = fg_wqp_properties.add_to(river_map);\n",
    "\n",
    "max_properties = 15 # maximum number of properties to map\n",
    "n_props = 0\n",
    "for wqp_top_property in wqp_top_properties:\n",
    "    if (n_props > max_properties):\n",
    "        break;\n",
    "    avg_val = wqp_property_table.query(\"Property == '\"+wqp_top_property+\"'\")['Value'].mean()\n",
    "    min_val = wqp_property_table.query(\"Property == '\"+wqp_top_property+\"'\")['Value'].min()\n",
    "    max_val = wqp_property_table.query(\"Property == '\"+wqp_top_property+\"'\")['Value'].max()\n",
    "    std_val = wqp_property_table.query(\"Property == '\"+wqp_top_property+\"'\")['Value'].std()\n",
    "\n",
    "    try:\n",
    "        if (math.isnan(avg_val) or math.isnan(std_val) or math.isnan(min_val) or math.isnan(max_val)):\n",
    "            continue\n",
    "    except:\n",
    "        continue\n",
    "\n",
    "    n_props = n_props + 1\n",
    "    width = 500\n",
    "    height = 90\n",
    "    max_width = 1000 \n",
    "    sfg_wqp_property = folium.plugins.FeatureGroupSubGroup(fg_wqp_properties,name=wqp_top_property[:20],overlay=True,show=False);\n",
    "\n",
    "    wqp_site_summary = wqp_summary_table.query(\"Property == '\"+wqp_top_property+\"'\")\n",
    "    \n",
    "    for i, wqp_site in wqp_site_summary.iterrows():\n",
    "        try:\n",
    "            if (math.isnan(wqp_site.Avg)):\n",
    "                continue\n",
    "        except:\n",
    "            continue\n",
    "        coord = [wqp_site.Lat,wqp_site.Lon]\n",
    "        value = float(wqp_site.Avg)\n",
    "        #radius = 5\n",
    "        z_value = (value-avg_val)/std_val\n",
    "        radius = min(7+2*abs(z_value),15)\n",
    "        color = val2color(z_value,-2.0,2.0)\n",
    "        fill_color = color\n",
    "        label = \"{0:s}: {1:s} = {2:.2f}\".format(wqp_site.Site,wqp_top_property,value)\n",
    "        html = label\n",
    "        #html += '<br>min = {0:.2f}, max = {1:.2f}'.format(min_val,max_val)\n",
    "        #html += '<br>color = '+color\n",
    "        html += '<br>'+wqp_site.Site\n",
    "        #html += '<br>'+row.Description\n",
    "        html += '<br>Lat: {0:.2f}'.format(wqp_site.Lat)+', Lon: {0:.2f}'.format(wqp_site.Lon)\n",
    "        iframe = folium.IFrame(html,width=width,height=height)\n",
    "        popup = folium.Popup(iframe,max_width=max_width)\n",
    "        _ = sfg_wqp_property.add_child(folium.CircleMarker(location=coord,radius=radius,color=color,opacity=0.7,fill=True,fill_color=fill_color,fill_opacity=0.7,popup=popup,tooltip=label));\n",
    "    _ = sfg_wqp_property.add_to(river_map);"
   ]
  },
  {
   "cell_type": "markdown",
   "metadata": {},
   "source": [
    "### Add built-in basemaps"
   ]
  },
  {
   "cell_type": "code",
   "execution_count": 540,
   "metadata": {
    "extensions": {
     "jupyter_dashboards": {
      "version": 1,
      "views": {
       "grid_default": {},
       "report_default": {
        "hidden": false
       }
      }
     }
    }
   },
   "outputs": [],
   "source": [
    "folium.TileLayer('StamenTerrain').add_to(river_map);\n",
    "folium.TileLayer('OpenStreetMap').add_to(river_map);"
   ]
  },
  {
   "cell_type": "markdown",
   "metadata": {
    "extensions": {
     "jupyter_dashboards": {
      "version": 1,
      "views": {
       "grid_default": {},
       "report_default": {
        "hidden": false
       }
      }
     }
    }
   },
   "source": [
    "### Add other basemap options using Map Servers at  ArcGIS Online"
   ]
  },
  {
   "cell_type": "code",
   "execution_count": 541,
   "metadata": {
    "extensions": {
     "jupyter_dashboards": {
      "version": 1,
      "views": {
       "grid_default": {},
       "report_default": {
        "hidden": true
       }
      }
     }
    }
   },
   "outputs": [],
   "source": [
    "mapserver_dict = dict(\n",
    "    NatGeo_World_Map=ARCGIS_WS+'/NatGeo_World_Map/MapServer',\n",
    "    World_Street_Map=ARCGIS_WS+'/World_Street_Map/MapServer',\n",
    "    World_Imagery=ARCGIS_WS+'/World_Imagery/MapServer',\n",
    "    World_Topo_Map=ARCGIS_WS+'/World_Topo_Map/MapServer',\n",
    "    World_Shaded_Relief=ARCGIS_WS+'/World_Shaded_Relief/MapServer',\n",
    "    World_Terrain_Base=ARCGIS_WS+'/World_Terrain_Base/MapServer',\n",
    "#   World_Physical_Map=ARCGIS_WS+'/World_Physical_Map/MapServer',  # only shows if zoomed out\n",
    ")\n",
    "mapserver_query = '/MapServer/tile/{z}/{y}/{x}'\n",
    "\n",
    "for tile_name, tile_url in mapserver_dict.items():\n",
    "    tile_url += mapserver_query\n",
    "    _ = folium.TileLayer(tile_url,name=tile_name,attr=tile_name).add_to(river_map);"
   ]
  },
  {
   "cell_type": "markdown",
   "metadata": {
    "extensions": {
     "jupyter_dashboards": {
      "version": 1,
      "views": {
       "grid_default": {},
       "report_default": {
        "hidden": false
       }
      }
     }
    }
   },
   "source": [
    "### Add the Layer Control widget"
   ]
  },
  {
   "cell_type": "code",
   "execution_count": 542,
   "metadata": {
    "extensions": {
     "jupyter_dashboards": {
      "version": 1,
      "views": {
       "grid_default": {},
       "report_default": {
        "hidden": false
       }
      }
     }
    }
   },
   "outputs": [],
   "source": [
    "folium.LayerControl().add_to(river_map);"
   ]
  },
  {
   "cell_type": "markdown",
   "metadata": {
    "extensions": {
     "jupyter_dashboards": {
      "version": 1,
      "views": {
       "grid_default": {},
       "report_default": {
        "hidden": false
       }
      }
     }
    }
   },
   "source": [
    "### Save the map as HTML"
   ]
  },
  {
   "cell_type": "code",
   "execution_count": 543,
   "metadata": {
    "extensions": {
     "jupyter_dashboards": {
      "version": 1,
      "views": {
       "grid_default": {},
       "report_default": {
        "hidden": true
       }
      }
     }
    }
   },
   "outputs": [],
   "source": [
    "river_map.save(OUT_DIR+'/river_map.html')"
   ]
  },
  {
   "cell_type": "markdown",
   "metadata": {},
   "source": [
    "<div id='map' />"
   ]
  },
  {
   "cell_type": "markdown",
   "metadata": {
    "extensions": {
     "jupyter_dashboards": {
      "version": 1,
      "views": {
       "grid_default": {},
       "report_default": {
        "hidden": false
       }
      }
     }
    }
   },
   "source": [
    "## Display Map"
   ]
  },
  {
   "cell_type": "code",
   "execution_count": 544,
   "metadata": {
    "extensions": {
     "jupyter_dashboards": {
      "version": 1,
      "views": {
       "grid_default": {
        "col": 0,
        "height": 21,
        "hidden": false,
        "row": 51,
        "width": 10
       },
       "report_default": {
        "hidden": false
       }
      }
     }
    },
    "scrolled": false
   },
   "outputs": [
    {
     "data": {
      "text/html": [
       "\n",
       "        <iframe\n",
       "            width=\"1500\"\n",
       "            height=\"750\"\n",
       "            src=\"data/USGS-03198000/out/river_map.html\"\n",
       "            frameborder=\"0\"\n",
       "            allowfullscreen\n",
       "        ></iframe>\n",
       "        "
      ],
      "text/plain": [
       "<IPython.lib.display.IFrame at 0x7fc3c2f8db70>"
      ]
     },
     "execution_count": 544,
     "metadata": {},
     "output_type": "execute_result"
    }
   ],
   "source": [
    "from IPython.display import IFrame\n",
    "IFrame(OUT_DIR+\"/river_map.html\", width=1500, height=750)"
   ]
  },
  {
   "cell_type": "markdown",
   "metadata": {},
   "source": [
    "## USGS Gage Data"
   ]
  },
  {
   "cell_type": "markdown",
   "metadata": {},
   "source": [
    "### Get NWIS Sites (USGS Gage Stations) from database created for this river reach"
   ]
  },
  {
   "cell_type": "code",
   "execution_count": 582,
   "metadata": {},
   "outputs": [],
   "source": [
    "nwis_sites = spatialite_session.query(Site).filter_by(type='NWIS')"
   ]
  },
  {
   "cell_type": "code",
   "execution_count": 583,
   "metadata": {},
   "outputs": [],
   "source": [
    "site_names = []\n",
    "for site in nwis_sites:\n",
    "    site_names.append(site.name)\n",
    "#site_names"
   ]
  },
  {
   "cell_type": "markdown",
   "metadata": {
    "extensions": {
     "jupyter_dashboards": {
      "version": 1,
      "views": {
       "grid_default": {
        "hidden": true
       },
       "report_default": {
        "hidden": true
       }
      }
     }
    }
   },
   "source": [
    "### Get NWIS (USGS) Gage data directly from USGS (WaterData) web services \n",
    "* TODO:\n",
    "  * Create dictionary of property codes, names, descriptions from\n",
    "    * https://help.waterdata.usgs.gov/codes-and-parameters/parameters\n",
    "* Available properties varies with gage\n",
    "* Order out does not match order of params in\n",
    "* Can use dv instead of uv to get daily summary data (no timezone field)\n",
    "* Can also receive data in WaterML and JSON formats\n",
    "* See: \n",
    "  * https://nwis.waterdata.usgs.gov/usa/nwis, https://waterservices.usgs.gov/rest/"
   ]
  },
  {
   "cell_type": "markdown",
   "metadata": {},
   "source": [
    "#### Attempt at manually constructed property dictionary"
   ]
  },
  {
   "cell_type": "code",
   "execution_count": 584,
   "metadata": {},
   "outputs": [],
   "source": [
    "parameter_codes = {\n",
    "     '72254' : {'name' : 'Velocity FPS', 'description' : 'Water velocity reading from field sensor, feet per second'},\n",
    "     '72255' : {'name' : 'Meam V', 'description' : 'Mean water velocity for discharge computation, feet per second'},\n",
    "     '00060' : {'name' : 'Discharge CFPS', 'description' : 'Discharge, cubic feet per second'},\n",
    "     '00011' : {'name' : 'Temperature-ADMV F', 'description' : 'Temperature, water, degrees Fahrenheit, ADVM'},\n",
    "     '00065' : {'name' : 'Gage height Ft', 'description' : 'Gage height, feet'},\n",
    "     '00010' : {'name' : 'Temperature C', 'description' : 'Temperature, water, degrees Celsius'},\n",
    "     '00400' : {'name' : 'pH', 'description' : 'pH, water, unfiltered, field, standard units'},\n",
    "     '00095' : {'name' : 'sp Cond uS/Cm', 'description' : 'Specific conductance, water, unfiltered, microsiemens per centimeter at 25 degrees Celsius'},\n",
    "     '00300' : {'name' : 'DO mg/L', 'description' : 'Dissolved oxygen, water, unfiltered, milligrams per liter'},\n",
    "     '63680' : {'name' : 'Turbitity FNU', 'description' : 'Turbidity, water, unfiltered, monochrome near infra-red LED light, 780-900 nm, detection angle 90 +-2.5 degrees, formazin nephelometric units (FNU)'},\n",
    "     '99133' : {'name' : 'Nitrate mg/L', 'description' : 'Nitrate plus nitrite, water, in situ, milligrams per liter as nitrogen'}\n",
    "}"
   ]
  },
  {
   "cell_type": "markdown",
   "metadata": {},
   "source": [
    "#### Try building dictionary from parameter code query results\n",
    " * TODO:\n",
    "   * Need way to generate short names for column headers\n",
    "   * Need way to filter/shorten list\n",
    "##### Other parameter groups available\n",
    "* ALL   All - include all parameter groups\n",
    "* INF   Information\n",
    "* PHY   Physical\n",
    "* INM   Inorganics, Major, Metals\n",
    "* INN   Inorganics, Major Non-metals\n",
    "* NUT   Nutrient\n",
    "* MBI   Microbiological\n",
    "* BIO   Biological\n",
    "* IMM   Inorganics, Minor, metals\n",
    "* IMN   Inorganics, Minor, Non-metals\n",
    "* TOX   Toxicity\n",
    "* OPE   Organics, pesticide\n",
    "* OPC   Organics, PCBs\n",
    "* OOT   Organics, other\n",
    "* RAD   Radiochemistry\n",
    "* ISO   Stable Isotopes\n",
    "* SED   Sediment\n",
    "* POP   Population/Community\n",
    "* OTH   Other\n",
    "* HAB   Habitat"
   ]
  },
  {
   "cell_type": "code",
   "execution_count": 585,
   "metadata": {},
   "outputs": [],
   "source": [
    "PHY_codes = pd.read_csv(\"https://help.waterdata.usgs.gov/code/parameter_cd_query?fmt=rdb&group_cd=PHY\",sep='\\t',comment='#',header=0,skiprows=[8],index_col=0,dtype={0:object})\n",
    "PHY_codes_dict = PHY_codes['parm_nm'].to_dict()"
   ]
  },
  {
   "cell_type": "markdown",
   "metadata": {},
   "source": [
    "#### Get data from NWIS and put in database if not already"
   ]
  },
  {
   "cell_type": "code",
   "execution_count": 586,
   "metadata": {},
   "outputs": [],
   "source": [
    "if (DB_NOT_FOUND):\n",
    "    \n",
    "    nwis_begin_date = \"{0}-{1}-{2}\".format(BEGIN_DATE.year,BEGIN_DATE.month,BEGIN_DATE.day)\n",
    "    nwis_end_date = \"{0}-{1}-{2}\".format(END_DATE.year,END_DATE.month,END_DATE.day)\n",
    "\n",
    "    for nwis_site in nwis_sites:\n",
    "        nwis_rt_stream = pd.read_csv(\"https://nwis.waterdata.usgs.gov/usa/nwis/uv/\"+ \\\n",
    "                        \"?site_no=\"+nwis_site.name[5:]+ \\\n",
    "                        \"&period=&begin_date=\"+nwis_begin_date+\"&end_date=\"+nwis_end_date+ \\\n",
    "                        \"&cb_00065=on\"+ \\\n",
    "                        \"&format=rdb\", \\\n",
    "                       sep='\\t',comment='#',header=[0,1], \\\n",
    "                       dtype={1:object, 4:float}, \\\n",
    "                       na_values=['Eqp'])\n",
    "        nwis_rt_stream = nwis_rt_stream.reset_index()\n",
    "        nwis_rt_stream.columns = ['Index', 'Agency', 'Site', 'DateTime', 'TZ', 'Gage height', 'qa'] # TODO: Need to lookup property name from a dictionary\n",
    "#        nwis_rt_stream = nwis_rt_stream.drop(nwis_rt_stream.columns[6:8:2],axis=1) # TODO: set upper limit based on number of properties requested/returned\n",
    "#        nwis_rt_stream = nwis_rt_stream.drop(['Index','Agency','Site','TZ'],axis=1)\n",
    "        \n",
    "        for i, nwis_measurement in nwis_rt_stream.iterrows():\n",
    "            try:\n",
    "                value = float(nwis_measurement['Gage height'])\n",
    "            except:\n",
    "                continue\n",
    "                \n",
    "            measurement = Measurement(site_id=nwis_measurement['Site'],type='REALTIME',datetime=datetime.strptime(nwis_measurement['DateTime'],\"%Y-%m-%d %H:%M\"),property='Gage height',value=value)\n",
    "            spatialite_session.add(measurement)\n",
    "\n",
    "        spatialite_session.commit()"
   ]
  },
  {
   "cell_type": "code",
   "execution_count": 587,
   "metadata": {},
   "outputs": [],
   "source": [
    "nwis_measurements = pd.read_sql_query(\"select 'USGS-' || site_id as Site, datetime as Datetime, property as Property, value as Value from measurement where measurement.type='REALTIME'\", spatialite_engine)\n",
    "nwis_measurements = nwis_measurements[nwis_measurements['Value'].notna()]"
   ]
  },
  {
   "cell_type": "markdown",
   "metadata": {},
   "source": [
    "#### Index by Date-time"
   ]
  },
  {
   "cell_type": "code",
   "execution_count": 588,
   "metadata": {
    "extensions": {
     "jupyter_dashboards": {
      "version": 1,
      "views": {
       "grid_default": {
        "hidden": true
       },
       "report_default": {
        "hidden": true
       }
      }
     }
    }
   },
   "outputs": [],
   "source": [
    "def datetime_nwis(row):\n",
    "    pattern = '%Y-%m-%d %H:%M:%S.%f'\n",
    "    dt = row['Datetime']\n",
    "    return pd.to_datetime(time.mktime(time.strptime(dt,pattern)),unit='s')\n",
    "    \n",
    "nwis_measurements['DateTime'] = nwis_measurements.apply(lambda row: datetime_nwis(row),axis=1)\n",
    "nwis_measurements = nwis_measurements.set_index(['DateTime'])"
   ]
  },
  {
   "cell_type": "code",
   "execution_count": 589,
   "metadata": {
    "extensions": {
     "jupyter_dashboards": {
      "version": 1,
      "views": {
       "grid_default": {
        "hidden": true
       },
       "report_default": {
        "hidden": true
       }
      }
     }
    }
   },
   "outputs": [],
   "source": [
    "nwis_measurements['Year'] = nwis_measurements.index.year\n",
    "nwis_measurements['Month'] = nwis_measurements.index.month"
   ]
  },
  {
   "cell_type": "code",
   "execution_count": 590,
   "metadata": {},
   "outputs": [],
   "source": [
    "nwis_site_counts = nwis_measurements.groupby('Site').count()\n",
    "measurement_counts = nwis_measurements.groupby('Property').count()"
   ]
  },
  {
   "cell_type": "markdown",
   "metadata": {},
   "source": [
    "<div id='gage_plots'></div>"
   ]
  },
  {
   "cell_type": "markdown",
   "metadata": {},
   "source": [
    "## USGS Gage Plots"
   ]
  },
  {
   "cell_type": "markdown",
   "metadata": {},
   "source": [
    "### Distribution plots"
   ]
  },
  {
   "cell_type": "code",
   "execution_count": 591,
   "metadata": {
    "extensions": {
     "jupyter_dashboards": {
      "version": 1,
      "views": {
       "grid_default": {
        "hidden": true
       },
       "report_default": {
        "hidden": true
       }
      }
     }
    }
   },
   "outputs": [
    {
     "data": {
      "application/vnd.jupyter.widget-view+json": {
       "model_id": "01ae84e539a648e29d8ca4298b73969e",
       "version_major": 2,
       "version_minor": 0
      },
      "text/plain": [
       "interactive(children=(Dropdown(description='Site', options=('USGS-03198000',), value='USGS-03198000'), Dropdow…"
      ]
     },
     "metadata": {},
     "output_type": "display_data"
    }
   ],
   "source": [
    "def dist_plot_ts_gage(Site,Property,Kind='kde'):\n",
    "    nwis_measurements.query(\"(Site == '\"+Site+\"') & (Property == '\"+Property+\"')\")['Value'].plot(kind=Kind,color='blue')\n",
    "        \n",
    "interact(dist_plot_ts_gage, \\\n",
    "         Site=nwis_site_counts.index, \\\n",
    "         Property=measurement_counts.index, \\\n",
    "         Kind=['hist','kde','box'] \\\n",
    "        );"
   ]
  },
  {
   "cell_type": "markdown",
   "metadata": {},
   "source": [
    "#### Disable scrolling for time-serie plots"
   ]
  },
  {
   "cell_type": "code",
   "execution_count": 592,
   "metadata": {},
   "outputs": [
    {
     "data": {
      "application/javascript": [
       "IPython.OutputArea.prototype._should_scroll = function(lines) {\n",
       "    return false;\n",
       "}\n"
      ],
      "text/plain": [
       "<IPython.core.display.Javascript object>"
      ]
     },
     "metadata": {},
     "output_type": "display_data"
    }
   ],
   "source": [
    "%%javascript\n",
    "IPython.OutputArea.prototype._should_scroll = function(lines) {\n",
    "    return false;\n",
    "}"
   ]
  },
  {
   "cell_type": "markdown",
   "metadata": {},
   "source": [
    "### Time-series plots\n",
    "* TODO: also look at Bokeh for a stand-alone HTML plot"
   ]
  },
  {
   "cell_type": "code",
   "execution_count": 593,
   "metadata": {
    "extensions": {
     "jupyter_dashboards": {
      "version": 1,
      "views": {
       "grid_default": {
        "hidden": true
       },
       "report_default": {
        "hidden": true
       }
      }
     }
    }
   },
   "outputs": [
    {
     "data": {
      "application/vnd.jupyter.widget-view+json": {
       "model_id": "7851b87d6c794b01a6dce8170ff89211",
       "version_major": 2,
       "version_minor": 0
      },
      "text/plain": [
       "interactive(children=(Dropdown(description='Property', options=('Gage height',), value='Gage height'), Output(…"
      ]
     },
     "metadata": {},
     "output_type": "display_data"
    }
   ],
   "source": [
    "def plot_ts_gage(Property=measurement_counts.index[0]):\n",
    "    nrows = len(nwis_site_counts.index)\n",
    "    fig, ax = plt.subplots(nrows=nrows,ncols=1,figsize=(20,5*nrows))\n",
    "    i = 0\n",
    "    for site in nwis_site_counts.index:\n",
    "        if (nrows > 1):\n",
    "            nwis_measurements.query(\"(Site == '\"+site+\"') & (Property == '\"+Property+\"')\")['Value'].plot(ax=ax[i],drawstyle='steps-post',legend=True,color='blue')\n",
    "            ax[i].legend([site],loc='upper left')\n",
    "            i = i+1\n",
    "        else:\n",
    "            nwis_measurements.query(\"(Site == '\"+site+\"') & (Property == '\"+Property+\"')\")['Value'].plot(ax=ax,drawstyle='steps-post',legend=True,color='blue')\n",
    "            ax.legend([site],loc='upper left')        \n",
    "            \n",
    "interact(plot_ts_gage, \\\n",
    "         Property=measurement_counts.index, \\\n",
    "        );"
   ]
  },
  {
   "cell_type": "markdown",
   "metadata": {},
   "source": [
    "### Monthly box & whisker plots"
   ]
  },
  {
   "cell_type": "code",
   "execution_count": 594,
   "metadata": {},
   "outputs": [
    {
     "data": {
      "application/vnd.jupyter.widget-view+json": {
       "model_id": "900649c6fbe247bf8e9be9b86b628585",
       "version_major": 2,
       "version_minor": 0
      },
      "text/plain": [
       "interactive(children=(Dropdown(description='Site', options=('USGS-03198000',), value='USGS-03198000'), Dropdow…"
      ]
     },
     "metadata": {},
     "output_type": "display_data"
    }
   ],
   "source": [
    "# Using MatPlotLib\n",
    "def gage_box_plots(Site,Property):\n",
    "    fig, ax = plt.subplots(nrows=1,ncols=1,figsize=(20,5),sharex=True)\n",
    "    custom_means = dict(marker='D', markeredgecolor='black', markerfacecolor='firebrick')\n",
    "    custom_box = dict(linestyle='-', linewidth=2, color='darkgoldenrod')\n",
    "    nwis_measurements.query(\"(Site == '\"+Site+\"') & (Property == '\"+Property+\"')\").boxplot(ax=ax,column=['Value'],by=['Year','Month'],grid=False,meanprops=custom_means,showmeans=True,meanline=False,boxprops=custom_box)\n",
    "    ax.set_title(Property+' @ '+Site, fontsize=16)\n",
    "    plt.suptitle('')\n",
    "    plt.xticks(rotation='vertical')\n",
    "            \n",
    "interact(gage_box_plots,\n",
    "         Site=nwis_site_counts.index, \\\n",
    "         Property=measurement_counts.index \\\n",
    "        );"
   ]
  },
  {
   "cell_type": "code",
   "execution_count": 595,
   "metadata": {},
   "outputs": [
    {
     "data": {
      "application/vnd.jupyter.widget-view+json": {
       "model_id": "b5b5f95dc0f34cb2be1d3be9ebd38f92",
       "version_major": 2,
       "version_minor": 0
      },
      "text/plain": [
       "interactive(children=(Dropdown(description='Site', options=('USGS-03198000',), value='USGS-03198000'), Dropdow…"
      ]
     },
     "metadata": {},
     "output_type": "display_data"
    }
   ],
   "source": [
    "# Year-to-year comparisons using Seaborn\n",
    "def gage_box_plots2(Site,Property):\n",
    "    fig, ax = plt.subplots(nrows=1,ncols=1,figsize=(20,5),sharex=True)\n",
    "    sbn.boxplot(ax = ax, data=nwis_measurements.query(\"(Site == '\"+Site+\"') & (Property == '\"+Property+\"')\"), y='Value', x='Month', hue='Year')\n",
    "    ax.set_title(Property+' @ '+Site, fontsize=16)\n",
    "    plt.suptitle('')\n",
    "    plt.xticks(np.arange(0, 12),['Jan','Feb','Mar','Apr','May','Jun','Jul','Aug','Sep','Oct','Nov','Dec'])\n",
    "                \n",
    "interact(gage_box_plots2, \\\n",
    "         Site=nwis_site_counts.index, \\\n",
    "         Property=measurement_counts.index \\\n",
    "        );"
   ]
  }
 ],
 "metadata": {
  "extensions": {
   "jupyter_dashboards": {
    "activeView": "report_default",
    "version": 1,
    "views": {
     "grid_default": {
      "cellMargin": 10,
      "defaultCellHeight": 20,
      "maxColumns": 12,
      "name": "grid",
      "type": "grid"
     },
     "report_default": {
      "name": "report",
      "type": "report"
     }
    }
   }
  },
  "kernelspec": {
   "display_name": "Python 3",
   "language": "python",
   "name": "python3"
  },
  "language_info": {
   "codemirror_mode": {
    "name": "ipython",
    "version": 3
   },
   "file_extension": ".py",
   "mimetype": "text/x-python",
   "name": "python",
   "nbconvert_exporter": "python",
   "pygments_lexer": "ipython3",
   "version": "3.7.3"
  }
 },
 "nbformat": 4,
 "nbformat_minor": 4
}
