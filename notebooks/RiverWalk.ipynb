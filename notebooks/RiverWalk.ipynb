{
 "cells": [
  {
   "cell_type": "markdown",
   "metadata": {
    "extensions": {
     "jupyter_dashboards": {
      "version": 1,
      "views": {
       "grid_default": {
        "col": 0,
        "height": 4,
        "hidden": false,
        "row": 0,
        "width": 4
       },
       "report_default": {
        "hidden": false
       }
      }
     }
    }
   },
   "source": [
    "# Create map of a stream reach based on a specified NWIS site and range, including various feature layers derived from USGS NLDI navigation along the stream, its tributaries and associated drainage basins, while also extracting data for further analysis (plotting and statistics)"
   ]
  },
  {
   "cell_type": "markdown",
   "metadata": {},
   "source": [
    "<h2>Quick index:</h2>\n",
    "<ul>\n",
    "    <li><a href=#reach>Define River Reach</a></li>\n",
    "    <li><a href=#map>Go to Map</a></li>\n",
    "    <li><a href=#water_quality_map>Water Quality Property Map</a></li>\n",
    "    <li><a href=#gage_selection>USGS Gage Selection for Plots</a></li>\n",
    "    <li><a href=#gage_selection>USGS Gage Plots</a></li>\n",
    "</ul>"
   ]
  },
  {
   "cell_type": "markdown",
   "metadata": {},
   "source": [
    "## Get things set up"
   ]
  },
  {
   "cell_type": "code",
   "execution_count": 377,
   "metadata": {},
   "outputs": [],
   "source": [
    "import os.path\n",
    "from os import path"
   ]
  },
  {
   "cell_type": "markdown",
   "metadata": {},
   "source": [
    "### Use full with of window in browser"
   ]
  },
  {
   "cell_type": "code",
   "execution_count": 378,
   "metadata": {},
   "outputs": [
    {
     "data": {
      "text/html": [
       "<style>.container { width:100% !important; }</style>"
      ],
      "text/plain": [
       "<IPython.core.display.HTML object>"
      ]
     },
     "metadata": {},
     "output_type": "display_data"
    }
   ],
   "source": [
    "from IPython.core.display import display, HTML\n",
    "display(HTML(\"<style>.container { width:100% !important; }</style>\"))"
   ]
  },
  {
   "cell_type": "markdown",
   "metadata": {},
   "source": [
    "### Enable use of Javascript"
   ]
  },
  {
   "cell_type": "code",
   "execution_count": 379,
   "metadata": {},
   "outputs": [],
   "source": [
    "from IPython.display import Javascript"
   ]
  },
  {
   "cell_type": "markdown",
   "metadata": {},
   "source": [
    "### Enable all variable displays within a cell\n",
    " * Terminate statement with semicolon or assign to a variable (\"X =\") to suppress output"
   ]
  },
  {
   "cell_type": "code",
   "execution_count": 380,
   "metadata": {},
   "outputs": [],
   "source": [
    "from IPython.core.interactiveshell import InteractiveShell\n",
    "InteractiveShell.ast_node_interactivity = \"all\""
   ]
  },
  {
   "cell_type": "markdown",
   "metadata": {
    "extensions": {
     "jupyter_dashboards": {
      "version": 1,
      "views": {
       "grid_default": {
        "col": 4,
        "height": 4,
        "hidden": false,
        "row": 0,
        "width": 4
       },
       "report_default": {
        "hidden": false
       }
      }
     }
    }
   },
   "source": [
    "### Enable numerical arrays and matrices with NumPy"
   ]
  },
  {
   "cell_type": "code",
   "execution_count": 381,
   "metadata": {
    "extensions": {
     "jupyter_dashboards": {
      "version": 1,
      "views": {
       "grid_default": {
        "hidden": true
       },
       "report_default": {
        "hidden": true
       }
      }
     }
    }
   },
   "outputs": [],
   "source": [
    "import numpy as np"
   ]
  },
  {
   "cell_type": "markdown",
   "metadata": {
    "extensions": {
     "jupyter_dashboards": {
      "version": 1,
      "views": {
       "grid_default": {
        "col": 4,
        "height": 4,
        "hidden": false,
        "row": 0,
        "width": 4
       },
       "report_default": {
        "hidden": false
       }
      }
     }
    }
   },
   "source": [
    "### Enable R-style DataFrames with Pandas"
   ]
  },
  {
   "cell_type": "code",
   "execution_count": 382,
   "metadata": {
    "extensions": {
     "jupyter_dashboards": {
      "version": 1,
      "views": {
       "grid_default": {
        "hidden": true
       },
       "report_default": {
        "hidden": true
       }
      }
     }
    }
   },
   "outputs": [],
   "source": [
    "import pandas as pd"
   ]
  },
  {
   "cell_type": "markdown",
   "metadata": {
    "extensions": {
     "jupyter_dashboards": {
      "version": 1,
      "views": {
       "grid_default": {
        "col": 4,
        "height": 4,
        "hidden": false,
        "row": 0,
        "width": 4
       },
       "report_default": {
        "hidden": false
       }
      }
     }
    }
   },
   "source": [
    "### Enable Math functions"
   ]
  },
  {
   "cell_type": "code",
   "execution_count": 383,
   "metadata": {
    "extensions": {
     "jupyter_dashboards": {
      "version": 1,
      "views": {
       "grid_default": {
        "hidden": true
       },
       "report_default": {
        "hidden": true
       }
      }
     }
    }
   },
   "outputs": [],
   "source": [
    "import math"
   ]
  },
  {
   "cell_type": "markdown",
   "metadata": {
    "extensions": {
     "jupyter_dashboards": {
      "version": 1,
      "views": {
       "grid_default": {
        "col": 4,
        "height": 4,
        "hidden": false,
        "row": 0,
        "width": 4
       },
       "report_default": {
        "hidden": false
       }
      }
     }
    }
   },
   "source": [
    "### Enable working with Dates and Times"
   ]
  },
  {
   "cell_type": "code",
   "execution_count": 384,
   "metadata": {
    "extensions": {
     "jupyter_dashboards": {
      "version": 1,
      "views": {
       "grid_default": {
        "hidden": true
       },
       "report_default": {
        "hidden": true
       }
      }
     }
    }
   },
   "outputs": [],
   "source": [
    "import time\n",
    "from datetime import datetime"
   ]
  },
  {
   "cell_type": "markdown",
   "metadata": {
    "extensions": {
     "jupyter_dashboards": {
      "version": 1,
      "views": {
       "grid_default": {
        "col": 4,
        "height": 4,
        "hidden": false,
        "row": 0,
        "width": 4
       },
       "report_default": {
        "hidden": false
       }
      }
     }
    }
   },
   "source": [
    "### Enable inline MATLAB-style plotting with MatPlotLib"
   ]
  },
  {
   "cell_type": "code",
   "execution_count": 385,
   "metadata": {
    "extensions": {
     "jupyter_dashboards": {
      "version": 1,
      "views": {
       "grid_default": {
        "hidden": true
       },
       "report_default": {
        "hidden": true
       }
      }
     }
    }
   },
   "outputs": [],
   "source": [
    "import matplotlib.pyplot as plt\n",
    "%matplotlib inline"
   ]
  },
  {
   "cell_type": "markdown",
   "metadata": {},
   "source": [
    "### Make plots (even matplotlib plots) prettier with Seaborn"
   ]
  },
  {
   "cell_type": "code",
   "execution_count": 386,
   "metadata": {
    "extensions": {
     "jupyter_dashboards": {
      "version": 1,
      "views": {
       "grid_default": {
        "hidden": true
       },
       "report_default": {
        "hidden": true
       }
      }
     }
    }
   },
   "outputs": [],
   "source": [
    "import seaborn as sbn"
   ]
  },
  {
   "cell_type": "markdown",
   "metadata": {
    "extensions": {
     "jupyter_dashboards": {
      "version": 1,
      "views": {
       "grid_default": {},
       "report_default": {
        "hidden": false
       }
      }
     }
    }
   },
   "source": [
    "### Enable interactive functions (especially plots) using iPyWidgets"
   ]
  },
  {
   "cell_type": "code",
   "execution_count": 387,
   "metadata": {
    "extensions": {
     "jupyter_dashboards": {
      "version": 1,
      "views": {
       "grid_default": {
        "hidden": true
       },
       "report_default": {
        "hidden": true
       }
      }
     }
    }
   },
   "outputs": [],
   "source": [
    "import ipywidgets as widgets\n",
    "from ipywidgets import interact, interactive, fixed, interact_manual"
   ]
  },
  {
   "cell_type": "markdown",
   "metadata": {
    "extensions": {
     "jupyter_dashboards": {
      "version": 1,
      "views": {
       "grid_default": {},
       "report_default": {
        "hidden": false
       }
      }
     }
    }
   },
   "source": [
    "### Enable geospatial DataFrames with GeoPandas (built on Fiona, which is built on GDAL/OGR)"
   ]
  },
  {
   "cell_type": "code",
   "execution_count": 388,
   "metadata": {
    "extensions": {
     "jupyter_dashboards": {
      "version": 1,
      "views": {
       "grid_default": {
        "hidden": true
       },
       "report_default": {
        "hidden": true
       }
      }
     }
    }
   },
   "outputs": [],
   "source": [
    "import geopandas as gpd"
   ]
  },
  {
   "cell_type": "markdown",
   "metadata": {},
   "source": [
    "### Enable other geospatial functions using Shapely"
   ]
  },
  {
   "cell_type": "code",
   "execution_count": 389,
   "metadata": {},
   "outputs": [],
   "source": [
    "import shapely\n",
    "from shapely.geometry import Point, Polygon"
   ]
  },
  {
   "cell_type": "markdown",
   "metadata": {
    "extensions": {
     "jupyter_dashboards": {
      "version": 1,
      "views": {
       "grid_default": {},
       "report_default": {
        "hidden": false
       }
      }
     }
    }
   },
   "source": [
    "### Enable geometry plotting for GeoPandas dataframe using Descartes (built on Shapely and MatPlotLib)"
   ]
  },
  {
   "cell_type": "code",
   "execution_count": 390,
   "metadata": {
    "extensions": {
     "jupyter_dashboards": {
      "version": 1,
      "views": {
       "grid_default": {
        "hidden": true
       },
       "report_default": {
        "hidden": true
       }
      }
     }
    }
   },
   "outputs": [],
   "source": [
    "import descartes"
   ]
  },
  {
   "cell_type": "markdown",
   "metadata": {
    "extensions": {
     "jupyter_dashboards": {
      "version": 1,
      "views": {
       "grid_default": {},
       "report_default": {
        "hidden": false
       }
      }
     }
    }
   },
   "source": [
    "### Enable Leatlet.JS-based mapping with Folium "
   ]
  },
  {
   "cell_type": "code",
   "execution_count": 391,
   "metadata": {
    "extensions": {
     "jupyter_dashboards": {
      "version": 1,
      "views": {
       "grid_default": {
        "hidden": true
       },
       "report_default": {
        "hidden": true
       }
      }
     }
    }
   },
   "outputs": [],
   "source": [
    "import folium\n",
    "from folium import IFrame\n",
    "import folium.plugins as plugins"
   ]
  },
  {
   "cell_type": "markdown",
   "metadata": {
    "extensions": {
     "jupyter_dashboards": {
      "version": 1,
      "views": {
       "grid_default": {},
       "report_default": {
        "hidden": false
       }
      }
     }
    }
   },
   "source": [
    "### Enable additional HTML features with Branca"
   ]
  },
  {
   "cell_type": "code",
   "execution_count": 392,
   "metadata": {
    "extensions": {
     "jupyter_dashboards": {
      "version": 1,
      "views": {
       "grid_default": {
        "hidden": true
       },
       "report_default": {
        "hidden": true
       }
      }
     }
    }
   },
   "outputs": [],
   "source": [
    "import branca"
   ]
  },
  {
   "cell_type": "markdown",
   "metadata": {},
   "source": [
    "### Enable HTTP requests and parsing of JSON results"
   ]
  },
  {
   "cell_type": "code",
   "execution_count": 393,
   "metadata": {},
   "outputs": [],
   "source": [
    "import requests\n",
    "import json"
   ]
  },
  {
   "cell_type": "markdown",
   "metadata": {},
   "source": [
    "### Enable SQL database access using SQLAlchemy (and GeoAlchemy)"
   ]
  },
  {
   "cell_type": "code",
   "execution_count": 394,
   "metadata": {},
   "outputs": [],
   "source": [
    "from sqlalchemy import create_engine  \n",
    "from sqlalchemy import Table, Column, Integer, String, Float, MetaData  \n",
    "from sqlalchemy import select, func\n",
    "from sqlalchemy.ext.declarative import declarative_base  \n",
    "from sqlalchemy.event import listen\n",
    "from sqlalchemy.orm import sessionmaker, relationship, backref\n",
    "from geoalchemy2 import Geometry"
   ]
  },
  {
   "cell_type": "markdown",
   "metadata": {},
   "source": [
    "### Define some handy geometry functions"
   ]
  },
  {
   "cell_type": "code",
   "execution_count": 395,
   "metadata": {},
   "outputs": [],
   "source": [
    "def geom_distance(lat1, lon1, lat2, lon2):\n",
    "    R = 6378.137 # Radius of earth in KM\n",
    "    dLat = lat2 * math.pi / 180 - lat1 * math.pi / 180\n",
    "    dLon = lon2 * math.pi / 180 - lon1 * math.pi / 180\n",
    "    a = math.sin(dLat/2) * math.sin(dLat/2) + math.cos(lat1 * math.pi / 180) * math.cos(lat2 * math.pi / 180) * math.sin(dLon/2) * math.sin(dLon/2)\n",
    "    c = 2 * math.atan2(math.sqrt(a), math.sqrt(1-a))\n",
    "    d = R * c\n",
    "    return d # Km"
   ]
  },
  {
   "cell_type": "code",
   "execution_count": 396,
   "metadata": {},
   "outputs": [],
   "source": [
    "def geom_diagonal(geom):\n",
    "    lon1 = geom.total_bounds[0]\n",
    "    lat1 = geom.total_bounds[1]\n",
    "    lon2 = geom.total_bounds[2]\n",
    "    lat2 = geom.total_bounds[3]\n",
    "    d = geom_distance(lat1, lon1, lat2, lon2)\n",
    "    return d # Km"
   ]
  },
  {
   "cell_type": "code",
   "execution_count": 397,
   "metadata": {},
   "outputs": [],
   "source": [
    "def geom_extent(geom):\n",
    "    d2 = geom_width(geom)+geom_height(geom)\n",
    "    return d2 # Km"
   ]
  },
  {
   "cell_type": "code",
   "execution_count": 398,
   "metadata": {},
   "outputs": [],
   "source": [
    "def geom_height(geom):\n",
    "    lon1 = geom.total_bounds[0]\n",
    "    lat1 = geom.total_bounds[1]\n",
    "    lon2 = geom.total_bounds[2]\n",
    "    lat2 = geom.total_bounds[3]\n",
    "    h = geom_distance(lat1, lon1, lat2, lon1)\n",
    "    return h # Km"
   ]
  },
  {
   "cell_type": "code",
   "execution_count": 399,
   "metadata": {},
   "outputs": [],
   "source": [
    "def geom_width(geom):\n",
    "    lon1 = geom.total_bounds[0]\n",
    "    lat1 = geom.total_bounds[1]\n",
    "    lon2 = geom.total_bounds[2]\n",
    "    lat2 = geom.total_bounds[3]\n",
    "    w = geom_distance(lat1, lon1, lat1, lon2)\n",
    "    return w # Km"
   ]
  },
  {
   "cell_type": "code",
   "execution_count": 400,
   "metadata": {},
   "outputs": [],
   "source": [
    "def geom_bbox(geom):\n",
    "    polygon = gpd.GeoDataFrame(gpd.GeoSeries(geom.envelope), columns=['geometry'])\n",
    "    return polygon"
   ]
  },
  {
   "cell_type": "code",
   "execution_count": 401,
   "metadata": {},
   "outputs": [],
   "source": [
    "# In case CRS is different\n",
    "\n",
    "def geom_bbox2(geom):\n",
    "    lon_point_list = [geom.total_bounds[0],geom.total_bounds[2],geom.total_bounds[2],geom.total_bounds[0],geom.total_bounds[0]]\n",
    "    lat_point_list = [geom.total_bounds[1],geom.total_bounds[1],geom.total_bounds[3],geom.total_bounds[3],geom.total_bounds[1]]\n",
    "    polygon_geom = Polygon(zip(lon_point_list, lat_point_list))\n",
    "    crs = {'init': 'epsg:4326'}\n",
    "    polygon = gpd.GeoDataFrame(index=[0], crs=crs, geometry=[polygon_geom])    \n",
    "    return polygon"
   ]
  },
  {
   "cell_type": "code",
   "execution_count": 402,
   "metadata": {},
   "outputs": [],
   "source": [
    "# Try using the area of the total_bounds polygon in both degrees and meters to generate an approximate \"conversion\" factor\n",
    "\n",
    "def geom_area(geom):\n",
    "    factor = geom_width(geom)*geom_height(geom)/geom_bbox(geom).area\n",
    "    area = factor*geom.area\n",
    "    return area # Km^2"
   ]
  },
  {
   "cell_type": "code",
   "execution_count": 403,
   "metadata": {},
   "outputs": [],
   "source": [
    "# Use a cartesian projection coordinate system to get true area\n",
    "# *** Currently crashes kernel ***\n",
    "\n",
    "def geom_area2(geom):\n",
    "    geom_m = geom.to_crs(epsg=3857) # or 3395 (WGS 84 compliant)\n",
    "    # May need to use explicit definition for 3395: \n",
    "    #   proj4.defs(\"EPSG:3395\",\"+proj=merc +lon_0=0 +k=1 +x_0=0 +y_0=0 +datum=WGS84 +units=m +no_defs\")\n",
    "    a = geom_m.area/10**6\n",
    "    return a # Km^2"
   ]
  },
  {
   "cell_type": "markdown",
   "metadata": {},
   "source": [
    "<div id='reach' />"
   ]
  },
  {
   "cell_type": "markdown",
   "metadata": {},
   "source": [
    "### Define the river reach by setting \n",
    "* Starting location (NWIS Station)\n",
    "* Up/down-stream distance ranges (Km)\n",
    "* Date range (for properties)"
   ]
  },
  {
   "cell_type": "code",
   "execution_count": 404,
   "metadata": {},
   "outputs": [
    {
     "data": {
      "application/vnd.jupyter.widget-view+json": {
       "model_id": "8f619017f1cf4692a1f4803544e872a9",
       "version_major": 2,
       "version_minor": 0
      },
      "text/plain": [
       "VBox(children=(Label(value='Select NWIS Station and range (Km):\\n'), Dropdown(description='NWIS Site:', option…"
      ]
     },
     "metadata": {},
     "output_type": "display_data"
    }
   ],
   "source": [
    "def run_all_below(ev):\n",
    "    display(Javascript('IPython.notebook.execute_cell_range(IPython.notebook.get_selected_index()+1, IPython.notebook.ncells())'))\n",
    "    \n",
    "run_button = widgets.Button(description=\" Rerun all cells below \") \n",
    "run_button.on_click(run_all_below)\n",
    "\n",
    "start_date = datetime(2018, 1, 1) # <== Earliest start date here\n",
    "end_date = datetime.now()\n",
    "dates = pd.date_range(start_date, end_date, freq='M')\n",
    "date_options = [(date.strftime(' %b %Y '), date) for date in dates]\n",
    "date_index = (0, len(date_options)-1)\n",
    "\n",
    "date_range_slider = widgets.SelectionRangeSlider(\n",
    "    options=date_options,\n",
    "    index=date_index,\n",
    "    description = \"Dates\",\n",
    "    orientation = 'horizontal',\n",
    "    layout = {'width': '500px'}\n",
    ")\n",
    "\n",
    "reach = widgets.VBox(\n",
    "    [\n",
    "        widgets.Label(\n",
    "            value='Select NWIS Station and range (Km):\\n'\n",
    "        ),\n",
    "        widgets.Dropdown(\n",
    "            options=[\n",
    "                ('Huntington','USGS-03206000'), # <== Add other NWIS stations here\n",
    "                ('Charleston','USGS-03198000')\n",
    "            ], \n",
    "            value='USGS-03206000', # <== Default goes here\n",
    "            description='NWIS Site:'\n",
    "        ),\n",
    "        widgets.IntSlider(\n",
    "            value=25,\n",
    "            min=0,\n",
    "            max=100,\n",
    "            step=5,\n",
    "            description='Upstream:',\n",
    "            disabled=False,\n",
    "            continuous_update=False,\n",
    "            orientation='horizontal',\n",
    "            readout=True,\n",
    "            readout_format='d'\n",
    "        ),\n",
    "        widgets.IntSlider(\n",
    "            value=25,\n",
    "            min=0,\n",
    "            max=100,\n",
    "            step=5,\n",
    "            description='Downstream:',\n",
    "            disabled=False,\n",
    "            continuous_update=False,\n",
    "            orientation='horizontal',\n",
    "            readout=True,\n",
    "            readout_format='d'\n",
    "        ),\n",
    "        date_range_slider,\n",
    "        run_button\n",
    "    ]\n",
    ")\n",
    "display(reach)"
   ]
  },
  {
   "cell_type": "code",
   "execution_count": 405,
   "metadata": {},
   "outputs": [],
   "source": [
    "NWIS_SITE = reach.children[1].value\n",
    "UM_DIST = reach.children[2].value\n",
    "DM_DIST = reach.children[3].value\n",
    "BEGIN_DATE = reach.children[4].value[0]\n",
    "END_DATE = reach.children[4].value[1]"
   ]
  },
  {
   "cell_type": "code",
   "execution_count": 406,
   "metadata": {},
   "outputs": [
    {
     "name": "stdout",
     "output_type": "stream",
     "text": [
      "\n",
      "Reach ==> NWIS Station: USGS-03206000 + 25 Km upstream and 25 Km downstream\n",
      "\n",
      "Begin Date: 2018-01-31 00:00:00, End Date: 2020-04-30 00:00:00\n",
      "\n"
     ]
    }
   ],
   "source": [
    "print(\"\\nReach ==> NWIS Station: {0} + {1} Km upstream and {2} Km downstream\".format(NWIS_SITE, UM_DIST, DM_DIST))\n",
    "print(\"\\nBegin Date: {0}, End Date: {1}\\n\".format(BEGIN_DATE,END_DATE))"
   ]
  },
  {
   "cell_type": "markdown",
   "metadata": {},
   "source": [
    "### URLs for REST Web Services"
   ]
  },
  {
   "cell_type": "code",
   "execution_count": 407,
   "metadata": {},
   "outputs": [],
   "source": [
    "USGS_NLDI_WS = \"https://labs.waterdata.usgs.gov/api/nldi/linked-data\" # USGS NLDI REST web services\n",
    "NWIS_SITE_URL = USGS_NLDI_WS+\"/nwissite/\"+NWIS_SITE \n",
    "NWIS_SITE_NAV = NWIS_SITE_URL+\"/navigate\"\n",
    "TNM_WS = \"https://hydro.nationalmap.gov/arcgis/rest/services\" # The National Map REST web services\n",
    "ARCGIS_WS = \"http://server.arcgisonline.com/arcgis/rest/services\" # ARCGIS Online REST web services"
   ]
  },
  {
   "cell_type": "markdown",
   "metadata": {},
   "source": [
    "### Set Input (optional) and Output Directories\n",
    "  * TODO: Need option to upload files to Input Directory"
   ]
  },
  {
   "cell_type": "code",
   "execution_count": 408,
   "metadata": {},
   "outputs": [],
   "source": [
    "IN_DIR = \"data/\"+NWIS_SITE\n",
    "OUT_DIR = IN_DIR+\"/out\""
   ]
  },
  {
   "cell_type": "markdown",
   "metadata": {},
   "source": [
    "### Create output directory if it does not already exist"
   ]
  },
  {
   "cell_type": "code",
   "execution_count": 409,
   "metadata": {},
   "outputs": [],
   "source": [
    "%mkdir -p {OUT_DIR}"
   ]
  },
  {
   "cell_type": "markdown",
   "metadata": {
    "extensions": {
     "jupyter_dashboards": {
      "version": 1,
      "views": {
       "grid_default": {
        "col": 0,
        "height": 4,
        "hidden": false,
        "row": 43,
        "width": 4
       },
       "report_default": {
        "hidden": false
       }
      }
     }
    }
   },
   "source": [
    "### Get Lat/Lon coordinates of starting site (NWIS station)"
   ]
  },
  {
   "cell_type": "code",
   "execution_count": 410,
   "metadata": {},
   "outputs": [],
   "source": [
    "nwis_site_json = gpd.read_file(NWIS_SITE_URL)\n",
    "nwis_site_geom = nwis_site_json.iloc[0]['geometry']\n",
    "nwis_site_coord = [nwis_site_geom.y, nwis_site_geom.x]"
   ]
  },
  {
   "cell_type": "markdown",
   "metadata": {},
   "source": [
    "### Set up a local file-based SQLite/Spatialite database"
   ]
  },
  {
   "cell_type": "code",
   "execution_count": 411,
   "metadata": {},
   "outputs": [],
   "source": [
    "spatialite_db_filename = 'spatialite.db'\n",
    "if os.path.isfile(OUT_DIR+'/'+spatialite_db_filename):\n",
    "    os.remove(OUT_DIR+'/'+spatialite_db_filename)\n",
    "spatialite_engine = create_engine('sqlite:///{0}/{1}'.format(OUT_DIR,spatialite_db_filename))"
   ]
  },
  {
   "cell_type": "code",
   "execution_count": 412,
   "metadata": {},
   "outputs": [],
   "source": [
    "def load_spatialite(dbapi_conn, connection_record):\n",
    "    dbapi_conn.enable_load_extension(True)\n",
    "    dbapi_conn.load_extension('/opt/conda/lib/mod_spatialite.so')\n",
    "    \n",
    "listen(spatialite_engine, 'connect', load_spatialite)"
   ]
  },
  {
   "cell_type": "code",
   "execution_count": 413,
   "metadata": {},
   "outputs": [],
   "source": [
    "spatialite_engine._metadata = MetaData(bind=spatialite_engine)\n",
    "spatialite_engine._metadata.reflect(spatialite_engine)"
   ]
  },
  {
   "cell_type": "code",
   "execution_count": 414,
   "metadata": {},
   "outputs": [],
   "source": [
    "spatialite_conn = spatialite_engine.connect()"
   ]
  },
  {
   "cell_type": "code",
   "execution_count": 415,
   "metadata": {},
   "outputs": [],
   "source": [
    "spatialite_conn.execute(select([func.InitSpatialMetaData()]));"
   ]
  },
  {
   "cell_type": "code",
   "execution_count": 416,
   "metadata": {},
   "outputs": [],
   "source": [
    "Base = declarative_base()\n",
    "\n",
    "class Site(Base):\n",
    "    __tablename__ = 'site'\n",
    "    id = Column(Integer, primary_key=True)\n",
    "    type = Column(String)\n",
    "    name = Column(String)\n",
    "    desc = Column(String)\n",
    "    url = Column(String)\n",
    "    comid = Column(String)\n",
    "    geom = Column(Geometry(geometry_type='POINT',management=True))\n",
    "\n",
    "Site.__table__.create(spatialite_engine, checkfirst=True)"
   ]
  },
  {
   "cell_type": "code",
   "execution_count": 417,
   "metadata": {},
   "outputs": [],
   "source": [
    "class Measurement(Base):\n",
    "    __tablename__ = 'measurement'\n",
    "    id = Column(Integer, primary_key=True)\n",
    "    site_id = Column(Integer)\n",
    "    type = Column(String)\n",
    "    property = Column(String)\n",
    "    value = Column(Float)\n",
    "    units = Column(String)\n",
    "\n",
    "Measurement.__table__.create(spatialite_engine, checkfirst=True)"
   ]
  },
  {
   "cell_type": "code",
   "execution_count": 418,
   "metadata": {},
   "outputs": [],
   "source": [
    "#spatialite_engine._metadata.sorted_tables"
   ]
  },
  {
   "cell_type": "code",
   "execution_count": 419,
   "metadata": {},
   "outputs": [],
   "source": [
    "Spatialite_Session = sessionmaker(bind=spatialite_engine)\n",
    "spatialite_session = Spatialite_Session()"
   ]
  },
  {
   "cell_type": "code",
   "execution_count": 420,
   "metadata": {},
   "outputs": [],
   "source": [
    "anchor_site_in = Site(type='ANCHOR',name=NWIS_SITE,desc='Anchor site for reach',url=NWIS_SITE_URL,geom='POINT({0:.4f} {1:.4f})'.format(nwis_site_geom.x,nwis_site_geom.y))\n",
    "spatialite_session.add(anchor_site_in)\n",
    "spatialite_session.commit()"
   ]
  },
  {
   "cell_type": "code",
   "execution_count": 421,
   "metadata": {},
   "outputs": [
    {
     "name": "stdout",
     "output_type": "stream",
     "text": [
      "USGS-03206000\n"
     ]
    }
   ],
   "source": [
    "anchor_site_out = spatialite_session.query(Site).filter_by(type='ANCHOR')\n",
    "\n",
    "for row in anchor_site_out:\n",
    "    print(row.name)"
   ]
  },
  {
   "cell_type": "markdown",
   "metadata": {
    "extensions": {
     "jupyter_dashboards": {
      "version": 1,
      "views": {
       "grid_default": {
        "col": 0,
        "height": 4,
        "hidden": false,
        "row": 43,
        "width": 4
       },
       "report_default": {
        "hidden": false
       }
      }
     }
    }
   },
   "source": [
    "## Generate map"
   ]
  },
  {
   "cell_type": "code",
   "execution_count": 422,
   "metadata": {
    "extensions": {
     "jupyter_dashboards": {
      "version": 1,
      "views": {
       "grid_default": {},
       "report_default": {
        "hidden": false
       }
      }
     }
    }
   },
   "outputs": [],
   "source": [
    "river_map = folium.Map(nwis_site_coord,zoom_start=10,tiles=None)\n",
    "plugins.ScrollZoomToggler().add_to(river_map);\n",
    "plugins.Fullscreen(\n",
    "    position='bottomright',\n",
    "    title='Full Screen',\n",
    "    title_cancel='Exit Full Screen',\n",
    "    force_separate_button=True\n",
    ").add_to(river_map);"
   ]
  },
  {
   "cell_type": "markdown",
   "metadata": {},
   "source": [
    "### Add NWIS and WQP sites within reach using NLDI web services at USGS"
   ]
  },
  {
   "cell_type": "code",
   "execution_count": 423,
   "metadata": {},
   "outputs": [],
   "source": [
    "# Popup parameters\n",
    "\n",
    "width = 500\n",
    "height = 120\n",
    "max_width = 1000\n",
    "\n",
    "# Main Stream\n",
    "\n",
    "folium.GeoJson(NWIS_SITE_NAV+\"/UM?distance=\"+str(UM_DIST),name=\"Main Stream (up)\",show=True,control=False).add_to(river_map);\n",
    "folium.GeoJson(NWIS_SITE_NAV+\"/DM?distance=\"+str(DM_DIST),name=\"Main Stream (down)\",show=True,control=False).add_to(river_map);\n",
    "\n",
    "# NWIS Sites\n",
    "\n",
    "fg_nwis = folium.FeatureGroup(name=\"USGS (NWIS) Sites\",overlay=True,show=False)\n",
    "color = 'darkred'\n",
    "icon = 'dashboard'\n",
    "        \n",
    "nwis_sites_dm = gpd.read_file(NWIS_SITE_NAV+\"/DM/nwissite?distance=\"+str(DM_DIST))\n",
    "nwis_sites_um = gpd.read_file(NWIS_SITE_NAV+\"/UM/nwissite?distance=\"+str(UM_DIST))\n",
    "nwis_sites = gpd.GeoDataFrame(pd.concat([nwis_sites_dm,nwis_sites_um], ignore_index=True), crs=nwis_sites_dm.crs)\n",
    "\n",
    "for i, nwis_site in nwis_sites.iterrows():\n",
    "    coord = [nwis_site.geometry.y,nwis_site.geometry.x]\n",
    "    label = 'NWIS Station: '+nwis_site.identifier+\" (\"+str(i)+\")\"\n",
    "    html = label\n",
    "    html += '<br>{0:s}'.format(nwis_site['name'])\n",
    "    html += '<br><a href=\\\"{0:s}\\\",target=\\\"_blank\\\">{1:s}</a>'.format(nwis_site.uri,nwis_site.uri)\n",
    "    html += '<br>Lat: {0:.4f}, Lon: {1:.4f}'.format(nwis_site.geometry.y,nwis_site.geometry.x)\n",
    "    html += '<br>Comid: {0:s}'.format(nwis_site.comid)\n",
    "    iframe = folium.IFrame(html,width=width,height=height)\n",
    "    popup = folium.Popup(iframe,max_width=max_width)\n",
    "    fg_nwis.add_child(folium.Marker(location=coord,icon=folium.Icon(color=color,icon=icon),popup=popup,tooltip=label));\n",
    "    nwis_site = Site(type='NWIS',name=nwis_site.identifier,desc=nwis_site['name'],url=nwis_site.uri,comid=nwis_site.comid, \\\n",
    "                     geom='POINT({0:.4f} {1:.4f})'.format(nwis_site.geometry.x,nwis_site.geometry.y))\n",
    "    spatialite_session.add(nwis_site)\n",
    "    \n",
    "spatialite_session.commit()\n",
    "        \n",
    "fg_nwis.add_to(river_map)\n",
    "\n",
    "# WQP Stations\n",
    "        \n",
    "fg_wqp = folium.FeatureGroup(name=\"WQP Stations\",overlay=True,show=False)\n",
    "color = 'darkgreen'\n",
    "radius = 3\n",
    "        \n",
    "wqp_sites_dm = gpd.read_file(NWIS_SITE_NAV+\"/DM/wqp?distance=\"+str(DM_DIST))\n",
    "wqp_sites_um = gpd.read_file(NWIS_SITE_NAV+\"/UM/wqp?distance=\"+str(UM_DIST))\n",
    "wqp_sites = gpd.GeoDataFrame(pd.concat([wqp_sites_dm,wqp_sites_um], ignore_index=True), crs=wqp_sites_dm.crs)\n",
    "\n",
    "for i, wqp_site in wqp_sites.iterrows():\n",
    "    coord = [wqp_site.geometry.y,wqp_site.geometry.x]\n",
    "    label = 'WQP Station: '+wqp_site.identifier+\" (\"+str(i)+\")\"\n",
    "    html = label\n",
    "    html += '<br>{0:s}'.format(wqp_site['name'])\n",
    "    html += '<br><a href=\\\"{0:s}\\\",target=\\\"_blank\\\">{1:s}</a>'.format(wqp_site.uri,wqp_site.uri)\n",
    "    html += '<br>Lat: {0:.4f}, Lon: {1:.4f}'.format(wqp_site.geometry.y,wqp_site.geometry.x)\n",
    "    html += '<br>Comid: {0:s}'.format(wqp_site.comid)\n",
    "    iframe = folium.IFrame(html,width=width,height=height)\n",
    "    popup = folium.Popup(iframe,max_width=max_width)\n",
    "    fg_wqp.add_child(folium.CircleMarker(location=coord,radius=radius,color=color,popup=popup,tooltip=label));\n",
    "    wqp_site = Site(type='WQP',name=wqp_site.identifier,desc=wqp_site['name'],url=wqp_site.uri,comid=wqp_site.comid, \\\n",
    "                    geom='POINT({0:.4f} {1:.4f})'.format(wqp_site.geometry.x,wqp_site.geometry.y))\n",
    "    spatialite_session.add(wqp_site)\n",
    "\n",
    "spatialite_session.commit()\n",
    "\n",
    "fg_wqp.add_to(river_map);"
   ]
  },
  {
   "cell_type": "markdown",
   "metadata": {},
   "source": [
    "### Add HUC12 Pour Points, *differential* drainage basins, HUC12 and HUC10 boundaries associated with each"
   ]
  },
  {
   "cell_type": "markdown",
   "metadata": {},
   "source": [
    "class Basin(Base):\n",
    "    __tablename__ = 'basin'\n",
    "    id = Column(Integer, primary_key=True)\n",
    "    type = Column(String)\n",
    "    name = Column(String)\n",
    "    desc = Column(String)\n",
    "    url = Column(String)\n",
    "    comid = Column(String)\n",
    "    geom = Column(Geometry(geometry_type='POLYGON',management=True))\n",
    "\n",
    "Basin.__table__.create(spatialite_engine, checkfirst=True)"
   ]
  },
  {
   "cell_type": "code",
   "execution_count": 424,
   "metadata": {},
   "outputs": [],
   "source": [
    "fg_huc12pp = folium.FeatureGroup(name=\"HUC12 Pour Points\",overlay=True,show=False)\n",
    "fg_basins = folium.FeatureGroup(name=\"Drainage Basins\",overlay=True,show=False)\n",
    "fg_wbd10 = folium.FeatureGroup(name=\"HUC10 Boundaries\",overlay=True,show=False)\n",
    "fg_wbd12 = folium.FeatureGroup(name=\"HUC12 Boundaries\",overlay=True,show=False)\n",
    "\n",
    "huc12_list = []\n",
    "huc10_list = []\n",
    "\n",
    "color = 'darkblue'\n",
    "radius = 3\n",
    "        \n",
    "try:\n",
    "    huc12pp_sites_dm = gpd.read_file(NWIS_SITE_NAV+\"/DM/huc12pp?distance=\"+str(DM_DIST),driver='GeoJSON')\n",
    "except Exception as ex:\n",
    "    print(\"An exception of type {0} occurred. Arguments:\\n{1!r}\".format(type(ex).__name__, ex.args))\n",
    "    huc12pp_sites_dm = gpd.GeoDataFrame()\n",
    "    \n",
    "try:\n",
    "    huc12pp_sites_um = gpd.read_file(NWIS_SITE_NAV+\"/UM/huc12pp?distance=\"+str(UM_DIST),driver='GeoJSON')\n",
    "except Exception as ex:\n",
    "    print(\"An exception of type {0} occurred. Arguments:\\n{1!r}\".format(type(ex).__name__, ex.args))\n",
    "    huc12pp_sites_um = gpd.GeoDataFrame()\n",
    "    \n",
    "huc12pp_sites = gpd.GeoDataFrame(pd.concat([huc12pp_sites_dm,huc12pp_sites_um], ignore_index=True), crs=huc12pp_sites_dm.crs)\n",
    "\n",
    "n_segs = len(huc12pp_sites)-1\n",
    "\n",
    "# Sort sites by decreasing area of drainage basin\n",
    "# TODO: May want to store drainage basins in a list (and/or in the database)\n",
    "def get_area(x):\n",
    "    x_basin = gpd.read_file(USGS_NLDI_WS+\"/comid/\"+x+\"/basin\")\n",
    "    return int(round(x_basin.iloc[0].geometry.area,3)*1000)  \n",
    "\n",
    "huc12pp_sites['area']=huc12pp_sites.apply(lambda x: get_area(x.comid), axis=1)\n",
    "huc12pp_sites.set_index(['area'],inplace=True,drop=True)\n",
    "huc12pp_sites.sort_index(inplace=True,ascending=False)\n",
    "\n",
    "i = 0\n",
    "\n",
    "for area, huc12pp_site in huc12pp_sites.iterrows():\n",
    "    \n",
    "    # Add to HUC12 PP to Site table in database\n",
    "    huc12pp = Site(type='HUC12PP',name=huc12pp_site.identifier,desc=huc12pp_site['name'],url=huc12pp_site.uri,comid=huc12pp_site.comid, \\\n",
    "                   geom='POINT({0:.4f} {1:.4f})'.format(huc12pp_site.geometry.x,huc12pp_site.geometry.y))\n",
    "    spatialite_session.add(huc12pp)\n",
    "\n",
    "    # Get HUC12 PP drainage basin\n",
    "    basin_url = USGS_NLDI_WS+\"/comid/{0:s}/basin\".format(huc12pp_site.comid)\n",
    "    \n",
    "    try:\n",
    "        basin = gpd.read_file(basin_url,driver='GeoJSON')\n",
    "    except Exception as ex:\n",
    "        print(\"An exception of type {0} occurred. Arguments:\\n{1!r}\".format(type(ex).__name__, ex.args))\n",
    "        i = i + 1\n",
    "        continue\n",
    "\n",
    "    basin_area = geom_area(basin)\n",
    "    basin_diff_area = basin_area\n",
    "    \n",
    "    # Get HUC12 watershed boudary (WBD)\n",
    "    wbd12_url = TNM_WS+\"/wbd/MapServer/6/query?where=HUC12%3D%27{0:s}%27&outFields=NAME%2CHUC12%2CSHAPE_Length&f=geojson\".format(huc12pp_site.identifier)\n",
    "    \n",
    "    try:\n",
    "        wbd12 = gpd.read_file(wbd12_url,driver='GeoJSON')\n",
    "    except Exception as ex:\n",
    "        print(\"An exception of type {0} occurred. Arguments:\\n{1!r}\".format(type(ex).__name__, ex.args))\n",
    "        i = i + 1\n",
    "        continue\n",
    "\n",
    "    if i < n_segs:\n",
    "        # Add HUC12 boundary a feature layer\n",
    "        style_function = lambda x: {'color': 'darkgreen', 'weight': 1, 'fillColor': 'green', 'fillOpacity': 0.1}\n",
    "        highlight_function = lambda x: {'color':'yellow', 'weight':2}\n",
    "        tooltip = \"HUC12: {0:s} ({1:s}), Area: {2:.2f}\".format(wbd12.iloc[0].HUC12,wbd12.iloc[0].NAME,geom_area(wbd12)[0])\n",
    "        wbd12_feature = folium.GeoJson(wbd12.iloc[0].geometry,style_function=style_function,highlight_function=highlight_function,tooltip=tooltip)\n",
    "        fg_wbd12.add_child(wbd12_feature);        \n",
    "        huc12_list.append(huc12pp_site.identifier)\n",
    "\n",
    "    # Get HUC10 containing HUC12 and add that to another feature layer \n",
    "    huc10_identifier = huc12pp_site.identifier[:-2]\n",
    "\n",
    "    if (huc10_identifier not in huc10_list):\n",
    "        wbd10_url = TNM_WS+\"/wbd/MapServer/5/query?where=HUC10%3D%27{0:s}%27&outFields=NAME%2CHUC10%2CSHAPE_Length&f=geojson\".format(huc10_identifier)\n",
    "        try:\n",
    "            wbd10 = gpd.read_file(wbd10_url)\n",
    "        except:\n",
    "            pass\n",
    "        else:\n",
    "            basin_huc10_overlap = gpd.overlay(wbd10,basin,how='intersection')  \n",
    "\n",
    "            if i < n_segs:\n",
    "                style_function = lambda x: {'color': 'darkgreen', 'weight': 1, 'fillColor': 'green', 'fillOpacity': 0.05}\n",
    "                highlight_function = lambda x: {'color':'yellow', 'weight':2}\n",
    "                tooltip = \"HUC10: {0:s} ({1:s}), Area: {2:.2f}\".format(wbd10.iloc[0].HUC10,wbd10.iloc[0].NAME,geom_area(wbd10)[0])\n",
    "                wbd10_feature = folium.GeoJson(basin_huc10_overlap.iloc[0].geometry,style_function=style_function,highlight_function=highlight_function,tooltip=tooltip)\n",
    "                fg_wbd10.add_child(wbd10_feature);                 \n",
    "                huc10_list.append(huc10_identifier)\n",
    "\n",
    "    if i > 0:\n",
    "        # Generate and show difference (polygon) between sussessive drainage basins\n",
    "        basin_diff = gpd.overlay(basin_prev,basin,how='difference')  \n",
    "        basin_diff_area = geom_area(basin_diff)\n",
    "        style_function = lambda x: {'color': 'red', 'weight': 1, 'fillColor': 'blue', 'fillOpacity': 0.1}\n",
    "        highlight_function = lambda x: {'color':'yellow', 'weight':3}\n",
    "        tooltip = \"Differential Drainage Basin for HUC12 Pour Point: {0:s} ({1:s}), Area: {2:.2f}\".format(wbd12.iloc[0].HUC12,wbd12.iloc[0].NAME,basin_diff_area[0])\n",
    "        basin_diff_feature = folium.GeoJson(basin_diff.iloc[0].geometry.buffer(-0.001).buffer(0.001),style_function=style_function,highlight_function=highlight_function,tooltip=tooltip)\n",
    "        fg_basins.add_child(basin_diff_feature);\n",
    "        \n",
    "        if i == n_segs:\n",
    "            # Show large basin of first (highest upstream) pour point\n",
    "            style_function = lambda x: {'color': 'gray', 'weight': 1, 'fillColor': 'gray', 'fillOpacity': 0.1}\n",
    "            highlight_function = lambda x: {'color':'yellow', 'weight':1}\n",
    "            tooltip = \"Total Drainage Basin for HUC12 Pour Point: {0:s} ({1:s}), Area: {2:.2f}\".format(wbd12.iloc[0].HUC12,wbd12.iloc[0].NAME,basin_area[0])\n",
    "            basin_feature = folium.GeoJson(basin.iloc[0].geometry,style_function=style_function,highlight_function=highlight_function,tooltip=tooltip)\n",
    "            fg_basins.add_child(basin_feature);\n",
    "            \n",
    "    basin_prev = basin\n",
    "\n",
    "    # HUC12 Pour Point markers\n",
    "    coord = [huc12pp_site.geometry.y,huc12pp_site.geometry.x]\n",
    "    label = 'Pour Point for HUC12: '+wbd12.iloc[0].NAME\n",
    "    html = label\n",
    "    html += '<br>Indentifier: {0:s}'.format(huc12pp_site.identifier)\n",
    "    html += '<br>Lat: {0:.2f}, Lon: {1:.2f}'.format(huc12pp_site.geometry.y,huc12pp_site.geometry.x)\n",
    "    html += '<br>Comid: {0:s}'.format(huc12pp_site.comid)\n",
    "    html += '<br>Area Total: {0:.2f}'.format(basin_area[0])\n",
    "    html += '<br>Area Difference: {0:.2f}'.format(basin_diff_area[0])\n",
    "    iframe = folium.IFrame(html,width=width,height=height)\n",
    "    popup = folium.Popup(iframe,max_width=max_width)\n",
    "    fg_huc12pp.add_child(folium.CircleMarker(location=coord,radius=radius,color=color,popup=popup,tooltip=label));\n",
    "    \n",
    "    i = i + 1\n",
    "    \n",
    "spatialite_session.commit()\n",
    "\n",
    "fg_huc12pp.add_to(river_map);\n",
    "fg_basins.add_to(river_map);\n",
    "fg_wbd12.add_to(river_map);\n",
    "fg_wbd10.add_to(river_map);"
   ]
  },
  {
   "cell_type": "markdown",
   "metadata": {},
   "source": [
    "### Add HUC12s that are contained in the same HUC10 as the HUC12 Pour Point and the associated drainage basin"
   ]
  },
  {
   "cell_type": "code",
   "execution_count": 425,
   "metadata": {},
   "outputs": [],
   "source": [
    "fg_huc12_plus = folium.FeatureGroup(name=\"Other HUC12s in HUC10\",overlay=True,show=False)\n",
    "        \n",
    "i = 0\n",
    "n_segs = len(huc12pp_sites)\n",
    "\n",
    "for area, huc12pp_site in huc12pp_sites.iterrows():\n",
    "    if i >= n_segs - 1:\n",
    "        break\n",
    "        \n",
    "    basin_url = USGS_NLDI_WS+\"/comid/{0:s}/basin\".format(huc12pp_site.comid)    \n",
    "    try:\n",
    "        basin = gpd.read_file(basin_url,driver='GeoJSON')\n",
    "    except:\n",
    "        i = i + 1\n",
    "        continue\n",
    "\n",
    "    # Get HUC12 watershed boundaries sharing the same HUC10\n",
    "    huc12_plus_url = TNM_WS+\"/wbd/MapServer/6/query?where=HUC12%20LIKE%20%27{0:s}%25%27&outFields=NAME%2CHUC12%2CSHAPE_Length&f=geojson\".format(huc12pp_site.identifier[:-2])\n",
    "\n",
    "    try:\n",
    "        huc12_plus = gpd.read_file(huc12_plus_url,driver='GeoJSON')\n",
    "    except:\n",
    "        i = i + 1\n",
    "        continue\n",
    "        \n",
    "    huc12_basin_overlap = gpd.overlay(huc12_plus,basin,how='intersection')\n",
    "    \n",
    "    if (not huc12_basin_overlap.empty):\n",
    "        for k, huc12_in_basin in huc12_basin_overlap.iterrows():\n",
    "            huc12_wbd_url = TNM_WS+\"/wbd/MapServer/6/query?where=HUC12%3D%27{0:s}%27&outFields=NAME%2CHUC12%2CSHAPE_Length&f=geojson\".format(huc12_in_basin.HUC12)\n",
    "            huc12_wbd = gpd.read_file(huc12_wbd_url,driver='GeoJSON')\n",
    "            huc12_overlap = gpd.overlay(huc12_wbd,basin,how='intersection')\n",
    "            if ((not huc12_overlap.empty) and (huc12_overlap.iloc[0].geometry.area > 0.001) and (huc12_in_basin.HUC12 not in huc12_list)):\n",
    "                huc12_list.append(huc12_in_basin.HUC12)\n",
    "                # Add HUC12 WBD boundary\n",
    "                style_function = lambda x: {'color': 'darkgreen', 'weight': 1, 'fillColor': 'green', 'fillOpacity': 0.05}\n",
    "                highlight_function = lambda x: {'color':'yellow', 'weight':2}\n",
    "                tooltip = \"HUC12: {0:s} ({1:s}), Area: {2:.2f}\".format(huc12_wbd.iloc[0].HUC12,huc12_wbd.iloc[0].NAME,geom_area(huc12_wbd)[0])\n",
    "                huc12_plus_feature = folium.GeoJson(huc12_wbd.iloc[0].geometry,style_function=style_function,highlight_function=highlight_function,tooltip=tooltip)\n",
    "                fg_huc12_plus.add_child(huc12_plus_feature);        \n",
    "                        \n",
    "    i = i + 1\n",
    "\n",
    "fg_huc12_plus.add_to(river_map);"
   ]
  },
  {
   "cell_type": "markdown",
   "metadata": {},
   "source": [
    "### Add tributaries upstream of HUC12 Pour Points"
   ]
  },
  {
   "cell_type": "code",
   "execution_count": 426,
   "metadata": {},
   "outputs": [],
   "source": [
    "fg_utpp = folium.FeatureGroup(name=\"Tribs upstream of PPs\",overlay=True,show=False)\n",
    "\n",
    "for huc12 in huc12_list:\n",
    "    wbd12_url = TNM_WS+\"/wbd/MapServer/6/query?where=HUC12%3D%27{0:s}%27&f=geojson\".format(huc12)\n",
    "    \n",
    "    try:\n",
    "        wbd12 = gpd.read_file(wbd12_url)\n",
    "    except:\n",
    "        continue\n",
    "        \n",
    "    distance = int(round(geom_diagonal(wbd12),0)) # May need to exend for winding streams\n",
    "    #distance = 35\n",
    "    tribs = folium.GeoJson(USGS_NLDI_WS+\"/huc12pp/{0:s}/navigate/UT?distance={1:d}\".format(huc12,distance))\n",
    "    fg_utpp.add_child(tribs);\n",
    "    \n",
    "fg_utpp.add_to(river_map);"
   ]
  },
  {
   "cell_type": "markdown",
   "metadata": {},
   "source": [
    "### Add built-in basemaps"
   ]
  },
  {
   "cell_type": "code",
   "execution_count": 427,
   "metadata": {
    "extensions": {
     "jupyter_dashboards": {
      "version": 1,
      "views": {
       "grid_default": {},
       "report_default": {
        "hidden": false
       }
      }
     }
    }
   },
   "outputs": [],
   "source": [
    "folium.TileLayer('StamenTerrain').add_to(river_map);\n",
    "folium.TileLayer('OpenStreetMap').add_to(river_map);"
   ]
  },
  {
   "cell_type": "markdown",
   "metadata": {
    "extensions": {
     "jupyter_dashboards": {
      "version": 1,
      "views": {
       "grid_default": {},
       "report_default": {
        "hidden": false
       }
      }
     }
    }
   },
   "source": [
    "### Add other basemap options using Map Servers at  ArcGIS Online"
   ]
  },
  {
   "cell_type": "code",
   "execution_count": 428,
   "metadata": {
    "extensions": {
     "jupyter_dashboards": {
      "version": 1,
      "views": {
       "grid_default": {},
       "report_default": {
        "hidden": true
       }
      }
     }
    }
   },
   "outputs": [],
   "source": [
    "mapserver_dict = dict(\n",
    "    NatGeo_World_Map=ARCGIS_WS+'/NatGeo_World_Map/MapServer',\n",
    "    World_Street_Map=ARCGIS_WS+'/World_Street_Map/MapServer',\n",
    "    World_Imagery=ARCGIS_WS+'/World_Imagery/MapServer',\n",
    "    World_Topo_Map=ARCGIS_WS+'/World_Topo_Map/MapServer',\n",
    "    World_Shaded_Relief=ARCGIS_WS+'/World_Shaded_Relief/MapServer',\n",
    "    World_Terrain_Base=ARCGIS_WS+'/World_Terrain_Base/MapServer',\n",
    "#   World_Physical_Map=ARCGIS_WS+'/World_Physical_Map/MapServer',  # only shows if zoomed out\n",
    ")\n",
    "mapserver_query = '/MapServer/tile/{z}/{y}/{x}'\n",
    "\n",
    "for tile_name, tile_url in mapserver_dict.items():\n",
    "    tile_url += mapserver_query\n",
    "    _ = folium.TileLayer(tile_url,name=tile_name,attr=tile_name).add_to(river_map);"
   ]
  },
  {
   "cell_type": "markdown",
   "metadata": {
    "extensions": {
     "jupyter_dashboards": {
      "version": 1,
      "views": {
       "grid_default": {},
       "report_default": {
        "hidden": false
       }
      }
     }
    }
   },
   "source": [
    "### Add the Layer Control widget"
   ]
  },
  {
   "cell_type": "code",
   "execution_count": 429,
   "metadata": {
    "extensions": {
     "jupyter_dashboards": {
      "version": 1,
      "views": {
       "grid_default": {},
       "report_default": {
        "hidden": false
       }
      }
     }
    }
   },
   "outputs": [],
   "source": [
    "folium.LayerControl().add_to(river_map);"
   ]
  },
  {
   "cell_type": "markdown",
   "metadata": {
    "extensions": {
     "jupyter_dashboards": {
      "version": 1,
      "views": {
       "grid_default": {},
       "report_default": {
        "hidden": false
       }
      }
     }
    }
   },
   "source": [
    "### Save the map as HTML"
   ]
  },
  {
   "cell_type": "code",
   "execution_count": 430,
   "metadata": {
    "extensions": {
     "jupyter_dashboards": {
      "version": 1,
      "views": {
       "grid_default": {},
       "report_default": {
        "hidden": true
       }
      }
     }
    }
   },
   "outputs": [],
   "source": [
    "river_map.save(OUT_DIR+'/river_map.html')"
   ]
  },
  {
   "cell_type": "markdown",
   "metadata": {},
   "source": [
    "<div id='map' />"
   ]
  },
  {
   "cell_type": "markdown",
   "metadata": {
    "extensions": {
     "jupyter_dashboards": {
      "version": 1,
      "views": {
       "grid_default": {},
       "report_default": {
        "hidden": false
       }
      }
     }
    }
   },
   "source": [
    "## Display Map"
   ]
  },
  {
   "cell_type": "code",
   "execution_count": 431,
   "metadata": {
    "extensions": {
     "jupyter_dashboards": {
      "version": 1,
      "views": {
       "grid_default": {
        "col": 0,
        "height": 21,
        "hidden": false,
        "row": 51,
        "width": 10
       },
       "report_default": {
        "hidden": false
       }
      }
     }
    },
    "scrolled": false
   },
   "outputs": [
    {
     "data": {
      "text/html": [
       "\n",
       "        <iframe\n",
       "            width=\"1500\"\n",
       "            height=\"750\"\n",
       "            src=\"data/USGS-03206000/out/river_map.html\"\n",
       "            frameborder=\"0\"\n",
       "            allowfullscreen\n",
       "        ></iframe>\n",
       "        "
      ],
      "text/plain": [
       "<IPython.lib.display.IFrame at 0x7f899cb998d0>"
      ]
     },
     "execution_count": 431,
     "metadata": {},
     "output_type": "execute_result"
    }
   ],
   "source": [
    "from IPython.display import IFrame\n",
    "IFrame(OUT_DIR+\"/river_map.html\", width=1500, height=750)"
   ]
  },
  {
   "cell_type": "markdown",
   "metadata": {},
   "source": [
    "### Some defined constants\n",
    " * TODO: Move property limits to a dictionary"
   ]
  },
  {
   "cell_type": "code",
   "execution_count": 432,
   "metadata": {},
   "outputs": [],
   "source": [
    "TURB_MIN = 0.0\n",
    "TURB_MAX = 400.0\n",
    "CHLOR_MIN = 0.0\n",
    "CHLOR_MAX = 12.0\n",
    "BGA_MIN = 0.05\n",
    "BGA_MAX = 1.2\n",
    "SPCOND_MIN = 100.0\n",
    "SPCOND_MAX = 500.0\n",
    "DO_MIN = 5.0\n",
    "DO_MAX = 15.0\n",
    "PAR_MIN = 0.0\n",
    "PAR_MAX = 2000.0\n",
    "NITR_MIN = 0.5\n",
    "NITR_MAX = 1.5\n",
    "GAGE_HGT0 = 31.0 # TODO: Need to get this from site elevation\n",
    "FT_PER_M = 3.28"
   ]
  },
  {
   "cell_type": "markdown",
   "metadata": {},
   "source": [
    "## Water Quality Data"
   ]
  },
  {
   "cell_type": "markdown",
   "metadata": {},
   "source": [
    "### TODO\n",
    " * Concatentate above into a single dataframe\n",
    " * Put in database - results_summary table (needs a date range)\n",
    "   * Site, BeginDate, EndDate, Characteristic, Count, Min, Max, Mean, Std\n",
    " * Repeat for each WQP site\n",
    " * Group by Site and Characteristic\n",
    " * Generate property map (see below)\n",
    " * Summarize TimeSeries data over a given period into a similar results table and do similar property plots "
   ]
  },
  {
   "cell_type": "code",
   "execution_count": 433,
   "metadata": {},
   "outputs": [],
   "source": [
    "begin_date_str = \"{0:02d}-{1:02d}-{2:4d}\".format(BEGIN_DATE.month,BEGIN_DATE.day,BEGIN_DATE.year)\n",
    "end_date_str = \"{0:02d}-{1:02d}-{2:4d}\".format(END_DATE.month,END_DATE.day,END_DATE.year)"
   ]
  },
  {
   "cell_type": "code",
   "execution_count": 434,
   "metadata": {},
   "outputs": [],
   "source": [
    "data_values = pd.DataFrame(columns=['site_id','property','value'])\n",
    "\n",
    "wqp_sites = spatialite_session.query(Site).filter_by(type='WQP')\n",
    "\n",
    "for wqp_site in wqp_sites:\n",
    "    wqp_data = pd.read_csv(\"https://www.waterqualitydata.us/data/Result/search?siteid=\"+wqp_site.name+\"&startDateLo=\"+begin_date_str+\"&startDateHi=\"+end_date_str+\"&mimeType=csv\")\n",
    "\n",
    "    for i, data in wqp_data.iterrows():\n",
    "        try:\n",
    "            value = float(data['ResultMeasureValue'])\n",
    "            data_values = data_values.append([{\"site_id\":wqp_site.name,\"property\":data['CharacteristicName'],\"value\":value}],ignore_index=True)\n",
    "            measurement = Measurement(site_id=wqp_site.name,type='DISCRETE',property=data['CharacteristicName'],value=value)\n",
    "            spatialite_session.add(measurement)\n",
    "        except:\n",
    "            continue\n",
    "        \n",
    "spatialite_session.commit()"
   ]
  },
  {
   "cell_type": "code",
   "execution_count": 435,
   "metadata": {},
   "outputs": [],
   "source": [
    "#data_values"
   ]
  },
  {
   "cell_type": "markdown",
   "metadata": {},
   "source": [
    "class StdevFunc:\n",
    "    def __init__(self):\n",
    "        self.M = 0.0    #Mean\n",
    "        self.V = 0.0    #Used to Calculate Variance\n",
    "        self.S = 0.0    #Standard Deviation\n",
    "        self.k = 1      #Population or Small \n",
    "\n",
    "    def step(self, value):\n",
    "        try:\n",
    "            if value is None:\n",
    "                return None\n",
    "\n",
    "            tM = self.M\n",
    "            self.M += (value - tM) / self.k\n",
    "            self.V += (value - tM) * (value - self.M)\n",
    "            self.k += 1\n",
    "        except Exception as EXStep:\n",
    "            pass\n",
    "            return None    \n",
    "\n",
    "    def finalize(self):\n",
    "        try:\n",
    "            if ((self.k - 1) < 3):\n",
    "                return None\n",
    "            \n",
    "            #Now with our range Calculated, and Multiplied finish the Variance Calculation\n",
    "            self.V = (self.V / (self.k-2))\n",
    "\n",
    "            #Standard Deviation is the Square Root of Variance\n",
    "            self.S = math.sqrt(self.V)\n",
    "\n",
    "            return self.S\n",
    "        except Exception as EXFinal:\n",
    "            pass\n",
    "            return None \n",
    "        \n",
    "spatialite_conn.create_aggregate(\"stdev\", 1, StdevFunc)"
   ]
  },
  {
   "cell_type": "code",
   "execution_count": 436,
   "metadata": {},
   "outputs": [],
   "source": [
    "data_table = pd.read_sql_query('select site_id as Site, ST_X(geom) as Lon, ST_Y(geom) as Lat, property as Property, value as Value from measurement join site on site.name = site_id', spatialite_engine)\n",
    "data_table = data_table[data_table['Value'].notna()]"
   ]
  },
  {
   "cell_type": "code",
   "execution_count": 437,
   "metadata": {},
   "outputs": [],
   "source": [
    "#data_table"
   ]
  },
  {
   "cell_type": "code",
   "execution_count": 438,
   "metadata": {},
   "outputs": [],
   "source": [
    "summary_table = pd.read_sql_query('select site_id as Site, ST_X(geom) as Lon, ST_Y(geom) as Lat, property as Property, count(value) as Count, min(value) as Min, max(value) as Max, avg(value) as Avg from measurement join site on site.name = site_id group by site_id, property', spatialite_engine)\n",
    "summary_table = summary_table[summary_table['Avg'].notna()]"
   ]
  },
  {
   "cell_type": "code",
   "execution_count": 439,
   "metadata": {},
   "outputs": [],
   "source": [
    "property_counts = data_table_notna.groupby('Property').count()\n",
    "property_mins = data_table_notna.groupby('Property').min()\n",
    "property_maxs = data_table_notna.groupby('Property').max()\n",
    "property_means = data_table_notna.groupby('Property').mean()\n",
    "property_stds = data_table_notna.groupby('Property').std()"
   ]
  },
  {
   "cell_type": "code",
   "execution_count": 440,
   "metadata": {
    "scrolled": true
   },
   "outputs": [],
   "source": [
    "top_properties = property_counts[property_counts[\"Site\"]>40].index\n",
    "#top_properties"
   ]
  },
  {
   "cell_type": "code",
   "execution_count": 441,
   "metadata": {},
   "outputs": [],
   "source": [
    "#property_means"
   ]
  },
  {
   "cell_type": "code",
   "execution_count": 442,
   "metadata": {},
   "outputs": [
    {
     "data": {
      "text/html": [
       "<div>\n",
       "<style scoped>\n",
       "    .dataframe tbody tr th:only-of-type {\n",
       "        vertical-align: middle;\n",
       "    }\n",
       "\n",
       "    .dataframe tbody tr th {\n",
       "        vertical-align: top;\n",
       "    }\n",
       "\n",
       "    .dataframe thead th {\n",
       "        text-align: right;\n",
       "    }\n",
       "</style>\n",
       "<table border=\"1\" class=\"dataframe\">\n",
       "  <thead>\n",
       "    <tr style=\"text-align: right;\">\n",
       "      <th></th>\n",
       "      <th>Site</th>\n",
       "      <th>Lon</th>\n",
       "      <th>Lat</th>\n",
       "      <th>Property</th>\n",
       "      <th>Count</th>\n",
       "      <th>Min</th>\n",
       "      <th>Max</th>\n",
       "      <th>Avg</th>\n",
       "    </tr>\n",
       "  </thead>\n",
       "  <tbody>\n",
       "    <tr>\n",
       "      <th>0</th>\n",
       "      <td>31ORWUNT_WQX-OR666.2BACT</td>\n",
       "      <td>-82.5600</td>\n",
       "      <td>38.4011</td>\n",
       "      <td>Escherichia coli</td>\n",
       "      <td>69</td>\n",
       "      <td>10.00000</td>\n",
       "      <td>2282.00000</td>\n",
       "      <td>388.391304</td>\n",
       "    </tr>\n",
       "    <tr>\n",
       "      <th>1</th>\n",
       "      <td>31ORWUNT_WQX-OR666.2BACT</td>\n",
       "      <td>-82.5600</td>\n",
       "      <td>38.4011</td>\n",
       "      <td>Fecal Coliform</td>\n",
       "      <td>35</td>\n",
       "      <td>10.00000</td>\n",
       "      <td>1333.00000</td>\n",
       "      <td>227.085714</td>\n",
       "    </tr>\n",
       "    <tr>\n",
       "      <th>2</th>\n",
       "      <td>31ORWUNT_WQX-OR675.9BACT</td>\n",
       "      <td>-82.3874</td>\n",
       "      <td>38.4310</td>\n",
       "      <td>Escherichia coli</td>\n",
       "      <td>69</td>\n",
       "      <td>10.00000</td>\n",
       "      <td>2489.00000</td>\n",
       "      <td>261.028986</td>\n",
       "    </tr>\n",
       "    <tr>\n",
       "      <th>3</th>\n",
       "      <td>31ORWUNT_WQX-OR675.9BACT</td>\n",
       "      <td>-82.3874</td>\n",
       "      <td>38.4310</td>\n",
       "      <td>Fecal Coliform</td>\n",
       "      <td>35</td>\n",
       "      <td>10.00000</td>\n",
       "      <td>1616.00000</td>\n",
       "      <td>195.685714</td>\n",
       "    </tr>\n",
       "    <tr>\n",
       "      <th>515</th>\n",
       "      <td>USEPA-382942082182101</td>\n",
       "      <td>-82.3058</td>\n",
       "      <td>38.4950</td>\n",
       "      <td>Total dissolved solids</td>\n",
       "      <td>3</td>\n",
       "      <td>0.37000</td>\n",
       "      <td>269.00000</td>\n",
       "      <td>177.123333</td>\n",
       "    </tr>\n",
       "    <tr>\n",
       "      <th>558</th>\n",
       "      <td>USGS-03216070</td>\n",
       "      <td>-82.6859</td>\n",
       "      <td>38.5321</td>\n",
       "      <td>Acidity, hydrogen ion (H+)</td>\n",
       "      <td>98</td>\n",
       "      <td>0.00001</td>\n",
       "      <td>0.00005</td>\n",
       "      <td>0.000024</td>\n",
       "    </tr>\n",
       "    <tr>\n",
       "      <th>559</th>\n",
       "      <td>USGS-03216070</td>\n",
       "      <td>-82.6859</td>\n",
       "      <td>38.5321</td>\n",
       "      <td>Ammonia and ammonium</td>\n",
       "      <td>60</td>\n",
       "      <td>0.01000</td>\n",
       "      <td>0.08100</td>\n",
       "      <td>0.030367</td>\n",
       "    </tr>\n",
       "    <tr>\n",
       "      <th>560</th>\n",
       "      <td>USGS-03216070</td>\n",
       "      <td>-82.6859</td>\n",
       "      <td>38.5321</td>\n",
       "      <td>Barometric pressure</td>\n",
       "      <td>88</td>\n",
       "      <td>741.00000</td>\n",
       "      <td>762.00000</td>\n",
       "      <td>748.818182</td>\n",
       "    </tr>\n",
       "    <tr>\n",
       "      <th>561</th>\n",
       "      <td>USGS-03216070</td>\n",
       "      <td>-82.6859</td>\n",
       "      <td>38.5321</td>\n",
       "      <td>Carbon</td>\n",
       "      <td>44</td>\n",
       "      <td>0.27000</td>\n",
       "      <td>5.03000</td>\n",
       "      <td>1.706818</td>\n",
       "    </tr>\n",
       "    <tr>\n",
       "      <th>562</th>\n",
       "      <td>USGS-03216070</td>\n",
       "      <td>-82.6859</td>\n",
       "      <td>38.5321</td>\n",
       "      <td>Cloud cover (percent)</td>\n",
       "      <td>64</td>\n",
       "      <td>0.00000</td>\n",
       "      <td>100.00000</td>\n",
       "      <td>47.187500</td>\n",
       "    </tr>\n",
       "    <tr>\n",
       "      <th>563</th>\n",
       "      <td>USGS-03216070</td>\n",
       "      <td>-82.6859</td>\n",
       "      <td>38.5321</td>\n",
       "      <td>Deuterium/Hydrogen ratio</td>\n",
       "      <td>4</td>\n",
       "      <td>-52.10000</td>\n",
       "      <td>-51.70000</td>\n",
       "      <td>-51.900000</td>\n",
       "    </tr>\n",
       "    <tr>\n",
       "      <th>564</th>\n",
       "      <td>USGS-03216070</td>\n",
       "      <td>-82.6859</td>\n",
       "      <td>38.5321</td>\n",
       "      <td>Height, gage</td>\n",
       "      <td>192</td>\n",
       "      <td>1.49000</td>\n",
       "      <td>52.51000</td>\n",
       "      <td>23.676458</td>\n",
       "    </tr>\n",
       "    <tr>\n",
       "      <th>565</th>\n",
       "      <td>USGS-03216070</td>\n",
       "      <td>-82.6859</td>\n",
       "      <td>38.5321</td>\n",
       "      <td>Inorganic nitrogen (nitrate and nitrite)</td>\n",
       "      <td>92</td>\n",
       "      <td>0.48400</td>\n",
       "      <td>1.06000</td>\n",
       "      <td>0.796739</td>\n",
       "    </tr>\n",
       "    <tr>\n",
       "      <th>566</th>\n",
       "      <td>USGS-03216070</td>\n",
       "      <td>-82.6859</td>\n",
       "      <td>38.5321</td>\n",
       "      <td>Nitrate</td>\n",
       "      <td>92</td>\n",
       "      <td>0.47900</td>\n",
       "      <td>4.62000</td>\n",
       "      <td>2.099913</td>\n",
       "    </tr>\n",
       "    <tr>\n",
       "      <th>567</th>\n",
       "      <td>USGS-03216070</td>\n",
       "      <td>-82.6859</td>\n",
       "      <td>38.5321</td>\n",
       "      <td>Nitrite</td>\n",
       "      <td>92</td>\n",
       "      <td>0.00500</td>\n",
       "      <td>0.31300</td>\n",
       "      <td>0.028348</td>\n",
       "    </tr>\n",
       "    <tr>\n",
       "      <th>568</th>\n",
       "      <td>USGS-03216070</td>\n",
       "      <td>-82.6859</td>\n",
       "      <td>38.5321</td>\n",
       "      <td>Nitrogen</td>\n",
       "      <td>42</td>\n",
       "      <td>0.03300</td>\n",
       "      <td>0.40400</td>\n",
       "      <td>0.158857</td>\n",
       "    </tr>\n",
       "    <tr>\n",
       "      <th>569</th>\n",
       "      <td>USGS-03216070</td>\n",
       "      <td>-82.6859</td>\n",
       "      <td>38.5321</td>\n",
       "      <td>Nitrogen, mixed forms (NH3), (NH4), organic, (...</td>\n",
       "      <td>88</td>\n",
       "      <td>0.62000</td>\n",
       "      <td>1.40000</td>\n",
       "      <td>1.062727</td>\n",
       "    </tr>\n",
       "    <tr>\n",
       "      <th>570</th>\n",
       "      <td>USGS-03216070</td>\n",
       "      <td>-82.6859</td>\n",
       "      <td>38.5321</td>\n",
       "      <td>Organic Nitrogen</td>\n",
       "      <td>30</td>\n",
       "      <td>0.05000</td>\n",
       "      <td>0.24000</td>\n",
       "      <td>0.158667</td>\n",
       "    </tr>\n",
       "    <tr>\n",
       "      <th>571</th>\n",
       "      <td>USGS-03216070</td>\n",
       "      <td>-82.6859</td>\n",
       "      <td>38.5321</td>\n",
       "      <td>Orthophosphate</td>\n",
       "      <td>92</td>\n",
       "      <td>0.00500</td>\n",
       "      <td>0.08900</td>\n",
       "      <td>0.024891</td>\n",
       "    </tr>\n",
       "    <tr>\n",
       "      <th>572</th>\n",
       "      <td>USGS-03216070</td>\n",
       "      <td>-82.6859</td>\n",
       "      <td>38.5321</td>\n",
       "      <td>Oxygen</td>\n",
       "      <td>176</td>\n",
       "      <td>6.20000</td>\n",
       "      <td>119.00000</td>\n",
       "      <td>53.168182</td>\n",
       "    </tr>\n",
       "    <tr>\n",
       "      <th>573</th>\n",
       "      <td>USGS-03216070</td>\n",
       "      <td>-82.6859</td>\n",
       "      <td>38.5321</td>\n",
       "      <td>Oxygen-18/Oxygen-16 ratio</td>\n",
       "      <td>4</td>\n",
       "      <td>-8.09000</td>\n",
       "      <td>-8.05000</td>\n",
       "      <td>-8.070000</td>\n",
       "    </tr>\n",
       "    <tr>\n",
       "      <th>574</th>\n",
       "      <td>USGS-03216070</td>\n",
       "      <td>-82.6859</td>\n",
       "      <td>38.5321</td>\n",
       "      <td>Phosphorus</td>\n",
       "      <td>46</td>\n",
       "      <td>0.01300</td>\n",
       "      <td>0.32500</td>\n",
       "      <td>0.101609</td>\n",
       "    </tr>\n",
       "    <tr>\n",
       "      <th>575</th>\n",
       "      <td>USGS-03216070</td>\n",
       "      <td>-82.6859</td>\n",
       "      <td>38.5321</td>\n",
       "      <td>RBP High water mark</td>\n",
       "      <td>36</td>\n",
       "      <td>0.50000</td>\n",
       "      <td>160000.00000</td>\n",
       "      <td>8891.380556</td>\n",
       "    </tr>\n",
       "    <tr>\n",
       "      <th>576</th>\n",
       "      <td>USGS-03216070</td>\n",
       "      <td>-82.6859</td>\n",
       "      <td>38.5321</td>\n",
       "      <td>RBP Stream width</td>\n",
       "      <td>48</td>\n",
       "      <td>1220.00000</td>\n",
       "      <td>1440.00000</td>\n",
       "      <td>1377.083333</td>\n",
       "    </tr>\n",
       "    <tr>\n",
       "      <th>577</th>\n",
       "      <td>USGS-03216070</td>\n",
       "      <td>-82.6859</td>\n",
       "      <td>38.5321</td>\n",
       "      <td>Sediment</td>\n",
       "      <td>78</td>\n",
       "      <td>0.00060</td>\n",
       "      <td>1.48950</td>\n",
       "      <td>0.393523</td>\n",
       "    </tr>\n",
       "    <tr>\n",
       "      <th>578</th>\n",
       "      <td>USGS-03216070</td>\n",
       "      <td>-82.6859</td>\n",
       "      <td>38.5321</td>\n",
       "      <td>Silica</td>\n",
       "      <td>48</td>\n",
       "      <td>4.37000</td>\n",
       "      <td>7.40000</td>\n",
       "      <td>5.949583</td>\n",
       "    </tr>\n",
       "    <tr>\n",
       "      <th>579</th>\n",
       "      <td>USGS-03216070</td>\n",
       "      <td>-82.6859</td>\n",
       "      <td>38.5321</td>\n",
       "      <td>Specific conductance</td>\n",
       "      <td>98</td>\n",
       "      <td>220.00000</td>\n",
       "      <td>461.00000</td>\n",
       "      <td>298.122449</td>\n",
       "    </tr>\n",
       "    <tr>\n",
       "      <th>580</th>\n",
       "      <td>USGS-03216070</td>\n",
       "      <td>-82.6859</td>\n",
       "      <td>38.5321</td>\n",
       "      <td>Stream flow, instantaneous</td>\n",
       "      <td>180</td>\n",
       "      <td>855.00000</td>\n",
       "      <td>435000.00000</td>\n",
       "      <td>81905.722222</td>\n",
       "    </tr>\n",
       "    <tr>\n",
       "      <th>581</th>\n",
       "      <td>USGS-03216070</td>\n",
       "      <td>-82.6859</td>\n",
       "      <td>38.5321</td>\n",
       "      <td>Suspended Sediment Concentration (SSC)</td>\n",
       "      <td>80</td>\n",
       "      <td>5.00000</td>\n",
       "      <td>339.00000</td>\n",
       "      <td>89.525000</td>\n",
       "    </tr>\n",
       "    <tr>\n",
       "      <th>582</th>\n",
       "      <td>USGS-03216070</td>\n",
       "      <td>-82.6859</td>\n",
       "      <td>38.5321</td>\n",
       "      <td>Suspended Sediment Discharge</td>\n",
       "      <td>36</td>\n",
       "      <td>534.00000</td>\n",
       "      <td>349000.00000</td>\n",
       "      <td>50552.444444</td>\n",
       "    </tr>\n",
       "    <tr>\n",
       "      <th>583</th>\n",
       "      <td>USGS-03216070</td>\n",
       "      <td>-82.6859</td>\n",
       "      <td>38.5321</td>\n",
       "      <td>Temperature, air, deg C</td>\n",
       "      <td>88</td>\n",
       "      <td>-10.00000</td>\n",
       "      <td>31.10000</td>\n",
       "      <td>15.165909</td>\n",
       "    </tr>\n",
       "    <tr>\n",
       "      <th>584</th>\n",
       "      <td>USGS-03216070</td>\n",
       "      <td>-82.6859</td>\n",
       "      <td>38.5321</td>\n",
       "      <td>Temperature, air, deg F</td>\n",
       "      <td>4</td>\n",
       "      <td>40.00000</td>\n",
       "      <td>50.00000</td>\n",
       "      <td>45.000000</td>\n",
       "    </tr>\n",
       "    <tr>\n",
       "      <th>585</th>\n",
       "      <td>USGS-03216070</td>\n",
       "      <td>-82.6859</td>\n",
       "      <td>38.5321</td>\n",
       "      <td>Temperature, water</td>\n",
       "      <td>92</td>\n",
       "      <td>1.50000</td>\n",
       "      <td>34.20000</td>\n",
       "      <td>13.519565</td>\n",
       "    </tr>\n",
       "    <tr>\n",
       "      <th>586</th>\n",
       "      <td>USGS-03216070</td>\n",
       "      <td>-82.6859</td>\n",
       "      <td>38.5321</td>\n",
       "      <td>Turbidity</td>\n",
       "      <td>90</td>\n",
       "      <td>2.90000</td>\n",
       "      <td>210.00000</td>\n",
       "      <td>43.811111</td>\n",
       "    </tr>\n",
       "    <tr>\n",
       "      <th>587</th>\n",
       "      <td>USGS-03216070</td>\n",
       "      <td>-82.6859</td>\n",
       "      <td>38.5321</td>\n",
       "      <td>Wind velocity</td>\n",
       "      <td>58</td>\n",
       "      <td>0.00000</td>\n",
       "      <td>20.00000</td>\n",
       "      <td>8.758621</td>\n",
       "    </tr>\n",
       "    <tr>\n",
       "      <th>588</th>\n",
       "      <td>USGS-03216070</td>\n",
       "      <td>-82.6859</td>\n",
       "      <td>38.5321</td>\n",
       "      <td>pH</td>\n",
       "      <td>98</td>\n",
       "      <td>7.30000</td>\n",
       "      <td>8.10000</td>\n",
       "      <td>7.651020</td>\n",
       "    </tr>\n",
       "  </tbody>\n",
       "</table>\n",
       "</div>"
      ],
      "text/plain": [
       "                         Site      Lon      Lat  \\\n",
       "0    31ORWUNT_WQX-OR666.2BACT -82.5600  38.4011   \n",
       "1    31ORWUNT_WQX-OR666.2BACT -82.5600  38.4011   \n",
       "2    31ORWUNT_WQX-OR675.9BACT -82.3874  38.4310   \n",
       "3    31ORWUNT_WQX-OR675.9BACT -82.3874  38.4310   \n",
       "515     USEPA-382942082182101 -82.3058  38.4950   \n",
       "558             USGS-03216070 -82.6859  38.5321   \n",
       "559             USGS-03216070 -82.6859  38.5321   \n",
       "560             USGS-03216070 -82.6859  38.5321   \n",
       "561             USGS-03216070 -82.6859  38.5321   \n",
       "562             USGS-03216070 -82.6859  38.5321   \n",
       "563             USGS-03216070 -82.6859  38.5321   \n",
       "564             USGS-03216070 -82.6859  38.5321   \n",
       "565             USGS-03216070 -82.6859  38.5321   \n",
       "566             USGS-03216070 -82.6859  38.5321   \n",
       "567             USGS-03216070 -82.6859  38.5321   \n",
       "568             USGS-03216070 -82.6859  38.5321   \n",
       "569             USGS-03216070 -82.6859  38.5321   \n",
       "570             USGS-03216070 -82.6859  38.5321   \n",
       "571             USGS-03216070 -82.6859  38.5321   \n",
       "572             USGS-03216070 -82.6859  38.5321   \n",
       "573             USGS-03216070 -82.6859  38.5321   \n",
       "574             USGS-03216070 -82.6859  38.5321   \n",
       "575             USGS-03216070 -82.6859  38.5321   \n",
       "576             USGS-03216070 -82.6859  38.5321   \n",
       "577             USGS-03216070 -82.6859  38.5321   \n",
       "578             USGS-03216070 -82.6859  38.5321   \n",
       "579             USGS-03216070 -82.6859  38.5321   \n",
       "580             USGS-03216070 -82.6859  38.5321   \n",
       "581             USGS-03216070 -82.6859  38.5321   \n",
       "582             USGS-03216070 -82.6859  38.5321   \n",
       "583             USGS-03216070 -82.6859  38.5321   \n",
       "584             USGS-03216070 -82.6859  38.5321   \n",
       "585             USGS-03216070 -82.6859  38.5321   \n",
       "586             USGS-03216070 -82.6859  38.5321   \n",
       "587             USGS-03216070 -82.6859  38.5321   \n",
       "588             USGS-03216070 -82.6859  38.5321   \n",
       "\n",
       "                                              Property  Count         Min  \\\n",
       "0                                     Escherichia coli     69    10.00000   \n",
       "1                                       Fecal Coliform     35    10.00000   \n",
       "2                                     Escherichia coli     69    10.00000   \n",
       "3                                       Fecal Coliform     35    10.00000   \n",
       "515                             Total dissolved solids      3     0.37000   \n",
       "558                         Acidity, hydrogen ion (H+)     98     0.00001   \n",
       "559                               Ammonia and ammonium     60     0.01000   \n",
       "560                                Barometric pressure     88   741.00000   \n",
       "561                                             Carbon     44     0.27000   \n",
       "562                              Cloud cover (percent)     64     0.00000   \n",
       "563                           Deuterium/Hydrogen ratio      4   -52.10000   \n",
       "564                                       Height, gage    192     1.49000   \n",
       "565           Inorganic nitrogen (nitrate and nitrite)     92     0.48400   \n",
       "566                                            Nitrate     92     0.47900   \n",
       "567                                            Nitrite     92     0.00500   \n",
       "568                                           Nitrogen     42     0.03300   \n",
       "569  Nitrogen, mixed forms (NH3), (NH4), organic, (...     88     0.62000   \n",
       "570                                   Organic Nitrogen     30     0.05000   \n",
       "571                                     Orthophosphate     92     0.00500   \n",
       "572                                             Oxygen    176     6.20000   \n",
       "573                          Oxygen-18/Oxygen-16 ratio      4    -8.09000   \n",
       "574                                         Phosphorus     46     0.01300   \n",
       "575                                RBP High water mark     36     0.50000   \n",
       "576                                   RBP Stream width     48  1220.00000   \n",
       "577                                           Sediment     78     0.00060   \n",
       "578                                             Silica     48     4.37000   \n",
       "579                               Specific conductance     98   220.00000   \n",
       "580                         Stream flow, instantaneous    180   855.00000   \n",
       "581             Suspended Sediment Concentration (SSC)     80     5.00000   \n",
       "582                       Suspended Sediment Discharge     36   534.00000   \n",
       "583                            Temperature, air, deg C     88   -10.00000   \n",
       "584                            Temperature, air, deg F      4    40.00000   \n",
       "585                                 Temperature, water     92     1.50000   \n",
       "586                                          Turbidity     90     2.90000   \n",
       "587                                      Wind velocity     58     0.00000   \n",
       "588                                                 pH     98     7.30000   \n",
       "\n",
       "              Max           Avg  \n",
       "0      2282.00000    388.391304  \n",
       "1      1333.00000    227.085714  \n",
       "2      2489.00000    261.028986  \n",
       "3      1616.00000    195.685714  \n",
       "515     269.00000    177.123333  \n",
       "558       0.00005      0.000024  \n",
       "559       0.08100      0.030367  \n",
       "560     762.00000    748.818182  \n",
       "561       5.03000      1.706818  \n",
       "562     100.00000     47.187500  \n",
       "563     -51.70000    -51.900000  \n",
       "564      52.51000     23.676458  \n",
       "565       1.06000      0.796739  \n",
       "566       4.62000      2.099913  \n",
       "567       0.31300      0.028348  \n",
       "568       0.40400      0.158857  \n",
       "569       1.40000      1.062727  \n",
       "570       0.24000      0.158667  \n",
       "571       0.08900      0.024891  \n",
       "572     119.00000     53.168182  \n",
       "573      -8.05000     -8.070000  \n",
       "574       0.32500      0.101609  \n",
       "575  160000.00000   8891.380556  \n",
       "576    1440.00000   1377.083333  \n",
       "577       1.48950      0.393523  \n",
       "578       7.40000      5.949583  \n",
       "579     461.00000    298.122449  \n",
       "580  435000.00000  81905.722222  \n",
       "581     339.00000     89.525000  \n",
       "582  349000.00000  50552.444444  \n",
       "583      31.10000     15.165909  \n",
       "584      50.00000     45.000000  \n",
       "585      34.20000     13.519565  \n",
       "586     210.00000     43.811111  \n",
       "587      20.00000      8.758621  \n",
       "588       8.10000      7.651020  "
      ]
     },
     "execution_count": 442,
     "metadata": {},
     "output_type": "execute_result"
    }
   ],
   "source": [
    "summary_table[summary_table['Count']>2]"
   ]
  },
  {
   "cell_type": "code",
   "execution_count": 443,
   "metadata": {},
   "outputs": [],
   "source": [
    "#data_table.query('Property == \"Nitrogen\"')"
   ]
  },
  {
   "cell_type": "markdown",
   "metadata": {},
   "source": [
    "<div id='water_quality_map' />"
   ]
  },
  {
   "cell_type": "markdown",
   "metadata": {},
   "source": [
    "### Generate a color map of a given  property"
   ]
  },
  {
   "cell_type": "code",
   "execution_count": 444,
   "metadata": {
    "extensions": {
     "jupyter_dashboards": {
      "version": 1,
      "views": {
       "grid_default": {
        "hidden": true
       },
       "report_default": {
        "hidden": true
       }
      }
     }
    }
   },
   "outputs": [
    {
     "data": {
      "text/plain": [
       "<folium.plugins.scroll_zoom_toggler.ScrollZoomToggler at 0x7f899c972da0>"
      ]
     },
     "execution_count": 444,
     "metadata": {},
     "output_type": "execute_result"
    },
    {
     "data": {
      "text/plain": [
       "<folium.plugins.fullscreen.Fullscreen at 0x7f899d4e9a90>"
      ]
     },
     "execution_count": 444,
     "metadata": {},
     "output_type": "execute_result"
    },
    {
     "data": {
      "text/plain": [
       "<folium.raster_layers.TileLayer at 0x7f899c972a58>"
      ]
     },
     "execution_count": 444,
     "metadata": {},
     "output_type": "execute_result"
    },
    {
     "data": {
      "text/plain": [
       "<folium.map.LayerControl at 0x7f89d827aa90>"
      ]
     },
     "execution_count": 444,
     "metadata": {},
     "output_type": "execute_result"
    }
   ],
   "source": [
    "def val2color(min,value,max):\n",
    "    fraction = int((value-min)/(max-min)*255)\n",
    "    return '#{0:02X}00{1:02X}'.format(fraction,255-fraction)\n",
    "\n",
    "wqp_property_map = folium.Map(nwis_site_coord,zoom_start=10,tiles=None)\n",
    "plugins.ScrollZoomToggler().add_to(wqp_property_map);\n",
    "plugins.Fullscreen(\n",
    "    position='bottomright',\n",
    "    title='Full Screen',\n",
    "    title_cancel='Exit Full Screen',\n",
    "    force_separate_button=True\n",
    ").add_to(wqp_property_map);\n",
    "\n",
    "fg = []\n",
    "i = 0\n",
    "for property in top_properties:\n",
    "    \n",
    "    mean_val = data_table.query(\"Property == '\"+property+\"'\")['Value'].mean()\n",
    "    min_val = data_table.query(\"Property == '\"+property+\"'\")['Value'].min()\n",
    "    max_val = data_table.query(\"Property == '\"+property+\"'\")['Value'].max()\n",
    "    std_val = data_table.query(\"Property == '\"+property+\"'\")['Value'].std()\n",
    "    width = 500\n",
    "    height = 90\n",
    "    max_width = 1000 \n",
    "    fg.append(folium.FeatureGroup(name=property[:20],overlay=False,show=True));\n",
    "\n",
    "    for j, row in summary_table.iterrows():\n",
    "        try:\n",
    "            if (math.isnan(row.Avg) or math.isnan(mean_val) or math.isnan(std_val) or math.isnan(min_val) or math.isnan(max_val)):\n",
    "                continue\n",
    "        except:\n",
    "            continue\n",
    "        coord = [row.Lat,row.Lon]\n",
    "        value = float(row.Avg)\n",
    "        radius = 5\n",
    "        #radius = 7+2*abs(value-mean_val)/std_val\n",
    "        color = val2color(min_val,value,max_val)\n",
    "        fill_color = color\n",
    "        label = \"{0:s}: {1:s} = {2:.2f}\".format(row.Site,property,value)\n",
    "        html = label\n",
    "        #html += '<br>min = {0:.2f}, max = {1:.2f}'.format(min_val,max_val)\n",
    "        #html += '<br>color = '+color\n",
    "        html += '<br>'+row.Site\n",
    "        #html += '<br>'+row.Description\n",
    "        html += '<br>Lat: {0:.2f}'.format(row.Lat)+', Lon: {0:.2f}'.format(row.Lon)\n",
    "        iframe = folium.IFrame(html,width=width,height=height)\n",
    "        popup = folium.Popup(iframe,max_width=max_width)\n",
    "        _ = fg[i].add_child(folium.CircleMarker(location=coord,radius=radius,color=color,opacity=0.7,fill=True,fill_color=fill_color,fill_opacity=0.7,popup=popup,tooltip=label)).add_to(wqp_property_map);\n",
    "\n",
    "    i = i+1\n",
    "\n",
    "folium.TileLayer('OpenStreetMap',control=False).add_to(wqp_property_map);\n",
    "folium.LayerControl(collapsed=False).add_to(wqp_property_map);\n",
    "\n",
    "wqp_property_map.save(OUT_DIR+\"/wqp_property_map.html\")"
   ]
  },
  {
   "cell_type": "code",
   "execution_count": 445,
   "metadata": {
    "extensions": {
     "jupyter_dashboards": {
      "version": 1,
      "views": {
       "grid_default": {
        "col": 0,
        "height": 21,
        "hidden": false,
        "row": 51,
        "width": 10
       },
       "report_default": {
        "hidden": false
       }
      }
     }
    }
   },
   "outputs": [
    {
     "data": {
      "text/html": [
       "\n",
       "        <iframe\n",
       "            width=\"1000\"\n",
       "            height=\"500\"\n",
       "            src=\"data/USGS-03206000/out/wqp_property_map.html\"\n",
       "            frameborder=\"0\"\n",
       "            allowfullscreen\n",
       "        ></iframe>\n",
       "        "
      ],
      "text/plain": [
       "<IPython.lib.display.IFrame at 0x7f89d9cf60b8>"
      ]
     },
     "execution_count": 445,
     "metadata": {},
     "output_type": "execute_result"
    }
   ],
   "source": [
    "IFrame(OUT_DIR+\"/wqp_property_map.html\", width=1000, height=500)"
   ]
  },
  {
   "cell_type": "markdown",
   "metadata": {},
   "source": [
    "## USGS Gage Data"
   ]
  },
  {
   "cell_type": "markdown",
   "metadata": {},
   "source": [
    "#### Get NWIS Sites (USGS Gage Stations) from database created for this river reach"
   ]
  },
  {
   "cell_type": "code",
   "execution_count": 446,
   "metadata": {},
   "outputs": [],
   "source": [
    "nwis_sites = spatialite_session.query(Site).filter_by(type='NWIS')\n",
    "\n",
    "nwis_sites_menu = []\n",
    "for row in nwis_sites:\n",
    "    nwis_sites_menu.append(row.name)"
   ]
  },
  {
   "cell_type": "markdown",
   "metadata": {},
   "source": [
    "<div id='gage_selection'></div>"
   ]
  },
  {
   "cell_type": "markdown",
   "metadata": {},
   "source": [
    "### Select Gage and date range"
   ]
  },
  {
   "cell_type": "code",
   "execution_count": 447,
   "metadata": {},
   "outputs": [
    {
     "data": {
      "application/vnd.jupyter.widget-view+json": {
       "model_id": "47dbe32b2a7c4d2195352208b7ba4205",
       "version_major": 2,
       "version_minor": 0
      },
      "text/plain": [
       "VBox(children=(Label(value='Select USGS Gage (NWIS Station):\\n'), Dropdown(description='NWIS Station:', option…"
      ]
     },
     "metadata": {},
     "output_type": "display_data"
    }
   ],
   "source": [
    "usgs_gage_selector = widgets.VBox(\n",
    "    [\n",
    "        widgets.Label(\n",
    "            value='Select USGS Gage (NWIS Station):\\n'\n",
    "        ),\n",
    "        widgets.Dropdown(\n",
    "            options=nwis_sites_menu, \n",
    "            value=NWIS_SITE, \n",
    "            description='NWIS Station:'\n",
    "        ),\n",
    "        date_range_slider,\n",
    "        run_button\n",
    "    ]\n",
    ")\n",
    "display(usgs_gage_selector)"
   ]
  },
  {
   "cell_type": "code",
   "execution_count": 448,
   "metadata": {},
   "outputs": [],
   "source": [
    "USGS_gage = usgs_gage_selector.children[1].value\n",
    "USGS_begin_date = usgs_gage_selector.children[2].value[0]\n",
    "USGS_end_date = usgs_gage_selector.children[2].value[1]"
   ]
  },
  {
   "cell_type": "code",
   "execution_count": 449,
   "metadata": {},
   "outputs": [],
   "source": [
    "begin_date_str = \"{0}-{1}-{2}\".format(USGS_begin_date.year,USGS_begin_date.month,USGS_begin_date.day)\n",
    "end_date_str = \"{0}-{1}-{2}\".format(USGS_end_date.year,USGS_end_date.month,USGS_end_date.day)"
   ]
  },
  {
   "cell_type": "markdown",
   "metadata": {
    "extensions": {
     "jupyter_dashboards": {
      "version": 1,
      "views": {
       "grid_default": {
        "hidden": true
       },
       "report_default": {
        "hidden": true
       }
      }
     }
    }
   },
   "source": [
    "### Get USGS Gage data directly from USGS (WaterData) web services \n",
    "* TODO:\n",
    "  * Create selector for property(ies)\n",
    "  * Create dictionary of property codes, names, and order returned:\n",
    "     *  168408 72254 Water velocity reading from field sensor, feet per second\n",
    "     *  209867 72255 Mean water velocity for discharge computation, feet per second\n",
    "     *  209869 00060 Discharge, cubic feet per second\n",
    "     *  231500 00011 Temperature, water, degrees Fahrenheit, ADVM\n",
    "     *   59675 00065 Gage height, feet\n",
    "     *   59676 00010 Temperature, water, degrees Celsius\n",
    "     *   59677 00400 pH, water, unfiltered, field, standard units\n",
    "     *   59678 00095 Specific conductance, water, unfiltered, microsiemens per centimeter at 25 degrees Celsius\n",
    "     *   59679 00300 Dissolved oxygen, water, unfiltered, milligrams per liter\n",
    "     *   59680 63680 Turbidity, water, unfiltered, monochrome near infra-red LED light, 780-900 nm, detection angle 90 +-2.5 degrees, formazin nephelometric units (FNU)\n",
    "     *   59681 99133 Nitrate plus nitrite, water, in situ, milligrams per liter as nitrogen\n",
    "* Varies with gage\n",
    "* Order out does not match order of params\n",
    "* See: https://nwis.waterdata.usgs.gov/usa/nwis, https://waterservices.usgs.gov/rest/\n",
    "* Can use dv instead of uv to get daily summary data (no timezone field)\n",
    "* Can also receive data in WaterML and JSON formats\n",
    "* Some USGS gages (e.g., USGS-03206000, Huntington) also collect precipitation data (cb_00045)"
   ]
  },
  {
   "cell_type": "code",
   "execution_count": 450,
   "metadata": {},
   "outputs": [],
   "source": [
    "usgs_gage = pd.read_csv(\"https://nwis.waterdata.usgs.gov/usa/nwis/uv/\"+ \\\n",
    "                        \"?site_no=\"+USGS_gage[5:]+ \\\n",
    "                        \"&period=&begin_date=\"+begin_date_str+\"&end_date=\"+end_date_str+ \\\n",
    "                        \"&cb_00065=on\"+ \\\n",
    "                        \"&format=rdb\", \\\n",
    "                       sep='\\t',comment='#',header=[0,1], \\\n",
    "                       dtype={4: np.float64}, \\\n",
    "                       na_values=['Eqp'])"
   ]
  },
  {
   "cell_type": "code",
   "execution_count": 451,
   "metadata": {},
   "outputs": [],
   "source": [
    "usgs_gage = usgs_gage.reset_index()\n",
    "usgs_gage.columns = ['Index', 'Agency', 'Site', 'DateTime', 'TZ', 'Gage height', 'qa'] # TODO: Need to lookup property name from a dictionary"
   ]
  },
  {
   "cell_type": "code",
   "execution_count": 452,
   "metadata": {},
   "outputs": [],
   "source": [
    "usgs_gage = usgs_gage.drop(usgs_gage.columns[6:8:2],axis=1) # TODO: set upper limit based on number of properties requested/returned\n",
    "usgs_gage = usgs_gage.drop(['Index','Agency','Site','TZ'],axis=1)"
   ]
  },
  {
   "cell_type": "markdown",
   "metadata": {},
   "source": [
    "#### Limit property ranges\n",
    " * TODO: use list properties and dictionary to dynamically select columns and limits"
   ]
  },
  {
   "cell_type": "code",
   "execution_count": 453,
   "metadata": {},
   "outputs": [],
   "source": [
    "#usgs_gage['Turbidity'] = usgs_gage['Turbidity'].apply(lambda x: TURB_MIN if x < TURB_MIN else x)  # Examples only\n",
    "#usgs_gage['Turbidity'] = usgs_gage['Turbidity'].apply(lambda x: TURB_MAX if x > TURB_MAX else x)"
   ]
  },
  {
   "cell_type": "markdown",
   "metadata": {},
   "source": [
    "#### Compute depth (in meters) from Gage height (in feet)"
   ]
  },
  {
   "cell_type": "code",
   "execution_count": 454,
   "metadata": {},
   "outputs": [],
   "source": [
    "usgs_gage['Depth'] = usgs_gage.apply(lambda x: (x['Gage height']-GAGE_HGT0)/FT_PER_M, axis=1) # TODO: GAGE_HGT0 should be determined from gage elevation (above sea-level)"
   ]
  },
  {
   "cell_type": "markdown",
   "metadata": {},
   "source": [
    "#### Index by Date-time"
   ]
  },
  {
   "cell_type": "code",
   "execution_count": 455,
   "metadata": {
    "extensions": {
     "jupyter_dashboards": {
      "version": 1,
      "views": {
       "grid_default": {
        "hidden": true
       },
       "report_default": {
        "hidden": true
       }
      }
     }
    }
   },
   "outputs": [],
   "source": [
    "def datetime_usgs(row):\n",
    "    pattern = '%Y-%m-%d %H:%M'\n",
    "    dt = row['DateTime']\n",
    "    return pd.to_datetime(time.mktime(time.strptime(dt,pattern)),unit='s')\n",
    "    \n",
    "usgs_gage['DateTime'] = usgs_gage.apply(lambda row: datetime_usgs(row),axis=1)\n",
    "usgs_gage = usgs_gage.set_index(['DateTime'])"
   ]
  },
  {
   "cell_type": "code",
   "execution_count": 456,
   "metadata": {
    "extensions": {
     "jupyter_dashboards": {
      "version": 1,
      "views": {
       "grid_default": {
        "hidden": true
       },
       "report_default": {
        "hidden": true
       }
      }
     }
    }
   },
   "outputs": [],
   "source": [
    "usgs_gage['Year'] = usgs_gage.index.year\n",
    "usgs_gage['Month'] = usgs_gage.index.month"
   ]
  },
  {
   "cell_type": "markdown",
   "metadata": {},
   "source": [
    "#### Put data in database\n",
    " * TODO: Need to define property table\n",
    "   * Site, DateTime, PropertyName, PropertyValue\n",
    "   * Join with Sites to get Lat, Lon"
   ]
  },
  {
   "cell_type": "markdown",
   "metadata": {},
   "source": [
    "<div id='usgs_plots'></div>"
   ]
  },
  {
   "cell_type": "markdown",
   "metadata": {},
   "source": [
    "## USGS Gage Plots"
   ]
  },
  {
   "cell_type": "markdown",
   "metadata": {},
   "source": [
    "### Distribution plots"
   ]
  },
  {
   "cell_type": "code",
   "execution_count": 457,
   "metadata": {
    "extensions": {
     "jupyter_dashboards": {
      "version": 1,
      "views": {
       "grid_default": {
        "hidden": true
       },
       "report_default": {
        "hidden": true
       }
      }
     }
    }
   },
   "outputs": [
    {
     "data": {
      "application/vnd.jupyter.widget-view+json": {
       "model_id": "5a7be6839e4747cbbf55cc4f0619fbef",
       "version_major": 2,
       "version_minor": 0
      },
      "text/plain": [
       "interactive(children=(Dropdown(description='Property', options=('Gage height', 'Depth', 'Year', 'Month'), valu…"
      ]
     },
     "metadata": {},
     "output_type": "display_data"
    }
   ],
   "source": [
    "def dist_plot_ts_gage(Property,Kind='kde'):\n",
    "    usgs_gage[Property].plot(kind=Kind,color='blue')\n",
    "        \n",
    "interact(dist_plot_ts_gage, \\\n",
    "         Property=usgs_gage.columns, \\\n",
    "         Kind=['hist','kde','box'] \\\n",
    "        );"
   ]
  },
  {
   "cell_type": "markdown",
   "metadata": {},
   "source": [
    "### Correlation plots"
   ]
  },
  {
   "cell_type": "code",
   "execution_count": 458,
   "metadata": {
    "extensions": {
     "jupyter_dashboards": {
      "version": 1,
      "views": {
       "grid_default": {
        "hidden": true
       },
       "report_default": {
        "hidden": true
       }
      }
     }
    }
   },
   "outputs": [
    {
     "data": {
      "application/vnd.jupyter.widget-view+json": {
       "model_id": "0235a35cf6ca40528a9a0b6d62f11cb5",
       "version_major": 2,
       "version_minor": 0
      },
      "text/plain": [
       "interactive(children=(Dropdown(description='YProperty', options=('Gage height', 'Depth', 'Year', 'Month'), val…"
      ]
     },
     "metadata": {},
     "output_type": "display_data"
    }
   ],
   "source": [
    "def scatter_plot_ts_gage(YProperty=usgs_gage.columns[0],XProperty=usgs_gage.columns[1],CProperty=usgs_gage.columns[1],ColorMap='jet'):\n",
    "    fig, ax = plt.subplots()\n",
    "    usgs_gage.plot.scatter(ax=ax,x=XProperty,y=YProperty,c=CProperty,cmap=ColorMap,s=1)\n",
    "    ax.set_title(\"Correlation of \"+YProperty+\" and \"+XProperty,fontsize=14)\n",
    "    \n",
    "interact(scatter_plot_ts_gage, \\\n",
    "         YProperty=usgs_gage.columns, \\\n",
    "         XProperty=usgs_gage.columns, \\\n",
    "         CProperty=usgs_gage.columns, \\\n",
    "         ColorMap=['jet','viridis','magma','coolwarm','seismic','Greys','Reds','Blues'] \\\n",
    "        );"
   ]
  },
  {
   "cell_type": "markdown",
   "metadata": {},
   "source": [
    "#### Disable scrolling for time-serie plots"
   ]
  },
  {
   "cell_type": "code",
   "execution_count": 459,
   "metadata": {},
   "outputs": [
    {
     "data": {
      "application/javascript": [
       "IPython.OutputArea.prototype._should_scroll = function(lines) {\n",
       "    return false;\n",
       "}\n"
      ],
      "text/plain": [
       "<IPython.core.display.Javascript object>"
      ]
     },
     "metadata": {},
     "output_type": "display_data"
    }
   ],
   "source": [
    "%%javascript\n",
    "IPython.OutputArea.prototype._should_scroll = function(lines) {\n",
    "    return false;\n",
    "}"
   ]
  },
  {
   "cell_type": "markdown",
   "metadata": {},
   "source": [
    "### Time-series plots\n",
    "* TODO: look into using Seaborn or Bokeh for nicer plots"
   ]
  },
  {
   "cell_type": "code",
   "execution_count": 460,
   "metadata": {
    "extensions": {
     "jupyter_dashboards": {
      "version": 1,
      "views": {
       "grid_default": {
        "hidden": true
       },
       "report_default": {
        "hidden": true
       }
      }
     }
    }
   },
   "outputs": [
    {
     "data": {
      "application/vnd.jupyter.widget-view+json": {
       "model_id": "35600035a0f14232a1c1567b9302e768",
       "version_major": 2,
       "version_minor": 0
      },
      "text/plain": [
       "interactive(children=(SelectionRangeSlider(description='Dates', index=(0, 27), layout=Layout(width='500px'), o…"
      ]
     },
     "metadata": {},
     "output_type": "display_data"
    }
   ],
   "source": [
    "def plot_ts_gage(date_range=(start_date,end_date)):\n",
    "    fig, axes = plt.subplots(nrows=len(usgs_gage.columns)-2,ncols=1,figsize=(20,20)) # TODO: set rows/height based on number of properties\n",
    "    i = 0\n",
    "    for property in usgs_gage.drop(['Month','Year'],axis=1).columns:\n",
    "        usgs_gage[property].plot(ax=axes[i],drawstyle='steps-post',legend=True,color='blue')\n",
    "        axes[i].legend([property],loc='upper left')\n",
    "        axes[i].set_xlim(date_range)\n",
    "        i = i+1\n",
    "            \n",
    "interact(plot_ts_gage,date_range=date_range_slider);"
   ]
  },
  {
   "cell_type": "markdown",
   "metadata": {},
   "source": [
    "### Monthly box & whisker plots"
   ]
  },
  {
   "cell_type": "code",
   "execution_count": 461,
   "metadata": {},
   "outputs": [
    {
     "data": {
      "application/vnd.jupyter.widget-view+json": {
       "model_id": "6cded2d16071424bacb4ddefe80cc75e",
       "version_major": 2,
       "version_minor": 0
      },
      "text/plain": [
       "interactive(children=(Dropdown(description='Property', options=('Gage height', 'Depth'), value='Gage height'),…"
      ]
     },
     "metadata": {},
     "output_type": "display_data"
    }
   ],
   "source": [
    "# Using MatPlotLib\n",
    "def usgs_box_plots(Property):\n",
    "    fig, ax = plt.subplots(nrows=1,ncols=1,figsize=(20,10),sharex=True)\n",
    "    custom_means = dict(marker='D', markeredgecolor='black', markerfacecolor='firebrick')\n",
    "    custom_box = dict(linestyle='-', linewidth=2, color='darkgoldenrod')\n",
    "    usgs_gage.boxplot(ax=ax,column=[Property],by=['Year','Month'],grid=False,meanprops=custom_means,showmeans=True,meanline=False,boxprops=custom_box)\n",
    "    plt.suptitle('')\n",
    "    ax.set_title(Property, fontsize=16)\n",
    "            \n",
    "interact(usgs_box_plots,Property=usgs_gage.drop(['Month','Year'],axis=1).columns);"
   ]
  },
  {
   "cell_type": "code",
   "execution_count": 462,
   "metadata": {},
   "outputs": [
    {
     "data": {
      "application/vnd.jupyter.widget-view+json": {
       "model_id": "218354b5d37a43829dba36d583b1654a",
       "version_major": 2,
       "version_minor": 0
      },
      "text/plain": [
       "interactive(children=(Dropdown(description='Property', options=('Gage height', 'Depth'), value='Gage height'),…"
      ]
     },
     "metadata": {},
     "output_type": "display_data"
    }
   ],
   "source": [
    "# Using Seaborn\n",
    "# Can't figure out how to use Month-Year as combo. Use hue nesting instead\n",
    "def usgs_box_plots2(Property):\n",
    "    fig, ax = plt.subplots(nrows=1,ncols=1,figsize=(20,10),sharex=True)\n",
    "    sbn.boxplot(ax = ax, data=usgs_gage, y=Property, x='Month', hue='Year')\n",
    "                \n",
    "interact(usgs_box_plots2, Property=usgs_gage.drop(['Year','Month'],axis=1).columns);"
   ]
  }
 ],
 "metadata": {
  "extensions": {
   "jupyter_dashboards": {
    "activeView": "report_default",
    "version": 1,
    "views": {
     "grid_default": {
      "cellMargin": 10,
      "defaultCellHeight": 20,
      "maxColumns": 12,
      "name": "grid",
      "type": "grid"
     },
     "report_default": {
      "name": "report",
      "type": "report"
     }
    }
   }
  },
  "kernelspec": {
   "display_name": "Python 3",
   "language": "python",
   "name": "python3"
  },
  "language_info": {
   "codemirror_mode": {
    "name": "ipython",
    "version": 3
   },
   "file_extension": ".py",
   "mimetype": "text/x-python",
   "name": "python",
   "nbconvert_exporter": "python",
   "pygments_lexer": "ipython3",
   "version": "3.7.3"
  }
 },
 "nbformat": 4,
 "nbformat_minor": 4
}
