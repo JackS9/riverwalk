{
 "cells": [
  {
   "cell_type": "markdown",
   "metadata": {
    "extensions": {
     "jupyter_dashboards": {
      "version": 1,
      "views": {
       "grid_default": {
        "col": 0,
        "height": 4,
        "hidden": false,
        "row": 0,
        "width": 4
       },
       "report_default": {
        "hidden": false
       }
      }
     }
    }
   },
   "source": [
    "# Create map of a stream reach based on a specified NWIS site and range, including various feature layers derived from USGS NLDI navigation along the stream, its tributaries and associated drainage basins, while also extracting data for further analysis (plotting and statistics)"
   ]
  },
  {
   "cell_type": "markdown",
   "metadata": {},
   "source": [
    "<h2>Quick index:</h2>\n",
    "<ul>\n",
    "    <li><a href=#reach>Define River Reach</a></li>\n",
    "    <li><a href=#map>Go to Map</a></li>\n",
    "    <li><a href=#gage_selection>USGS Gage Selection for Plots</a></li>\n",
    "    <li><a href=#gage_selection>USGS Gage Plots</a></li>\n",
    "</ul>"
   ]
  },
  {
   "cell_type": "markdown",
   "metadata": {},
   "source": [
    "### TODO:  \n",
    "* Buid lists for\n",
    " * NWIS stations\n",
    " * WQP stations\n",
    " * HUC12 PPs (and HUC12 shapes)\n",
    " * HUC12 PP drainage basins\n",
    " * HUC12 PPs up tribs (and HUC12 shapes) -- how to best find these\n",
    " * Counties -- later\n",
    " * NPDES sources -- when available again\n",
    " * NOAA/NWS weather stations -- after providing a way to enter API key and search for nearby stations\n",
    "\n",
    "* Put data (and/or URIs) in database\n",
    "* Query NWIS Sites by clicking on a map and specifying a range\n",
    "* How to locate HUC12s up tribs (not main stream) that share same PP ???\n",
    "* Locate NOAA weather stations within HUC (needs API key, need way to provide)\n",
    "* Generate interactive plots after map\n",
    " * Try Seaborn or Bokeh (in addition to Pandas and Matplotlib)\n",
    "   * Time series for USGS gage flow and stage\n",
    "   * Property map for WQP properties (see Greenup/ORSANCO)\n",
    " * Try Scipy.stats, Statsmodels or SKLearn for statistical modeling\n",
    "   * See  Box & Whiskey plots for Greenup"
   ]
  },
  {
   "cell_type": "markdown",
   "metadata": {},
   "source": [
    "## Get things set up"
   ]
  },
  {
   "cell_type": "markdown",
   "metadata": {
    "extensions": {
     "jupyter_dashboards": {
      "version": 1,
      "views": {
       "grid_default": {
        "col": 0,
        "height": 5,
        "hidden": false,
        "row": 17,
        "width": 12
       },
       "report_default": {
        "hidden": false
       }
      }
     }
    }
   },
   "source": [
    "#### To install any packages locally (e.g., folium, geopandas, fiona):\n",
    "```\n",
    "%%bash -l\n",
    "use -e -r anaconda3-5.1\n",
    "pip install folium --prefix=. --upgrade-strategy only-if-needed\n",
    "```"
   ]
  },
  {
   "cell_type": "markdown",
   "metadata": {
    "extensions": {
     "jupyter_dashboards": {
      "version": 1,
      "views": {
       "grid_default": {
        "hidden": true
       },
       "report_default": {
        "hidden": true
       }
      }
     }
    }
   },
   "source": [
    "#### To access them:\n",
    "```\n",
    "import os, sys\n",
    "sys.path.insert(0,'lib/python3.7/site-packages') # Add locally installed packages to path\n",
    "```"
   ]
  },
  {
   "cell_type": "code",
   "execution_count": 267,
   "metadata": {},
   "outputs": [],
   "source": [
    "import os.path\n",
    "from os import path"
   ]
  },
  {
   "cell_type": "markdown",
   "metadata": {},
   "source": [
    "### Use full width of browser window"
   ]
  },
  {
   "cell_type": "code",
   "execution_count": 268,
   "metadata": {},
   "outputs": [
    {
     "data": {
      "text/html": [
       "<style>.container { width:100% !important; }</style>"
      ],
      "text/plain": [
       "<IPython.core.display.HTML object>"
      ]
     },
     "metadata": {},
     "output_type": "display_data"
    }
   ],
   "source": [
    "from IPython.core.display import display, HTML\n",
    "display(HTML(\"<style>.container { width:100% !important; }</style>\"))"
   ]
  },
  {
   "cell_type": "markdown",
   "metadata": {},
   "source": [
    "### Enable all variable displays within a cell\n",
    " * Terminate statement with semicolon or assign to a variable (\"X =\") to suppress output"
   ]
  },
  {
   "cell_type": "code",
   "execution_count": 269,
   "metadata": {},
   "outputs": [],
   "source": [
    "from IPython.core.interactiveshell import InteractiveShell\n",
    "InteractiveShell.ast_node_interactivity = \"all\""
   ]
  },
  {
   "cell_type": "markdown",
   "metadata": {
    "extensions": {
     "jupyter_dashboards": {
      "version": 1,
      "views": {
       "grid_default": {
        "col": 4,
        "height": 4,
        "hidden": false,
        "row": 0,
        "width": 4
       },
       "report_default": {
        "hidden": false
       }
      }
     }
    }
   },
   "source": [
    "### Enable numerical arrays and matrices with NumPy"
   ]
  },
  {
   "cell_type": "code",
   "execution_count": 270,
   "metadata": {
    "extensions": {
     "jupyter_dashboards": {
      "version": 1,
      "views": {
       "grid_default": {
        "hidden": true
       },
       "report_default": {
        "hidden": true
       }
      }
     }
    }
   },
   "outputs": [],
   "source": [
    "import numpy as np"
   ]
  },
  {
   "cell_type": "markdown",
   "metadata": {
    "extensions": {
     "jupyter_dashboards": {
      "version": 1,
      "views": {
       "grid_default": {
        "col": 4,
        "height": 4,
        "hidden": false,
        "row": 0,
        "width": 4
       },
       "report_default": {
        "hidden": false
       }
      }
     }
    }
   },
   "source": [
    "### Enable R-style DataFrames with Pandas"
   ]
  },
  {
   "cell_type": "code",
   "execution_count": 271,
   "metadata": {
    "extensions": {
     "jupyter_dashboards": {
      "version": 1,
      "views": {
       "grid_default": {
        "hidden": true
       },
       "report_default": {
        "hidden": true
       }
      }
     }
    }
   },
   "outputs": [],
   "source": [
    "import pandas as pd"
   ]
  },
  {
   "cell_type": "markdown",
   "metadata": {
    "extensions": {
     "jupyter_dashboards": {
      "version": 1,
      "views": {
       "grid_default": {
        "col": 4,
        "height": 4,
        "hidden": false,
        "row": 0,
        "width": 4
       },
       "report_default": {
        "hidden": false
       }
      }
     }
    }
   },
   "source": [
    "### Enable Math functions"
   ]
  },
  {
   "cell_type": "code",
   "execution_count": 272,
   "metadata": {
    "extensions": {
     "jupyter_dashboards": {
      "version": 1,
      "views": {
       "grid_default": {
        "hidden": true
       },
       "report_default": {
        "hidden": true
       }
      }
     }
    }
   },
   "outputs": [],
   "source": [
    "import math"
   ]
  },
  {
   "cell_type": "markdown",
   "metadata": {
    "extensions": {
     "jupyter_dashboards": {
      "version": 1,
      "views": {
       "grid_default": {
        "col": 4,
        "height": 4,
        "hidden": false,
        "row": 0,
        "width": 4
       },
       "report_default": {
        "hidden": false
       }
      }
     }
    }
   },
   "source": [
    "### Enable working with Dates and Times"
   ]
  },
  {
   "cell_type": "code",
   "execution_count": 273,
   "metadata": {
    "extensions": {
     "jupyter_dashboards": {
      "version": 1,
      "views": {
       "grid_default": {
        "hidden": true
       },
       "report_default": {
        "hidden": true
       }
      }
     }
    }
   },
   "outputs": [],
   "source": [
    "import time\n",
    "from datetime import datetime"
   ]
  },
  {
   "cell_type": "markdown",
   "metadata": {
    "extensions": {
     "jupyter_dashboards": {
      "version": 1,
      "views": {
       "grid_default": {
        "col": 4,
        "height": 4,
        "hidden": false,
        "row": 0,
        "width": 4
       },
       "report_default": {
        "hidden": false
       }
      }
     }
    }
   },
   "source": [
    "### Enable inline MATLAB-style plotting with MatPlotLib"
   ]
  },
  {
   "cell_type": "code",
   "execution_count": 274,
   "metadata": {
    "extensions": {
     "jupyter_dashboards": {
      "version": 1,
      "views": {
       "grid_default": {
        "hidden": true
       },
       "report_default": {
        "hidden": true
       }
      }
     }
    }
   },
   "outputs": [],
   "source": [
    "import matplotlib.pyplot as plt\n",
    "%matplotlib inline"
   ]
  },
  {
   "cell_type": "markdown",
   "metadata": {},
   "source": [
    "### Make plots (even matplotlib plots) prettier with Seaborn"
   ]
  },
  {
   "cell_type": "code",
   "execution_count": 275,
   "metadata": {
    "extensions": {
     "jupyter_dashboards": {
      "version": 1,
      "views": {
       "grid_default": {
        "hidden": true
       },
       "report_default": {
        "hidden": true
       }
      }
     }
    }
   },
   "outputs": [],
   "source": [
    "import seaborn as sbn"
   ]
  },
  {
   "cell_type": "markdown",
   "metadata": {
    "extensions": {
     "jupyter_dashboards": {
      "version": 1,
      "views": {
       "grid_default": {},
       "report_default": {
        "hidden": false
       }
      }
     }
    }
   },
   "source": [
    "### Enable interactive functions (especially plots) using iPyWidgets"
   ]
  },
  {
   "cell_type": "code",
   "execution_count": 276,
   "metadata": {
    "extensions": {
     "jupyter_dashboards": {
      "version": 1,
      "views": {
       "grid_default": {
        "hidden": true
       },
       "report_default": {
        "hidden": true
       }
      }
     }
    }
   },
   "outputs": [],
   "source": [
    "import ipywidgets as widgets\n",
    "from ipywidgets import interact, interactive, fixed, interact_manual"
   ]
  },
  {
   "cell_type": "markdown",
   "metadata": {
    "extensions": {
     "jupyter_dashboards": {
      "version": 1,
      "views": {
       "grid_default": {},
       "report_default": {
        "hidden": false
       }
      }
     }
    }
   },
   "source": [
    "### Enable geospatial DataFrames with GeoPandas (built on Fiona, which is built on GDAL/OGR)"
   ]
  },
  {
   "cell_type": "code",
   "execution_count": 277,
   "metadata": {
    "extensions": {
     "jupyter_dashboards": {
      "version": 1,
      "views": {
       "grid_default": {
        "hidden": true
       },
       "report_default": {
        "hidden": true
       }
      }
     }
    }
   },
   "outputs": [],
   "source": [
    "import geopandas as gpd"
   ]
  },
  {
   "cell_type": "markdown",
   "metadata": {},
   "source": [
    "### Enable other geospatial functions using Shapely"
   ]
  },
  {
   "cell_type": "code",
   "execution_count": 278,
   "metadata": {},
   "outputs": [],
   "source": [
    "import shapely\n",
    "from shapely.geometry import Point, Polygon"
   ]
  },
  {
   "cell_type": "markdown",
   "metadata": {
    "extensions": {
     "jupyter_dashboards": {
      "version": 1,
      "views": {
       "grid_default": {},
       "report_default": {
        "hidden": false
       }
      }
     }
    }
   },
   "source": [
    "### Enable Leatlet.JS-based mapping with Folium "
   ]
  },
  {
   "cell_type": "code",
   "execution_count": 279,
   "metadata": {
    "extensions": {
     "jupyter_dashboards": {
      "version": 1,
      "views": {
       "grid_default": {
        "hidden": true
       },
       "report_default": {
        "hidden": true
       }
      }
     }
    }
   },
   "outputs": [],
   "source": [
    "import folium\n",
    "from folium import IFrame\n",
    "import folium.plugins as plugins"
   ]
  },
  {
   "cell_type": "markdown",
   "metadata": {
    "extensions": {
     "jupyter_dashboards": {
      "version": 1,
      "views": {
       "grid_default": {},
       "report_default": {
        "hidden": false
       }
      }
     }
    }
   },
   "source": [
    "### Enable additional HTML features with Branca"
   ]
  },
  {
   "cell_type": "code",
   "execution_count": 280,
   "metadata": {
    "extensions": {
     "jupyter_dashboards": {
      "version": 1,
      "views": {
       "grid_default": {
        "hidden": true
       },
       "report_default": {
        "hidden": true
       }
      }
     }
    }
   },
   "outputs": [],
   "source": [
    "import branca"
   ]
  },
  {
   "cell_type": "markdown",
   "metadata": {},
   "source": [
    "### Enable HTTP requests and parsing of JSON results"
   ]
  },
  {
   "cell_type": "code",
   "execution_count": 281,
   "metadata": {},
   "outputs": [],
   "source": [
    "import requests\n",
    "import json"
   ]
  },
  {
   "cell_type": "markdown",
   "metadata": {},
   "source": [
    "### Enable SQL database access using SQLAlchemy (and GeoAlchemy)"
   ]
  },
  {
   "cell_type": "code",
   "execution_count": 282,
   "metadata": {},
   "outputs": [],
   "source": [
    "from sqlalchemy import create_engine  \n",
    "from sqlalchemy import Table, Column, Integer, String, MetaData  \n",
    "from sqlalchemy import select, func\n",
    "from sqlalchemy.ext.declarative import declarative_base  \n",
    "from sqlalchemy.event import listen\n",
    "from sqlalchemy.orm import sessionmaker, relationship, backref\n",
    "from geoalchemy2 import Geometry"
   ]
  },
  {
   "cell_type": "markdown",
   "metadata": {},
   "source": [
    "### Define some handy geometry functions"
   ]
  },
  {
   "cell_type": "code",
   "execution_count": 283,
   "metadata": {},
   "outputs": [],
   "source": [
    "def geom_distance(lat1, lon1, lat2, lon2):\n",
    "    R = 6378.137 # Radius of earth in KM\n",
    "    dLat = lat2 * math.pi / 180 - lat1 * math.pi / 180\n",
    "    dLon = lon2 * math.pi / 180 - lon1 * math.pi / 180\n",
    "    a = math.sin(dLat/2) * math.sin(dLat/2) + math.cos(lat1 * math.pi / 180) * math.cos(lat2 * math.pi / 180) * math.sin(dLon/2) * math.sin(dLon/2)\n",
    "    c = 2 * math.atan2(math.sqrt(a), math.sqrt(1-a))\n",
    "    d = R * c\n",
    "    return d # Km"
   ]
  },
  {
   "cell_type": "code",
   "execution_count": 284,
   "metadata": {},
   "outputs": [],
   "source": [
    "def geom_diagonal(geom):\n",
    "    lon1 = geom.total_bounds[0]\n",
    "    lat1 = geom.total_bounds[1]\n",
    "    lon2 = geom.total_bounds[2]\n",
    "    lat2 = geom.total_bounds[3]\n",
    "    d = geom_distance(lat1, lon1, lat2, lon2)\n",
    "    return d # Km"
   ]
  },
  {
   "cell_type": "code",
   "execution_count": 285,
   "metadata": {},
   "outputs": [],
   "source": [
    "def geom_extent(geom):\n",
    "    d2 = geom_width(geom)+geom_height(geom)\n",
    "    return d2"
   ]
  },
  {
   "cell_type": "code",
   "execution_count": 286,
   "metadata": {},
   "outputs": [],
   "source": [
    "def geom_height(geom):\n",
    "    lon1 = geom.total_bounds[0]\n",
    "    lat1 = geom.total_bounds[1]\n",
    "    lon2 = geom.total_bounds[2]\n",
    "    lat2 = geom.total_bounds[3]\n",
    "    h = geom_distance(lat1, lon1, lat2, lon1)\n",
    "    return h # Km"
   ]
  },
  {
   "cell_type": "code",
   "execution_count": 287,
   "metadata": {},
   "outputs": [],
   "source": [
    "def geom_width(geom):\n",
    "    lon1 = geom.total_bounds[0]\n",
    "    lat1 = geom.total_bounds[1]\n",
    "    lon2 = geom.total_bounds[2]\n",
    "    lat2 = geom.total_bounds[3]\n",
    "    w = geom_distance(lat1, lon1, lat1, lon2)\n",
    "    return w # Km"
   ]
  },
  {
   "cell_type": "code",
   "execution_count": 288,
   "metadata": {},
   "outputs": [],
   "source": [
    "def geom_bbox(geom):\n",
    "    polygon = gpd.GeoDataFrame(gpd.GeoSeries(geom.envelope), columns=['geometry'])\n",
    "    return polygon"
   ]
  },
  {
   "cell_type": "code",
   "execution_count": 289,
   "metadata": {},
   "outputs": [],
   "source": [
    "# In case CRS is different\n",
    "\n",
    "def geom_bbox2(geom):\n",
    "    lon_point_list = [geom.total_bounds[0],geom.total_bounds[2],geom.total_bounds[2],geom.total_bounds[0],geom.total_bounds[0]]\n",
    "    lat_point_list = [geom.total_bounds[1],geom.total_bounds[1],geom.total_bounds[3],geom.total_bounds[3],geom.total_bounds[1]]\n",
    "    polygon_geom = Polygon(zip(lon_point_list, lat_point_list))\n",
    "    crs = {'init': 'epsg:4326'}\n",
    "    polygon = gpd.GeoDataFrame(index=[0], crs=crs, geometry=[polygon_geom])    \n",
    "    return polygon"
   ]
  },
  {
   "cell_type": "code",
   "execution_count": 290,
   "metadata": {},
   "outputs": [],
   "source": [
    "# Try using the area of the total_bounds polygon in both degrees and meters to generate an approximate \"conversion\" factor\n",
    "\n",
    "def geom_area(geom):\n",
    "    factor = geom_width(geom)*geom_height(geom)/geom_bbox(geom).area\n",
    "    area = factor*geom.area\n",
    "    return area # Km^2"
   ]
  },
  {
   "cell_type": "code",
   "execution_count": 291,
   "metadata": {},
   "outputs": [],
   "source": [
    "# Use a cartesian projection coordinate system to get true area\n",
    "# *** Currently crashes kernel ***\n",
    "\n",
    "def geom_area2(geom):\n",
    "    geom_m = geom.to_crs(epsg=3857) # or epsg=32633\n",
    "    a = geom_m.area/10**6\n",
    "    return a # Km^2"
   ]
  },
  {
   "cell_type": "markdown",
   "metadata": {},
   "source": [
    "<div id='reach' />"
   ]
  },
  {
   "cell_type": "markdown",
   "metadata": {},
   "source": [
    "### Define the river reach by setting the starting location (NWIS Station) and up/down-stream distance ranges (Km)"
   ]
  },
  {
   "cell_type": "code",
   "execution_count": 292,
   "metadata": {},
   "outputs": [
    {
     "data": {
      "application/vnd.jupyter.widget-view+json": {
       "model_id": "c3f427aeee0c45e0ab7a4c94008a02f4",
       "version_major": 2,
       "version_minor": 0
      },
      "text/plain": [
       "VBox(children=(Label(value='Select NWIS Station and range (Km):\\n'), Dropdown(description='NWIS Site:', option…"
      ]
     },
     "metadata": {},
     "output_type": "display_data"
    }
   ],
   "source": [
    "from IPython.display import Javascript\n",
    "def run_all_below(ev):\n",
    "    display(Javascript('IPython.notebook.execute_cell_range(IPython.notebook.get_selected_index()+1, IPython.notebook.ncells())'))\n",
    "    \n",
    "run_button = widgets.Button(description=\" Rerun all cells below \") \n",
    "run_button.on_click(run_all_below)\n",
    "\n",
    "reach = widgets.VBox(\n",
    "    [\n",
    "        widgets.Label(\n",
    "            value='Select NWIS Station and range (Km):\\n'\n",
    "        ),\n",
    "        widgets.Dropdown(\n",
    "            options=[\n",
    "                ('Huntington','USGS-03206000'), # <== Add other NWIS stations here\n",
    "                ('Charleston','USGS-03198000')\n",
    "            ], \n",
    "            value='USGS-03206000', # <== Default goes here\n",
    "            description='NWIS Site:'\n",
    "        ),\n",
    "        widgets.IntSlider(\n",
    "            value=25,\n",
    "            min=0,\n",
    "            max=100,\n",
    "            step=5,\n",
    "            description='Upstream:',\n",
    "            disabled=False,\n",
    "            continuous_update=False,\n",
    "            orientation='horizontal',\n",
    "            readout=True,\n",
    "            readout_format='d'\n",
    "        ),\n",
    "        widgets.IntSlider(\n",
    "            value=25,\n",
    "            min=0,\n",
    "            max=100,\n",
    "            step=5,\n",
    "            description='Downstream:',\n",
    "            disabled=False,\n",
    "            continuous_update=False,\n",
    "            orientation='horizontal',\n",
    "            readout=True,\n",
    "            readout_format='d'\n",
    "        ),\n",
    "        run_button\n",
    "    ]\n",
    ")\n",
    "display(reach)"
   ]
  },
  {
   "cell_type": "code",
   "execution_count": 293,
   "metadata": {},
   "outputs": [],
   "source": [
    "NWIS_SITE = reach.children[1].value\n",
    "UM_DIST = reach.children[2].value\n",
    "DM_DIST = reach.children[3].value"
   ]
  },
  {
   "cell_type": "code",
   "execution_count": 294,
   "metadata": {},
   "outputs": [
    {
     "name": "stdout",
     "output_type": "stream",
     "text": [
      "Reach ==> NWIS Station: USGS-03206000 + 25 Km upstream and 25 Km downstream\n"
     ]
    }
   ],
   "source": [
    "print(\"Reach ==> NWIS Station: {0} + {1} Km upstream and {2} Km downstream\".format(NWIS_SITE, UM_DIST, DM_DIST))"
   ]
  },
  {
   "cell_type": "markdown",
   "metadata": {},
   "source": [
    "### URLs for REST Web Services"
   ]
  },
  {
   "cell_type": "code",
   "execution_count": 295,
   "metadata": {},
   "outputs": [],
   "source": [
    "USGS_NLDI_WS = \"https://labs.waterdata.usgs.gov/api/nldi/linked-data\" # USGS NLDI REST web services\n",
    "NWIS_SITE_URL = USGS_NLDI_WS+\"/nwissite/\"+NWIS_SITE \n",
    "NWIS_SITE_NAV = NWIS_SITE_URL+\"/navigate\"\n",
    "TNM_WS = \"https://hydro.nationalmap.gov/arcgis/rest/services\" # The National Map REST web services\n",
    "ARCGIS_WS = \"http://server.arcgisonline.com/arcgis/rest/services\" # ARCGIS Online REST web services"
   ]
  },
  {
   "cell_type": "markdown",
   "metadata": {},
   "source": [
    "### Set Input (optional) and Output Directories\n",
    "  * TODO: Need option to upload files to Input Directory"
   ]
  },
  {
   "cell_type": "code",
   "execution_count": 296,
   "metadata": {},
   "outputs": [],
   "source": [
    "IN_DIR = \"data/\"+NWIS_SITE\n",
    "OUT_DIR = IN_DIR+\"/out\""
   ]
  },
  {
   "cell_type": "markdown",
   "metadata": {},
   "source": [
    "### Create output directory if it does not already exist"
   ]
  },
  {
   "cell_type": "code",
   "execution_count": 297,
   "metadata": {},
   "outputs": [],
   "source": [
    "%mkdir -p {OUT_DIR}"
   ]
  },
  {
   "cell_type": "markdown",
   "metadata": {
    "extensions": {
     "jupyter_dashboards": {
      "version": 1,
      "views": {
       "grid_default": {
        "col": 0,
        "height": 4,
        "hidden": false,
        "row": 43,
        "width": 4
       },
       "report_default": {
        "hidden": false
       }
      }
     }
    }
   },
   "source": [
    "### Get Lat/Lon coordinates of starting site (NWIS station)"
   ]
  },
  {
   "cell_type": "code",
   "execution_count": 298,
   "metadata": {},
   "outputs": [],
   "source": [
    "nwis_site_json = gpd.read_file(NWIS_SITE_URL)\n",
    "nwis_site_geom = nwis_site_json.iloc[0]['geometry']\n",
    "nwis_site_coord = [nwis_site_geom.y, nwis_site_geom.x]"
   ]
  },
  {
   "cell_type": "markdown",
   "metadata": {},
   "source": [
    "### Set up a local file-based SQLite/Spatialite database"
   ]
  },
  {
   "cell_type": "code",
   "execution_count": 299,
   "metadata": {},
   "outputs": [],
   "source": [
    "spatialite_db_filename = 'spatialite.db'\n",
    "spatialite_engine = create_engine('sqlite:///{0}/{1}'.format(OUT_DIR,spatialite_db_filename))"
   ]
  },
  {
   "cell_type": "code",
   "execution_count": 300,
   "metadata": {},
   "outputs": [],
   "source": [
    "def load_spatialite(dbapi_conn, connection_record):\n",
    "    dbapi_conn.enable_load_extension(True)\n",
    "    dbapi_conn.load_extension('/opt/conda/lib/mod_spatialite.so')\n",
    "    \n",
    "listen(spatialite_engine, 'connect', load_spatialite)"
   ]
  },
  {
   "cell_type": "code",
   "execution_count": 301,
   "metadata": {},
   "outputs": [],
   "source": [
    "spatialite_engine._metadata = MetaData(bind=spatialite_engine)\n",
    "spatialite_engine._metadata.reflect(spatialite_engine)"
   ]
  },
  {
   "cell_type": "code",
   "execution_count": 302,
   "metadata": {},
   "outputs": [],
   "source": [
    "spatialite_conn = spatialite_engine.connect()"
   ]
  },
  {
   "cell_type": "code",
   "execution_count": 303,
   "metadata": {},
   "outputs": [
    {
     "data": {
      "text/plain": [
       "<sqlalchemy.engine.result.ResultProxy at 0x7fc41e327240>"
      ]
     },
     "execution_count": 303,
     "metadata": {},
     "output_type": "execute_result"
    }
   ],
   "source": [
    "spatialite_conn.execute(select([func.InitSpatialMetaData()]))"
   ]
  },
  {
   "cell_type": "code",
   "execution_count": 304,
   "metadata": {},
   "outputs": [],
   "source": [
    "Base = declarative_base()\n",
    "\n",
    "class Site(Base):\n",
    "    __tablename__ = 'site'\n",
    "    id = Column(Integer, primary_key=True)\n",
    "    type = Column(String)\n",
    "    name = Column(String)\n",
    "    desc = Column(String)\n",
    "    url = Column(String)\n",
    "    geom = Column(Geometry(geometry_type='POINT',management=True))\n",
    "\n",
    "Site.__table__.create(spatialite_engine, checkfirst=True)"
   ]
  },
  {
   "cell_type": "code",
   "execution_count": 305,
   "metadata": {},
   "outputs": [],
   "source": [
    "#spatialite_engine._metadata.sorted_tables"
   ]
  },
  {
   "cell_type": "code",
   "execution_count": 306,
   "metadata": {},
   "outputs": [],
   "source": [
    "Spatialite_Session = sessionmaker(bind=spatialite_engine)\n",
    "spatialite_session = Spatialite_Session()"
   ]
  },
  {
   "cell_type": "code",
   "execution_count": 307,
   "metadata": {},
   "outputs": [],
   "source": [
    "anchor_site_in = Site(type='ANCHOR',name=NWIS_SITE,desc='Anchor site for reach',url=NWIS_SITE_URL,geom='POINT(('+str(nwis_site_geom.y)+' '+str(nwis_site_geom.x)+'))')\n",
    "spatialite_session.add(anchor_site_in)\n",
    "spatialite_session.commit()"
   ]
  },
  {
   "cell_type": "code",
   "execution_count": 308,
   "metadata": {},
   "outputs": [
    {
     "name": "stdout",
     "output_type": "stream",
     "text": [
      "USGS-03206000\n",
      "USGS-03206000\n"
     ]
    }
   ],
   "source": [
    "anchor_site_out = spatialite_session.query(Site).filter_by(type='ANCHOR')\n",
    "\n",
    "for row in anchor_site_out:\n",
    "    print(row.name)"
   ]
  },
  {
   "cell_type": "markdown",
   "metadata": {
    "extensions": {
     "jupyter_dashboards": {
      "version": 1,
      "views": {
       "grid_default": {
        "col": 0,
        "height": 4,
        "hidden": false,
        "row": 43,
        "width": 4
       },
       "report_default": {
        "hidden": false
       }
      }
     }
    }
   },
   "source": [
    "## Generate map"
   ]
  },
  {
   "cell_type": "code",
   "execution_count": 309,
   "metadata": {
    "extensions": {
     "jupyter_dashboards": {
      "version": 1,
      "views": {
       "grid_default": {},
       "report_default": {
        "hidden": false
       }
      }
     }
    }
   },
   "outputs": [],
   "source": [
    "river_map = folium.Map(nwis_site_coord,zoom_start=10,tiles=None)\n",
    "plugins.ScrollZoomToggler().add_to(river_map);\n",
    "plugins.Fullscreen(\n",
    "    position='bottomright',\n",
    "    title='Full Screen',\n",
    "    title_cancel='Exit Full Screen',\n",
    "    force_separate_button=True\n",
    ").add_to(river_map);"
   ]
  },
  {
   "cell_type": "markdown",
   "metadata": {},
   "source": [
    "### Add NWIS and WQP sites within reach using NLDI web services at USGS"
   ]
  },
  {
   "cell_type": "code",
   "execution_count": 310,
   "metadata": {},
   "outputs": [],
   "source": [
    "# Popup parameters\n",
    "\n",
    "width = 500\n",
    "height = 120\n",
    "max_width = 1000\n",
    "\n",
    "# Main Stream\n",
    "\n",
    "folium.GeoJson(NWIS_SITE_NAV+\"/UM?distance=\"+str(UM_DIST),name=\"Main Stream (up)\",show=True,control=False).add_to(river_map);\n",
    "folium.GeoJson(NWIS_SITE_NAV+\"/DM?distance=\"+str(DM_DIST),name=\"Main Stream (down)\",show=True,control=False).add_to(river_map);\n",
    "\n",
    "# NWIS Sites\n",
    "\n",
    "fg_nwis = folium.FeatureGroup(name=\"USGS (NWIS) Sites\",overlay=True,show=False)\n",
    "color = 'darkred'\n",
    "icon = 'dashboard'\n",
    "        \n",
    "nwis_sites_dm = gpd.read_file(NWIS_SITE_NAV+\"/DM/nwissite?distance=\"+str(DM_DIST))\n",
    "nwis_sites_um = gpd.read_file(NWIS_SITE_NAV+\"/UM/nwissite?distance=\"+str(UM_DIST))\n",
    "nwis_sites = gpd.GeoDataFrame(pd.concat([nwis_sites_dm,nwis_sites_um], ignore_index=True), crs=nwis_sites_dm.crs)\n",
    "\n",
    "for i, nwis_site in nwis_sites.iterrows():\n",
    "    coord = [nwis_site.geometry.y,nwis_site.geometry.x]\n",
    "    label = 'NWIS Station: '+nwis_site.identifier+\" (\"+str(i)+\")\"\n",
    "    html = label\n",
    "    html += '<br>{0:s}'.format(nwis_site['name'])\n",
    "    html += '<br><a href=\\\"{0:s}\\\",target=\\\"_blank\\\">{1:s}'.format(nwis_site.uri,nwis_site.uri)+'</a>'\n",
    "    html += '<br>Lat: {0:.2f}'.format(nwis_site.geometry.y)+', Lon: {0:.2f}'.format(nwis_site.geometry.x)\n",
    "    html += '<br>Comid: {0:s}'.format(nwis_site.comid)\n",
    "    iframe = folium.IFrame(html,width=width,height=height)\n",
    "    popup = folium.Popup(iframe,max_width=max_width)\n",
    "    fg_nwis.add_child(folium.Marker(location=coord,icon=folium.Icon(color=color,icon=icon),popup=popup,tooltip=label));\n",
    "    nwis_site = Site(type='NWIS',name=nwis_site.identifier,desc=nwis_site.name,url=nwis_site.uri,geom='POINT(('+str(nwis_site.geometry.y)+' '+str(nwis_site.geometry.x)+'))')\n",
    "    spatialite_session.add(nwis_site)\n",
    "    \n",
    "spatialite_session.commit()\n",
    "        \n",
    "fg_nwis.add_to(river_map)\n",
    "\n",
    "# WQP Stations\n",
    "        \n",
    "fg_wqp = folium.FeatureGroup(name=\"WQP Stations\",overlay=True,show=False)\n",
    "color = 'darkgreen'\n",
    "radius = 3\n",
    "        \n",
    "wqp_sites_dm = gpd.read_file(NWIS_SITE_NAV+\"/DM/wqp?distance=\"+str(DM_DIST))\n",
    "wqp_sites_um = gpd.read_file(NWIS_SITE_NAV+\"/UM/wqp?distance=\"+str(UM_DIST))\n",
    "wqp_sites = gpd.GeoDataFrame(pd.concat([wqp_sites_dm,wqp_sites_um], ignore_index=True), crs=wqp_sites_dm.crs)\n",
    "\n",
    "for i, wqp_site in wqp_sites.iterrows():\n",
    "    coord = [wqp_site.geometry.y,wqp_site.geometry.x]\n",
    "    label = 'WQP Station: '+wqp_site.identifier+\" (\"+str(i)+\")\"\n",
    "    html = label\n",
    "    html += '<br>{0:s}'.format(wqp_site['name'])\n",
    "    html += '<br><a href=\\\"{0:s}\\\",target=\\\"_blank\\\">{1:s}'.format(wqp_site.uri,wqp_site.uri)+'</a>'\n",
    "    html += '<br>Lat: {0:.2f}'.format(wqp_site.geometry.y)+', Lon: {0:.2f}'.format(wqp_site.geometry.x)\n",
    "    html += '<br>Comid: {0:s}'.format(wqp_site.comid)\n",
    "    iframe = folium.IFrame(html,width=width,height=height)\n",
    "    popup = folium.Popup(iframe,max_width=max_width)\n",
    "    fg_wqp.add_child(folium.CircleMarker(location=coord,radius=radius,color=color,popup=popup,tooltip=label));\n",
    "    wqp_site = Site(type='WQP',name=wqp_site.identifier,desc=wqp_site.name,url=wqp_site.uri,geom='POINT(('+str(wqp_site.geometry.y)+' '+str(wqp_site.geometry.x)+'))')\n",
    "    spatialite_session.add(wqp_site)\n",
    "\n",
    "spatialite_session.commit()\n",
    "\n",
    "fg_wqp.add_to(river_map);"
   ]
  },
  {
   "cell_type": "markdown",
   "metadata": {},
   "source": [
    "### Add HUC12 Pour Points and *differential* drainage basins associated with each"
   ]
  },
  {
   "cell_type": "code",
   "execution_count": 311,
   "metadata": {},
   "outputs": [],
   "source": [
    "fg_huc12pp = folium.FeatureGroup(name=\"HUC12 Pour Points\",overlay=True,show=False)\n",
    "fg_basins = folium.FeatureGroup(name=\"Drainage Basins\",overlay=True,show=False)\n",
    "\n",
    "color = 'darkblue'\n",
    "radius = 3\n",
    "        \n",
    "try:\n",
    "    huc12pp_sites_dm = gpd.read_file(NWIS_SITE_NAV+\"/DM/huc12pp?distance=\"+str(DM_DIST),driver='GeoJSON')\n",
    "except Exception as ex:\n",
    "    print(\"An exception of type {0} occurred. Arguments:\\n{1!r}\".format(type(ex).__name__, ex.args))\n",
    "    huc12pp_sites_dm = gpd.GeoDataFrame()\n",
    "    \n",
    "try:\n",
    "    huc12pp_sites_um = gpd.read_file(NWIS_SITE_NAV+\"/UM/huc12pp?distance=\"+str(UM_DIST),driver='GeoJSON')\n",
    "except Exception as ex:\n",
    "    print(\"An exception of type {0} occurred. Arguments:\\n{1!r}\".format(type(ex).__name__, ex.args))\n",
    "    huc12pp_sites_um = gpd.GeoDataFrame()\n",
    "    \n",
    "huc12pp_sites = gpd.GeoDataFrame(pd.concat([huc12pp_sites_dm,huc12pp_sites_um], ignore_index=True), crs=huc12pp_sites_dm.crs)\n",
    "\n",
    "n_segs = len(huc12pp_sites)-1\n",
    "\n",
    "# Sort sites by decreasing area of drainage basin\n",
    "def get_area(x):\n",
    "    x_basin = gpd.read_file(USGS_NLDI_WS+\"/comid/\"+x+\"/basin\")\n",
    "    return int(round(x_basin.iloc[0].geometry.area,3)*1000)  \n",
    "\n",
    "huc12pp_sites['area']=huc12pp_sites.apply(lambda x: get_area(x.comid), axis=1)\n",
    "huc12pp_sites.set_index(['area'],inplace=True,drop=True)\n",
    "huc12pp_sites.sort_index(inplace=True,ascending=False)\n",
    "\n",
    "i = 0\n",
    "i_max = n_segs\n",
    "huc12pp_comid_list = []\n",
    "huc12_list = []\n",
    "huc10_list = []\n",
    "\n",
    "for area, huc12pp_site in huc12pp_sites.iterrows():\n",
    "    basin_url = USGS_NLDI_WS+\"/comid/{0:s}/basin\".format(huc12pp_site.comid)\n",
    "    \n",
    "    try:\n",
    "        basin = gpd.read_file(basin_url,driver='GeoJSON')\n",
    "    except Exception as ex:\n",
    "        print(\"An exception of type {0} occurred. Arguments:\\n{1!r}\".format(type(ex).__name__, ex.args))\n",
    "        i = i + 1\n",
    "        continue\n",
    "        \n",
    "    #basin_area = basin.iloc[0].geometry.area\n",
    "    basin_area = geom_area(basin)\n",
    "    basin_diff_area = basin_area\n",
    "    wbd12_url = TNM_WS+\"/wbd/MapServer/6/query?where=HUC12%3D%27{0:s}%27&outFields=NAME%2CHUC12%2CSHAPE_Length&f=geojson\".format(huc12pp_site.identifier)\n",
    "    \n",
    "    try:\n",
    "        wbd12 = gpd.read_file(wbd12_url,driver='GeoJSON')\n",
    "    except Exception as ex:\n",
    "        print(\"An exception of type {0} occurred. Arguments:\\n{1!r}\".format(type(ex).__name__, ex.args))\n",
    "        i = i + 1\n",
    "        continue\n",
    "\n",
    "        if (huc12pp_site.identifier not in huc12_list):\n",
    "            huc12_list.append(huc12pp_site.identifier)\n",
    "        if (huc12pp_site.comid not in huc12pp_comid_list):\n",
    "            huc12pp_comid_list.append(huc12pp_site.comid)\n",
    "            \n",
    "        huc10_identifier = huc12pp_site.identifier[:-2]\n",
    "            \n",
    "        if (huc10_identifier in huc10_list):\n",
    "            continue\n",
    "        else:\n",
    "            huc10_list.append(huc10_identifier)\n",
    "\n",
    "    if i > 0:\n",
    "        # Generate and show difference (polygon) between sussessive drainage basins\n",
    "        basin_diff = gpd.overlay(basin_prev,basin,how='difference')  \n",
    "        basin_diff_area = geom_area(basin_diff)\n",
    "        style_function = lambda x: {'color': 'red', 'weight': 1, 'fillColor': 'blue', 'fillOpacity': 0.1}\n",
    "        highlight_function = lambda x: {'color':'yellow', 'weight':3}\n",
    "        tooltip = \"Differential Drainage Basin for HUC12 Pour Point: {0:s} ({1:s}), Area: {2:.2f}\".format(wbd12.iloc[0].HUC12,wbd12.iloc[0].NAME,basin_diff_area[0])\n",
    "        basin_diff_feature = folium.GeoJson(basin_diff.iloc[0].geometry.buffer(-0.001).buffer(0.001),style_function=style_function,highlight_function=highlight_function,tooltip=tooltip)\n",
    "        fg_basins.add_child(basin_diff_feature);\n",
    "        \n",
    "        if i == i_max:\n",
    "            # Show large basin of first (highest upstream) pour point\n",
    "            style_function = lambda x: {'color': 'gray', 'weight': 1, 'fillColor': 'gray', 'fillOpacity': 0.1}\n",
    "            highlight_function = lambda x: {'color':'yellow', 'weight':1}\n",
    "            tooltip = \"Total Drainage Basin for HUC12 Pour Point: {0:s} ({1:s}), Area: {2:.2f}\".format(wbd12.iloc[0].HUC12,wbd12.iloc[0].NAME,basin_area[0])\n",
    "            basin_feature = folium.GeoJson(basin.iloc[0].geometry,style_function=style_function,highlight_function=highlight_function,tooltip=tooltip)\n",
    "            fg_basins.add_child(basin_feature);\n",
    "            \n",
    "    basin_prev = basin\n",
    "\n",
    "    # HUC12 Pour Point markers\n",
    "    coord = [huc12pp_site.geometry.y,huc12pp_site.geometry.x]\n",
    "    label = 'Pour Point for HUC12: '+wbd12.iloc[0].NAME\n",
    "    html = label\n",
    "    html += '<br>Indentifier: {0:s}'.format(huc12pp_site.identifier)\n",
    "    html += '<br>Lat: {0:.2f}, Lon: {1:.2f}'.format(huc12pp_site.geometry.y,huc12pp_site.geometry.x)\n",
    "    html += '<br>Comid: {0:s}'.format(huc12pp_site.comid)\n",
    "    html += '<br>Area Total: {0:.2f}'.format(basin_area[0])\n",
    "    html += '<br>Area Difference: {0:.2f}'.format(basin_diff_area[0])\n",
    "    iframe = folium.IFrame(html,width=width,height=height)\n",
    "    popup = folium.Popup(iframe,max_width=max_width)\n",
    "    fg_huc12pp.add_child(folium.CircleMarker(location=coord,radius=radius,color=color,popup=popup,tooltip=label));\n",
    "    \n",
    "    i = i + 1\n",
    "\n",
    "fg_huc12pp.add_to(river_map);\n",
    "fg_basins.add_to(river_map);"
   ]
  },
  {
   "cell_type": "markdown",
   "metadata": {},
   "source": [
    "### Add HUC12 and HUC10 WBD boundaries from The National Map web services (ArcGIS) for Pour Points along main stream and up nearby tributaries\n",
    " * TODO: Get HUC12s from up-tribs themselves instead the Pour Points"
   ]
  },
  {
   "cell_type": "markdown",
   "metadata": {},
   "source": [
    "fg_wbd12 = folium.FeatureGroup(name=\"HUC12 Boundaries\",overlay=True,show=False)\n",
    "fg_wbd12_ut = folium.FeatureGroup(name=\"Up-Trib HUC12s\",overlay=True,show=False)\n",
    "fg_wbd10 = folium.FeatureGroup(name=\"HUC10 Boundaries\",overlay=True,show=False)\n",
    "        \n",
    "i = 0\n",
    "i_max = n_segs\n",
    "huc12pp_ut_comid_list = []\n",
    "huc12_ut_list = []\n",
    "huc10_ut_list = []\n",
    "\n",
    "for area, huc12pp_site in huc12pp_sites.iterrows():\n",
    "\n",
    "    # Get HUC12 watershed boundary (WBD) for pour point from The National Map web services\n",
    "    wbd12_url = TNM_WS+\"/wbd/MapServer/6/query?where=HUC12%3D%27{0:s}%27&outFields=NAME%2CHUC12%2CSHAPE_Length&f=geojson\".format(huc12pp_site.identifier)\n",
    "\n",
    "    try:\n",
    "        wbd12 = gpd.read_file(wbd12_url)\n",
    "    except:\n",
    "        i = i + 1\n",
    "        continue\n",
    "        \n",
    "    if (huc12pp_site.identifier not in huc12_ut_list): # TODO: exclude if in original list, too\n",
    "        huc12_ut_list.append(huc12pp_site.identifier)\n",
    "    if (huc12pp_site.comid not in huc12pp_ut_comid_list):\n",
    "        huc12pp_ut_comid_list.append(huc12pp_site.comid)\n",
    "    \n",
    "    if i < i_max:\n",
    "        style_function = lambda x: {'color': 'darkgreen', 'weight': 1, 'fillColor': 'green', 'fillOpacity': 0.1}\n",
    "        highlight_function = lambda x: {'color':'yellow', 'weight':2}\n",
    "        tooltip = \"HUC12: {0:s} ({1:s}), Area: {2:.2f}\".format(wbd12.iloc[0].HUC12,wbd12.iloc[0].NAME,geom_area(wbd12)[0])\n",
    "        wbd12_feature = folium.GeoJson(wbd12.iloc[0].geometry,style_function=style_function,highlight_function=highlight_function,tooltip=tooltip)\n",
    "        fg_wbd12.add_child(wbd12_feature);\n",
    "\n",
    "        # Get extent (width + height) of WBD associated with HUC12 Pour Point\n",
    "        distance = int(round(geom_extent(wbd12),0))\n",
    "\n",
    "        # Find other pour points (and associated HUC12s) up stream (following tributares) within the current HUC12\n",
    "        huc12pp_ut_url = USGS_NLDI_WS+\"/comid/{0:s}/navigate/UT/huc12pp?distance={1:d}\".format(huc12pp_site.comid,distance)\n",
    "        huc12pp_ut_sites = gpd.read_file(huc12pp_ut_url)\n",
    "        \n",
    "        for k, huc12pp_ut in huc12pp_ut_sites.iterrows():\n",
    "            if (huc12pp_ut.comid in huc12pp_ut_comid_list):\n",
    "                continue            \n",
    "            else:\n",
    "                huc12pp_ut_comid_list.append(huc12pp_ut.comid)\n",
    "            \n",
    "            if (huc12pp_ut.identifier in huc12_ut_list):\n",
    "                continue                \n",
    "            else:\n",
    "                huc12_ut_list.append(huc12pp_ut.identifier)\n",
    "            \n",
    "            # Get and display WBD for HUC12 associated with up-trib Pour Point\n",
    "            wbd12_ut_url = TNM_WS+\"/wbd/MapServer/6/query?where=HUC12%3D%27{0:s}%27&outFields=NAME%2CHUC12%2CSHAPE_Length&f=geojson\".format(huc12pp_ut.identifier)\n",
    "\n",
    "            try: \n",
    "                wbd12_ut = gpd.read_file(wbd12_ut_url)\n",
    "            except:\n",
    "                continue\n",
    "                \n",
    "            style_function = lambda x: {'color': 'darkgreen', 'weight': 1, 'fillColor': 'green', 'fillOpacity': 0.05}\n",
    "            highlight_function = lambda x: {'color':'yellow', 'weight':2}\n",
    "            tooltip = \"HUC12: {0:s} ({1:s}), Area: {2:.2f}\".format(wbd12_ut.iloc[0].HUC12,wbd12_ut.iloc[0].NAME,geom_area(wbd12_ut)[0])\n",
    "            wbd12_ut_feature = folium.GeoJson(wbd12_ut,style_function=style_function,highlight_function=highlight_function,tooltip=tooltip)\n",
    "            fg_wbd12_ut.add_child(wbd12_ut_feature);        \n",
    "\n",
    "            # Put marker at up-trib HUC12 Pour Point\n",
    "            coord = [huc12pp_ut.geometry.y,huc12pp_ut.geometry.x]\n",
    "            label = 'UT Pour Point for HUC12: '+wbd12_ut.iloc[0].NAME\n",
    "            fg_wbd12_ut.add_child(folium.CircleMarker(location=coord,radius=4,color='lightblue',tooltip=label));\n",
    "\n",
    "            # Get and display HUC10 containing HUC12\n",
    "            wbd10_url = TNM_WS+\"/wbd/MapServer/5/query?where=HUC10%3D%27{0:s}%27&outFields=NAME%2CHUC10%2CSHAPE_Length&f=geojson\".format(huc10_identifier)\n",
    "            try:\n",
    "                wbd10 = gpd.read_file(wbd10_url)\n",
    "            except:\n",
    "                continue\n",
    "                \n",
    "            huc10_identifier = huc12pp_ut.identifier[:-2]\n",
    "            \n",
    "            if (huc10_identifier in huc10_ut_list):\n",
    "                continue\n",
    "            else:\n",
    "                huc10_ut_list.append(huc10_identifier)\n",
    "                                \n",
    "            style_function = lambda x: {'color': 'darkgreen', 'weight': 1, 'fillColor': 'green', 'fillOpacity': 0.05}\n",
    "            highlight_function = lambda x: {'color':'yellow', 'weight':2}\n",
    "            tooltip = \"HUC10: {0:s} ({1:s}), Area: {2:.2f}\".format(wbd10.iloc[0].HUC10,wbd10.iloc[0].NAME,geom_area(wbd10)[0])\n",
    "            wbd10_feature = folium.GeoJson(wbd10_url,style_function=style_function,highlight_function=highlight_function,tooltip=tooltip)\n",
    "            fg_wbd10.add_child(wbd10_feature);  \n",
    "            \n",
    "    i = i + 1\n",
    "\n",
    "fg_wbd12.add_to(river_map);\n",
    "fg_wbd12_ut.add_to(river_map);\n",
    "fg_wbd10.add_to(river_map);"
   ]
  },
  {
   "cell_type": "markdown",
   "metadata": {},
   "source": [
    "### Add tributaries upstream of HUC12 Pour Points"
   ]
  },
  {
   "cell_type": "code",
   "execution_count": 312,
   "metadata": {},
   "outputs": [],
   "source": [
    "fg_utpp = folium.FeatureGroup(name=\"Tribs upstream of PPs\",overlay=True,show=False)\n",
    "\n",
    "for huc12 in huc12_list:\n",
    "    wbd12_url = TNM_WS+\"/wbd/MapServer/6/query?where=HUC12%3D%27{0:s}%27&f=geojson\".format(huc12)\n",
    "    \n",
    "    try:\n",
    "        wbd12 = gpd.read_file(wbd12_url)\n",
    "    except:\n",
    "        continue\n",
    "        \n",
    "    distance = int(round(geom_diagonal(wbd12),0))\n",
    "    #distance = 35\n",
    "    tribs = folium.GeoJson(USGS_NLDI_WS+\"/huc12pp/{0:s}/navigate/UT?distance={1:d}\".format(huc12,distance))\n",
    "    fg_utpp.add_child(tribs);\n",
    "    \n",
    "fg_utpp.add_to(river_map);"
   ]
  },
  {
   "cell_type": "markdown",
   "metadata": {},
   "source": [
    "### Add built-in basemaps"
   ]
  },
  {
   "cell_type": "code",
   "execution_count": 313,
   "metadata": {
    "extensions": {
     "jupyter_dashboards": {
      "version": 1,
      "views": {
       "grid_default": {},
       "report_default": {
        "hidden": false
       }
      }
     }
    }
   },
   "outputs": [],
   "source": [
    "folium.TileLayer('StamenTerrain').add_to(river_map);\n",
    "folium.TileLayer('OpenStreetMap').add_to(river_map);"
   ]
  },
  {
   "cell_type": "markdown",
   "metadata": {
    "extensions": {
     "jupyter_dashboards": {
      "version": 1,
      "views": {
       "grid_default": {},
       "report_default": {
        "hidden": false
       }
      }
     }
    }
   },
   "source": [
    "### Add other basemap options using Map Servers at  ArcGIS Online"
   ]
  },
  {
   "cell_type": "code",
   "execution_count": 314,
   "metadata": {
    "extensions": {
     "jupyter_dashboards": {
      "version": 1,
      "views": {
       "grid_default": {},
       "report_default": {
        "hidden": true
       }
      }
     }
    }
   },
   "outputs": [],
   "source": [
    "mapserver_dict = dict(\n",
    "    NatGeo_World_Map=ARCGIS_WS+'/NatGeo_World_Map/MapServer',\n",
    "    World_Street_Map=ARCGIS_WS+'/World_Street_Map/MapServer',\n",
    "    World_Imagery=ARCGIS_WS+'/World_Imagery/MapServer',\n",
    "    World_Topo_Map=ARCGIS_WS+'/World_Topo_Map/MapServer',\n",
    "    World_Shaded_Relief=ARCGIS_WS+'/World_Shaded_Relief/MapServer',\n",
    "    World_Terrain_Base=ARCGIS_WS+'/World_Terrain_Base/MapServer',\n",
    "#   World_Physical_Map=ARCGIS_WS+'/World_Physical_Map/MapServer',  # only shows if zoomed out\n",
    ")\n",
    "mapserver_query = '/MapServer/tile/{z}/{y}/{x}'\n",
    "\n",
    "for tile_name, tile_url in mapserver_dict.items():\n",
    "    tile_url += mapserver_query\n",
    "    _ = folium.TileLayer(tile_url,name=tile_name,attr=tile_name).add_to(river_map);"
   ]
  },
  {
   "cell_type": "markdown",
   "metadata": {
    "extensions": {
     "jupyter_dashboards": {
      "version": 1,
      "views": {
       "grid_default": {},
       "report_default": {
        "hidden": false
       }
      }
     }
    }
   },
   "source": [
    "### Add the Layer Control widget"
   ]
  },
  {
   "cell_type": "code",
   "execution_count": 315,
   "metadata": {
    "extensions": {
     "jupyter_dashboards": {
      "version": 1,
      "views": {
       "grid_default": {},
       "report_default": {
        "hidden": false
       }
      }
     }
    }
   },
   "outputs": [],
   "source": [
    "folium.LayerControl().add_to(river_map);"
   ]
  },
  {
   "cell_type": "markdown",
   "metadata": {
    "extensions": {
     "jupyter_dashboards": {
      "version": 1,
      "views": {
       "grid_default": {},
       "report_default": {
        "hidden": false
       }
      }
     }
    }
   },
   "source": [
    "### Save the map as HTML"
   ]
  },
  {
   "cell_type": "code",
   "execution_count": 316,
   "metadata": {
    "extensions": {
     "jupyter_dashboards": {
      "version": 1,
      "views": {
       "grid_default": {},
       "report_default": {
        "hidden": true
       }
      }
     }
    }
   },
   "outputs": [],
   "source": [
    "river_map.save(OUT_DIR+'/river_map.html')"
   ]
  },
  {
   "cell_type": "markdown",
   "metadata": {},
   "source": [
    "<div id='map' />"
   ]
  },
  {
   "cell_type": "markdown",
   "metadata": {
    "extensions": {
     "jupyter_dashboards": {
      "version": 1,
      "views": {
       "grid_default": {},
       "report_default": {
        "hidden": false
       }
      }
     }
    }
   },
   "source": [
    "## Display Map"
   ]
  },
  {
   "cell_type": "code",
   "execution_count": 317,
   "metadata": {
    "extensions": {
     "jupyter_dashboards": {
      "version": 1,
      "views": {
       "grid_default": {
        "col": 0,
        "height": 21,
        "hidden": false,
        "row": 51,
        "width": 10
       },
       "report_default": {
        "hidden": false
       }
      }
     }
    },
    "scrolled": false
   },
   "outputs": [
    {
     "data": {
      "text/html": [
       "\n",
       "        <iframe\n",
       "            width=\"1500\"\n",
       "            height=\"750\"\n",
       "            src=\"data/USGS-03206000/out/river_map.html\"\n",
       "            frameborder=\"0\"\n",
       "            allowfullscreen\n",
       "        ></iframe>\n",
       "        "
      ],
      "text/plain": [
       "<IPython.lib.display.IFrame at 0x7fc41de809e8>"
      ]
     },
     "execution_count": 317,
     "metadata": {},
     "output_type": "execute_result"
    }
   ],
   "source": [
    "from IPython.display import IFrame\n",
    "IFrame(OUT_DIR+\"/river_map.html\", width=1500, height=750)"
   ]
  },
  {
   "cell_type": "markdown",
   "metadata": {},
   "source": [
    "## USGS Gage Data"
   ]
  },
  {
   "cell_type": "markdown",
   "metadata": {},
   "source": [
    "### Some defined constants\n",
    " * TODO: Move property limits to dictionary"
   ]
  },
  {
   "cell_type": "code",
   "execution_count": 318,
   "metadata": {},
   "outputs": [],
   "source": [
    "TURB_MIN = 0.0\n",
    "TURB_MAX = 400.0\n",
    "CHLOR_MIN = 0.0\n",
    "CHLOR_MAX = 12.0\n",
    "BGA_MIN = 0.05\n",
    "BGA_MAX = 1.2\n",
    "SPCOND_MIN = 100.0\n",
    "SPCOND_MAX = 500.0\n",
    "DO_MIN = 5.0\n",
    "DO_MAX = 15.0\n",
    "PAR_MIN = 0.0\n",
    "PAR_MAX = 2000.0\n",
    "NITR_MIN = 0.5\n",
    "NITR_MAX = 1.5\n",
    "GAGE_HGT0 = 31.0 # TODO: Need to get this from site elevation\n",
    "FT_PER_M = 3.28"
   ]
  },
  {
   "cell_type": "markdown",
   "metadata": {},
   "source": [
    "#### Get NWIS Sites (USGS Gage Stations) from database created for this river reach"
   ]
  },
  {
   "cell_type": "code",
   "execution_count": 319,
   "metadata": {},
   "outputs": [],
   "source": [
    "nwis_sites = spatialite_session.query(Site).filter_by(type='NWIS')\n",
    "\n",
    "nwis_sites_menu = []\n",
    "for row in nwis_sites:\n",
    "    nwis_sites_menu.append(row.name)"
   ]
  },
  {
   "cell_type": "markdown",
   "metadata": {},
   "source": [
    "<div id='gage_selection'></div>"
   ]
  },
  {
   "cell_type": "markdown",
   "metadata": {},
   "source": [
    "### Select Gage and date range"
   ]
  },
  {
   "cell_type": "code",
   "execution_count": 326,
   "metadata": {},
   "outputs": [
    {
     "data": {
      "application/vnd.jupyter.widget-view+json": {
       "model_id": "4297bfae0f9244d6a8d9ce20b5517362",
       "version_major": 2,
       "version_minor": 0
      },
      "text/plain": [
       "VBox(children=(Label(value='Select USGS Gage (NWIS Station):\\n'), Dropdown(description='NWIS Station:', option…"
      ]
     },
     "metadata": {},
     "output_type": "display_data"
    }
   ],
   "source": [
    "start_date = datetime(2018, 1, 1) # Earliest start date\n",
    "end_date = datetime.now()\n",
    "dates = pd.date_range(start_date, end_date, freq='M')\n",
    "date_options = [(date.strftime(' %b %Y '), date) for date in dates]\n",
    "date_index = (0, len(date_options)-1)\n",
    "\n",
    "date_range_slider = widgets.SelectionRangeSlider(\n",
    "    options=date_options,\n",
    "    index=date_index,\n",
    "    description = \"Dates\",\n",
    "    orientation = 'horizontal',\n",
    "    layout = {'width': '500px'}\n",
    ")\n",
    "\n",
    "usgs_gage_selector = widgets.VBox(\n",
    "    [\n",
    "        widgets.Label(\n",
    "            value='Select USGS Gage (NWIS Station):\\n'\n",
    "        ),\n",
    "        widgets.Dropdown(\n",
    "            options=nwis_sites_menu, \n",
    "            value=NWIS_SITE, \n",
    "            description='NWIS Station:'\n",
    "        ),\n",
    "        date_range_slider,\n",
    "        run_button\n",
    "    ]\n",
    ")\n",
    "display(usgs_gage_selector)"
   ]
  },
  {
   "cell_type": "code",
   "execution_count": 327,
   "metadata": {},
   "outputs": [],
   "source": [
    "USGS_gage = usgs_gage_selector.children[1].value\n",
    "USGS_begin_date = usgs_gage_selector.children[2].value[0]\n",
    "USGS_end_date = usgs_gage_selector.children[2].value[1]"
   ]
  },
  {
   "cell_type": "code",
   "execution_count": 328,
   "metadata": {},
   "outputs": [],
   "source": [
    "begin_date_str = \"{0}-{1}-{2}\".format(USGS_begin_date.year,USGS_begin_date.month,USGS_begin_date.day)\n",
    "end_date_str = \"{0}-{1}-{2}\".format(USGS_end_date.year,USGS_end_date.month,USGS_end_date.day)"
   ]
  },
  {
   "cell_type": "markdown",
   "metadata": {
    "extensions": {
     "jupyter_dashboards": {
      "version": 1,
      "views": {
       "grid_default": {
        "hidden": true
       },
       "report_default": {
        "hidden": true
       }
      }
     }
    }
   },
   "source": [
    "### Get USGS Gage data directly from USGS (WaterData) web services \n",
    "* TODO:\n",
    "  * Create selector for property(ies)\n",
    "  * Create dictionary of property codes, names, and order returned:\n",
    "     *  168408 72254 Water velocity reading from field sensor, feet per second\n",
    "     *  209867 72255 Mean water velocity for discharge computation, feet per second\n",
    "     *  209869 00060 Discharge, cubic feet per second\n",
    "     *  231500 00011 Temperature, water, degrees Fahrenheit, ADVM\n",
    "     *   59675 00065 Gage height, feet\n",
    "     *   59676 00010 Temperature, water, degrees Celsius\n",
    "     *   59677 00400 pH, water, unfiltered, field, standard units\n",
    "     *   59678 00095 Specific conductance, water, unfiltered, microsiemens per centimeter at 25 degrees Celsius\n",
    "     *   59679 00300 Dissolved oxygen, water, unfiltered, milligrams per liter\n",
    "     *   59680 63680 Turbidity, water, unfiltered, monochrome near infra-red LED light, 780-900 nm, detection angle 90 +-2.5 degrees, formazin nephelometric units (FNU)\n",
    "     *   59681 99133 Nitrate plus nitrite, water, in situ, milligrams per liter as nitrogen\n",
    "* Varies with gage\n",
    "* Order out does not match order of params\n",
    "* See: https://nwis.waterdata.usgs.gov/usa/nwis, https://waterservices.usgs.gov/rest/\n",
    "* Can use dv instead of uv to get daily summary data (no timezone field)\n",
    "* Can also receive data in WaterML and JSON formats\n",
    "* Some USGS gages (e.g., USGS-03206000, Huntington) also collect precipitation data (cb_00045)"
   ]
  },
  {
   "cell_type": "code",
   "execution_count": 330,
   "metadata": {},
   "outputs": [],
   "source": [
    "usgs_gage = pd.read_csv(\"https://nwis.waterdata.usgs.gov/usa/nwis/uv/\"+ \\\n",
    "                        \"?site_no=\"+USGS_gage[5:]+ \\\n",
    "                        \"&period=&begin_date=\"+begin_date_str+\"&end_date=\"+end_date_str+ \\\n",
    "                        \"&cb_00065=on\"+ \\\n",
    "                        \"&format=rdb\", \\\n",
    "                       sep='\\t',comment='#',header=[0,1], \\\n",
    "                       dtype={4: np.float64}, \\\n",
    "                       na_values=['Eqp'])"
   ]
  },
  {
   "cell_type": "code",
   "execution_count": 331,
   "metadata": {},
   "outputs": [],
   "source": [
    "usgs_gage = usgs_gage.reset_index()\n",
    "usgs_gage.columns = ['Index', 'Agency', 'Site', 'DateTime', 'TZ', 'Gage height', 'qa'] # TODO: Need to lookup property name from a dictionary"
   ]
  },
  {
   "cell_type": "code",
   "execution_count": 332,
   "metadata": {},
   "outputs": [],
   "source": [
    "usgs_gage = usgs_gage.drop(usgs_gage.columns[6:8:2],axis=1) # TODO: set upper limit based on number of properties requested/returned\n",
    "usgs_gage = usgs_gage.drop(['Index','Agency','Site','TZ'],axis=1)"
   ]
  },
  {
   "cell_type": "markdown",
   "metadata": {},
   "source": [
    "#### Limit property ranges\n",
    " * TODO: use list properties and dictionary to dynamically select columns and limits"
   ]
  },
  {
   "cell_type": "code",
   "execution_count": 333,
   "metadata": {},
   "outputs": [],
   "source": [
    "#usgs_gage['Turbidity'] = usgs_gage['Turbidity'].apply(lambda x: TURB_MIN if x < TURB_MIN else x)  # Examples only\n",
    "#usgs_gage['Turbidity'] = usgs_gage['Turbidity'].apply(lambda x: TURB_MAX if x > TURB_MAX else x)"
   ]
  },
  {
   "cell_type": "markdown",
   "metadata": {},
   "source": [
    "#### Compute depth (in meters) from Gage height (in feet)"
   ]
  },
  {
   "cell_type": "code",
   "execution_count": 334,
   "metadata": {},
   "outputs": [],
   "source": [
    "usgs_gage['Depth'] = usgs_gage.apply(lambda x: (x['Gage height']-GAGE_HGT0)/FT_PER_M, axis=1) # TODO: GAGE_HGT0 should be determined from gage elevation (above sea-level)"
   ]
  },
  {
   "cell_type": "markdown",
   "metadata": {},
   "source": [
    "#### Index by Date-time"
   ]
  },
  {
   "cell_type": "code",
   "execution_count": 335,
   "metadata": {
    "extensions": {
     "jupyter_dashboards": {
      "version": 1,
      "views": {
       "grid_default": {
        "hidden": true
       },
       "report_default": {
        "hidden": true
       }
      }
     }
    }
   },
   "outputs": [],
   "source": [
    "def datetime_usgs(row):\n",
    "    pattern = '%Y-%m-%d %H:%M'\n",
    "    dt = row['DateTime']\n",
    "    return pd.to_datetime(time.mktime(time.strptime(dt,pattern)),unit='s')\n",
    "    \n",
    "usgs_gage['DateTime'] = usgs_gage.apply(lambda row: datetime_usgs(row),axis=1)\n",
    "usgs_gage = usgs_gage.set_index(['DateTime'])"
   ]
  },
  {
   "cell_type": "markdown",
   "metadata": {},
   "source": [
    "#### Put data in database\n",
    " * TODO: Need to define property table"
   ]
  },
  {
   "cell_type": "markdown",
   "metadata": {},
   "source": [
    "<div id='usgs_plots'></div>"
   ]
  },
  {
   "cell_type": "markdown",
   "metadata": {},
   "source": [
    "## USGS Gage Plots"
   ]
  },
  {
   "cell_type": "markdown",
   "metadata": {},
   "source": [
    "### Distribution plots"
   ]
  },
  {
   "cell_type": "code",
   "execution_count": 336,
   "metadata": {
    "extensions": {
     "jupyter_dashboards": {
      "version": 1,
      "views": {
       "grid_default": {
        "hidden": true
       },
       "report_default": {
        "hidden": true
       }
      }
     }
    }
   },
   "outputs": [
    {
     "data": {
      "application/vnd.jupyter.widget-view+json": {
       "model_id": "17a27084c9414cfc81f37feeee7c6c5b",
       "version_major": 2,
       "version_minor": 0
      },
      "text/plain": [
       "interactive(children=(Dropdown(description='Property', options=('Gage height', 'Depth'), value='Gage height'),…"
      ]
     },
     "metadata": {},
     "output_type": "display_data"
    },
    {
     "data": {
      "text/plain": [
       "<function __main__.dist_plot_ts_gage(Property, Kind='kde')>"
      ]
     },
     "execution_count": 336,
     "metadata": {},
     "output_type": "execute_result"
    }
   ],
   "source": [
    "def dist_plot_ts_gage(Property,Kind='kde'):\n",
    "    usgs_gage[Property].plot(kind=Kind,color='blue')\n",
    "        \n",
    "interact(dist_plot_ts_gage, \\\n",
    "         Property=usgs_gage.columns, \\\n",
    "         Kind=['hist','kde','box'] \\\n",
    "        )"
   ]
  },
  {
   "cell_type": "markdown",
   "metadata": {},
   "source": [
    "### Correlation plots"
   ]
  },
  {
   "cell_type": "code",
   "execution_count": 337,
   "metadata": {
    "extensions": {
     "jupyter_dashboards": {
      "version": 1,
      "views": {
       "grid_default": {
        "hidden": true
       },
       "report_default": {
        "hidden": true
       }
      }
     }
    }
   },
   "outputs": [
    {
     "data": {
      "application/vnd.jupyter.widget-view+json": {
       "model_id": "2a60a0885b7f4f49a2cb7f958b1587b5",
       "version_major": 2,
       "version_minor": 0
      },
      "text/plain": [
       "interactive(children=(Dropdown(description='YProperty', options=('Gage height', 'Depth'), value='Gage height')…"
      ]
     },
     "metadata": {},
     "output_type": "display_data"
    },
    {
     "data": {
      "text/plain": [
       "<function __main__.scatter_plot_ts_gage(YProperty='Gage height', XProperty='Depth', CProperty='Depth', ColorMap='jet')>"
      ]
     },
     "execution_count": 337,
     "metadata": {},
     "output_type": "execute_result"
    }
   ],
   "source": [
    "def scatter_plot_ts_gage(YProperty=usgs_gage.columns[0],XProperty=usgs_gage.columns[1],CProperty=usgs_gage.columns[1],ColorMap='jet'):\n",
    "    fig, ax = plt.subplots()\n",
    "    usgs_gage.plot.scatter(ax=ax,x=XProperty,y=YProperty,c=CProperty,cmap=ColorMap,s=1)\n",
    "    ax.set_title(\"Correlation of \"+YProperty+\" and \"+XProperty,fontsize=14)\n",
    "    \n",
    "interact(scatter_plot_ts_gage, \\\n",
    "         YProperty=usgs_gage.columns, \\\n",
    "         XProperty=usgs_gage.columns, \\\n",
    "         CProperty=usgs_gage.columns, \\\n",
    "         ColorMap=['jet','viridis','magma','coolwarm','seismic','Greys','Reds','Blues'] \\\n",
    "        )"
   ]
  },
  {
   "cell_type": "markdown",
   "metadata": {},
   "source": [
    "#### Disable scrolling for time-serie plots"
   ]
  },
  {
   "cell_type": "code",
   "execution_count": 338,
   "metadata": {},
   "outputs": [
    {
     "data": {
      "application/javascript": [
       "IPython.OutputArea.prototype._should_scroll = function(lines) {\n",
       "    return false;\n",
       "}\n"
      ],
      "text/plain": [
       "<IPython.core.display.Javascript object>"
      ]
     },
     "metadata": {},
     "output_type": "display_data"
    }
   ],
   "source": [
    "%%javascript\n",
    "IPython.OutputArea.prototype._should_scroll = function(lines) {\n",
    "    return false;\n",
    "}"
   ]
  },
  {
   "cell_type": "markdown",
   "metadata": {},
   "source": [
    "### Time-series plots"
   ]
  },
  {
   "cell_type": "code",
   "execution_count": 339,
   "metadata": {
    "extensions": {
     "jupyter_dashboards": {
      "version": 1,
      "views": {
       "grid_default": {
        "hidden": true
       },
       "report_default": {
        "hidden": true
       }
      }
     }
    }
   },
   "outputs": [
    {
     "data": {
      "application/vnd.jupyter.widget-view+json": {
       "model_id": "a2c5ccc165cf46458356d46d05ea4336",
       "version_major": 2,
       "version_minor": 0
      },
      "text/plain": [
       "interactive(children=(SelectionRangeSlider(description='Dates', index=(0, 27), layout=Layout(width='500px'), o…"
      ]
     },
     "metadata": {},
     "output_type": "display_data"
    },
    {
     "data": {
      "text/plain": [
       "<function __main__.plot_ts_gage(date_range=(datetime.datetime(2018, 1, 1, 0, 0), datetime.datetime(2020, 5, 15, 19, 47, 55, 800423)))>"
      ]
     },
     "execution_count": 339,
     "metadata": {},
     "output_type": "execute_result"
    }
   ],
   "source": [
    "def plot_ts_gage(date_range=(start_date,end_date)):\n",
    "    fig, axes = plt.subplots(nrows=len(usgs_gage.columns),ncols=1,figsize=(20,20)) # TODO: set rows based on number of properties\n",
    "    i = 0\n",
    "    for property in usgs_gage.columns:\n",
    "        usgs_gage[property].plot(ax=axes[i],drawstyle='steps-post',legend=True,color='blue')\n",
    "        axes[i].legend([property],loc='upper left')\n",
    "        axes[i].set_xlim(date_range)\n",
    "        i = i+1\n",
    "            \n",
    "interact(plot_ts_gage,date_range=date_range_slider)"
   ]
  },
  {
   "cell_type": "markdown",
   "metadata": {},
   "source": [
    "## Water Quality Data"
   ]
  },
  {
   "cell_type": "code",
   "execution_count": 340,
   "metadata": {},
   "outputs": [],
   "source": [
    "wqp_sites = spatialite_session.query(Site).filter_by(type='WQP')\n",
    "\n",
    "wqp_sites_menu = []\n",
    "for row in wqp_sites:\n",
    "    wqp_sites_menu.append(row.name)"
   ]
  },
  {
   "cell_type": "markdown",
   "metadata": {},
   "source": [
    "<div id='select_wqp_station'></div>"
   ]
  },
  {
   "cell_type": "code",
   "execution_count": 341,
   "metadata": {},
   "outputs": [
    {
     "data": {
      "application/vnd.jupyter.widget-view+json": {
       "model_id": "a62ba99800014ccbaed72b252ad1a346",
       "version_major": 2,
       "version_minor": 0
      },
      "text/plain": [
       "VBox(children=(Label(value='Select WQP Station:\\n'), Dropdown(description='WQP Station:', options=('31ORWUNT_W…"
      ]
     },
     "metadata": {},
     "output_type": "display_data"
    }
   ],
   "source": [
    "wqp_station = widgets.VBox(\n",
    "    [\n",
    "        widgets.Label(\n",
    "            value='Select WQP Station:\\n'\n",
    "        ),\n",
    "        widgets.Dropdown(\n",
    "            options=wqp_sites_menu, \n",
    "            value=wqp_sites_menu[0], \n",
    "            description='WQP Station:'\n",
    "        ),\n",
    "        date_range_slider,\n",
    "        run_button\n",
    "    ]\n",
    ")\n",
    "display(wqp_station)"
   ]
  },
  {
   "cell_type": "code",
   "execution_count": null,
   "metadata": {},
   "outputs": [],
   "source": []
  }
 ],
 "metadata": {
  "extensions": {
   "jupyter_dashboards": {
    "activeView": "report_default",
    "version": 1,
    "views": {
     "grid_default": {
      "cellMargin": 10,
      "defaultCellHeight": 20,
      "maxColumns": 12,
      "name": "grid",
      "type": "grid"
     },
     "report_default": {
      "name": "report",
      "type": "report"
     }
    }
   }
  },
  "kernelspec": {
   "display_name": "Python 3",
   "language": "python",
   "name": "python3"
  },
  "language_info": {
   "codemirror_mode": {
    "name": "ipython",
    "version": 3
   },
   "file_extension": ".py",
   "mimetype": "text/x-python",
   "name": "python",
   "nbconvert_exporter": "python",
   "pygments_lexer": "ipython3",
   "version": "3.7.3"
  }
 },
 "nbformat": 4,
 "nbformat_minor": 4
}
