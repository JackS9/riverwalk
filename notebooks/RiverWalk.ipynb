{
 "cells": [
  {
   "cell_type": "markdown",
   "metadata": {
    "extensions": {
     "jupyter_dashboards": {
      "version": 1,
      "views": {
       "grid_default": {
        "col": 0,
        "height": 4,
        "hidden": false,
        "row": 0,
        "width": 4
       },
       "report_default": {
        "hidden": false
       }
      }
     }
    }
   },
   "source": [
    "# Create Map of a stream (based on NWIS Site ID) with various feature layers derived from USGS NLDI navigation along the stream, its tributaries and associated drainage basins"
   ]
  },
  {
   "cell_type": "markdown",
   "metadata": {},
   "source": [
    "### TODO:  \n",
    "* Put data (and/or URIs) in database and/or lists as they are retrieved\n",
    "* Query NWIS Sites\n",
    " * Provide Input Widget for: \n",
    "  * NWIS Site search parameters\n",
    "  * Distance\n",
    "* How to locate HUC12s that share same PP?\n",
    "* Locate NOAA weather stations within HUC (needs API key)\n",
    "\n",
    "``\n",
    "     url = \"https://www.ncdc.noaa.gov/cdo-web/api/v2/stations?datasetid=GHCND&locationid=HUC:050901&datatypeid=PRCP&startdate=2017-10-01&limit=50\"\n",
    "   headers = {\"token\":\"dSWlkVrvxNPUSVBGXOeAWkynJQdJOxAB\",\"Content-Type\":\"application/json;charset=UTF-8\"}\n",
    "   resp = requests.get(url, headers=headers)\n",
    "   json_data = json.loads(resp.text)\n",
    "   stations_050901 = pd.read_json(json.dumps(json_data['results']))\n",
    "``\n",
    "\n",
    "* Generate interactive plots after map\n",
    " * Try Seaborn or Bokeh (in addition to Pandas and Matplotlib)\n",
    " * Try Scipy.stats, Statsmodels or SKLearn for statistical modeling\n",
    "* Set up deployment:\n",
    " * GitHub repo\n",
    " * Dockerfile\n",
    " * DockerHub\n",
    " * Autobuild Docker image from GitHub\n",
    " * MyBinder project with one-click build/test on GitHub\n"
   ]
  },
  {
   "cell_type": "markdown",
   "metadata": {},
   "source": [
    "## Get things set up"
   ]
  },
  {
   "cell_type": "markdown",
   "metadata": {
    "extensions": {
     "jupyter_dashboards": {
      "version": 1,
      "views": {
       "grid_default": {
        "col": 0,
        "height": 5,
        "hidden": false,
        "row": 17,
        "width": 12
       },
       "report_default": {
        "hidden": false
       }
      }
     }
    }
   },
   "source": [
    "#### To install any packages locally (e.g., folium, geopandas, fiona):\n",
    "```\n",
    "%%bash -l\n",
    "use -e -r anaconda3-5.1\n",
    "pip install folium --prefix=. --upgrade-strategy only-if-needed\n",
    "```"
   ]
  },
  {
   "cell_type": "markdown",
   "metadata": {
    "extensions": {
     "jupyter_dashboards": {
      "version": 1,
      "views": {
       "grid_default": {
        "hidden": true
       },
       "report_default": {
        "hidden": true
       }
      }
     }
    }
   },
   "source": [
    "#### To access them:\n",
    "```\n",
    "import os, sys\n",
    "sys.path.insert(0,'lib/python3.7/site-packages') # Add locally installed packages to path\n",
    "```"
   ]
  },
  {
   "cell_type": "markdown",
   "metadata": {},
   "source": [
    "### Define the Reach by setting the starting site (NWIS Station) and up/down-stream distance ranges (Km)"
   ]
  },
  {
   "cell_type": "code",
   "execution_count": 176,
   "metadata": {},
   "outputs": [
    {
     "data": {
      "application/vnd.jupyter.widget-view+json": {
       "model_id": "3a6b89e9e25d4f33b6422d704636e048",
       "version_major": 2,
       "version_minor": 0
      },
      "text/plain": [
       "VBox(children=(Label(value='Select NWIS Station and range (Km):\\n'), Dropdown(description='NWIS Site:', option…"
      ]
     },
     "metadata": {},
     "output_type": "display_data"
    }
   ],
   "source": [
    "reach = widgets.VBox(\n",
    "    [\n",
    "        widgets.Label(\n",
    "            value='Select NWIS Station and range (Km):\\n'\n",
    "        ),\n",
    "        widgets.Dropdown(\n",
    "            options=[('Huntington','USGS-03206000'), ('Charleston','USGS-03198000')],\n",
    "            value='USGS-03206000',\n",
    "            description='NWIS Site:'\n",
    "        ),\n",
    "        widgets.IntSlider(\n",
    "            value=5,\n",
    "            min=0,\n",
    "            max=100,\n",
    "            step=5,\n",
    "            description='Upstream:',\n",
    "            disabled=False,\n",
    "            continuous_update=False,\n",
    "            orientation='horizontal',\n",
    "            readout=True,\n",
    "            readout_format='d'\n",
    "        ),\n",
    "        widgets.IntSlider(\n",
    "            value=5,\n",
    "            min=0,\n",
    "            max=100,\n",
    "            step=5,\n",
    "            description='Downstream:',\n",
    "            disabled=False,\n",
    "            continuous_update=False,\n",
    "            orientation='horizontal',\n",
    "            readout=True,\n",
    "            readout_format='d'\n",
    "        )\n",
    "    ]\n",
    ")\n",
    "display(reach)"
   ]
  },
  {
   "cell_type": "code",
   "execution_count": 182,
   "metadata": {},
   "outputs": [],
   "source": [
    "NWIS_SITE = reach.children[1].value\n",
    "UM_DIST = reach.children[2].value\n",
    "DM_DIST = reach.children[3].value"
   ]
  },
  {
   "cell_type": "code",
   "execution_count": 188,
   "metadata": {},
   "outputs": [
    {
     "name": "stdout",
     "output_type": "stream",
     "text": [
      "NWIS Station: USGS-03206000, Upstream: 5, Downstream: 5\n"
     ]
    }
   ],
   "source": [
    "print(\"NWIS Station: {0}, Upstream: {1}, Downstream: {2}\".format(NWIS_SITE, UM_DIST, DM_DIST))"
   ]
  },
  {
   "cell_type": "markdown",
   "metadata": {},
   "source": [
    "### URLs for REST Web Services"
   ]
  },
  {
   "cell_type": "code",
   "execution_count": 112,
   "metadata": {},
   "outputs": [],
   "source": [
    "USGS_NLDI_WS = \"https://labs.waterdata.usgs.gov/api/nldi/linked-data\" # USGS NLDI REST web services\n",
    "NWIS_SITE_URL = USGS_NLDI_WS+\"/nwissite/\"+NWIS_SITE \n",
    "NWIS_SITE_NAV = NWIS_SITE_URL+\"/navigate\"\n",
    "TNM_WS = \"https://hydro.nationalmap.gov/arcgis/rest/services\" # The National Map REST web services\n",
    "ARCGIS_WS = \"http://server.arcgisonline.com/arcgis/rest/services\" # ARCGIS Online REST web services"
   ]
  },
  {
   "cell_type": "markdown",
   "metadata": {},
   "source": [
    "### Input (optional) and Output Directories"
   ]
  },
  {
   "cell_type": "code",
   "execution_count": 113,
   "metadata": {},
   "outputs": [],
   "source": [
    "IN_DIR = \"data/\"+NWIS_SITE\n",
    "OUT_DIR = IN_DIR+\"/out\""
   ]
  },
  {
   "cell_type": "markdown",
   "metadata": {},
   "source": [
    "### Create output directory if it does not already exist"
   ]
  },
  {
   "cell_type": "code",
   "execution_count": 114,
   "metadata": {},
   "outputs": [],
   "source": [
    "%mkdir -p {OUT_DIR}"
   ]
  },
  {
   "cell_type": "code",
   "execution_count": 115,
   "metadata": {},
   "outputs": [],
   "source": [
    "import os.path\n",
    "from os import path"
   ]
  },
  {
   "cell_type": "markdown",
   "metadata": {},
   "source": [
    "### Use full width of browser window"
   ]
  },
  {
   "cell_type": "code",
   "execution_count": 116,
   "metadata": {},
   "outputs": [
    {
     "data": {
      "text/html": [
       "<style>.container { width:100% !important; }</style>"
      ],
      "text/plain": [
       "<IPython.core.display.HTML object>"
      ]
     },
     "metadata": {},
     "output_type": "display_data"
    }
   ],
   "source": [
    "from IPython.core.display import display, HTML\n",
    "display(HTML(\"<style>.container { width:100% !important; }</style>\"))"
   ]
  },
  {
   "cell_type": "markdown",
   "metadata": {
    "extensions": {
     "jupyter_dashboards": {
      "version": 1,
      "views": {
       "grid_default": {
        "col": 4,
        "height": 4,
        "hidden": false,
        "row": 0,
        "width": 4
       },
       "report_default": {
        "hidden": false
       }
      }
     }
    }
   },
   "source": [
    "### Enable numerical arrays and matrices with NumPy"
   ]
  },
  {
   "cell_type": "code",
   "execution_count": 117,
   "metadata": {
    "extensions": {
     "jupyter_dashboards": {
      "version": 1,
      "views": {
       "grid_default": {
        "hidden": true
       },
       "report_default": {
        "hidden": true
       }
      }
     }
    }
   },
   "outputs": [],
   "source": [
    "import numpy as np"
   ]
  },
  {
   "cell_type": "markdown",
   "metadata": {
    "extensions": {
     "jupyter_dashboards": {
      "version": 1,
      "views": {
       "grid_default": {
        "col": 4,
        "height": 4,
        "hidden": false,
        "row": 0,
        "width": 4
       },
       "report_default": {
        "hidden": false
       }
      }
     }
    }
   },
   "source": [
    "### Enable R-style DataFrames with Pandas"
   ]
  },
  {
   "cell_type": "code",
   "execution_count": 118,
   "metadata": {
    "extensions": {
     "jupyter_dashboards": {
      "version": 1,
      "views": {
       "grid_default": {
        "hidden": true
       },
       "report_default": {
        "hidden": true
       }
      }
     }
    }
   },
   "outputs": [],
   "source": [
    "import pandas as pd"
   ]
  },
  {
   "cell_type": "markdown",
   "metadata": {
    "extensions": {
     "jupyter_dashboards": {
      "version": 1,
      "views": {
       "grid_default": {
        "col": 4,
        "height": 4,
        "hidden": false,
        "row": 0,
        "width": 4
       },
       "report_default": {
        "hidden": false
       }
      }
     }
    }
   },
   "source": [
    "### Enable Math functions"
   ]
  },
  {
   "cell_type": "code",
   "execution_count": 119,
   "metadata": {
    "extensions": {
     "jupyter_dashboards": {
      "version": 1,
      "views": {
       "grid_default": {
        "hidden": true
       },
       "report_default": {
        "hidden": true
       }
      }
     }
    }
   },
   "outputs": [],
   "source": [
    "import math"
   ]
  },
  {
   "cell_type": "markdown",
   "metadata": {
    "extensions": {
     "jupyter_dashboards": {
      "version": 1,
      "views": {
       "grid_default": {
        "col": 4,
        "height": 4,
        "hidden": false,
        "row": 0,
        "width": 4
       },
       "report_default": {
        "hidden": false
       }
      }
     }
    }
   },
   "source": [
    "### Enable working with Dates and Times"
   ]
  },
  {
   "cell_type": "code",
   "execution_count": 189,
   "metadata": {
    "extensions": {
     "jupyter_dashboards": {
      "version": 1,
      "views": {
       "grid_default": {
        "hidden": true
       },
       "report_default": {
        "hidden": true
       }
      }
     }
    }
   },
   "outputs": [],
   "source": [
    "import time\n",
    "from datetime import datetime"
   ]
  },
  {
   "cell_type": "markdown",
   "metadata": {
    "extensions": {
     "jupyter_dashboards": {
      "version": 1,
      "views": {
       "grid_default": {
        "col": 4,
        "height": 4,
        "hidden": false,
        "row": 0,
        "width": 4
       },
       "report_default": {
        "hidden": false
       }
      }
     }
    }
   },
   "source": [
    "### Enable inline MATLAB-style plotting with MatPlotLib"
   ]
  },
  {
   "cell_type": "code",
   "execution_count": 121,
   "metadata": {
    "extensions": {
     "jupyter_dashboards": {
      "version": 1,
      "views": {
       "grid_default": {
        "hidden": true
       },
       "report_default": {
        "hidden": true
       }
      }
     }
    }
   },
   "outputs": [],
   "source": [
    "import matplotlib.pyplot as plt\n",
    "%matplotlib inline"
   ]
  },
  {
   "cell_type": "markdown",
   "metadata": {
    "extensions": {
     "jupyter_dashboards": {
      "version": 1,
      "views": {
       "grid_default": {},
       "report_default": {
        "hidden": false
       }
      }
     }
    }
   },
   "source": [
    "### Enable interactive plots using iPyWidgets"
   ]
  },
  {
   "cell_type": "code",
   "execution_count": 122,
   "metadata": {
    "extensions": {
     "jupyter_dashboards": {
      "version": 1,
      "views": {
       "grid_default": {
        "hidden": true
       },
       "report_default": {
        "hidden": true
       }
      }
     }
    }
   },
   "outputs": [],
   "source": [
    "import ipywidgets as widgets\n",
    "from ipywidgets import interact, interactive, fixed, interact_manual"
   ]
  },
  {
   "cell_type": "markdown",
   "metadata": {
    "extensions": {
     "jupyter_dashboards": {
      "version": 1,
      "views": {
       "grid_default": {},
       "report_default": {
        "hidden": false
       }
      }
     }
    }
   },
   "source": [
    "### Enable geospatial DataFrames with GeoPandas (built on Fiona, which is built on GDAL/OGR)"
   ]
  },
  {
   "cell_type": "code",
   "execution_count": 123,
   "metadata": {
    "extensions": {
     "jupyter_dashboards": {
      "version": 1,
      "views": {
       "grid_default": {
        "hidden": true
       },
       "report_default": {
        "hidden": true
       }
      }
     }
    }
   },
   "outputs": [],
   "source": [
    "import geopandas as gpd"
   ]
  },
  {
   "cell_type": "markdown",
   "metadata": {},
   "source": [
    "### Enable other geospatial functions using Shapely"
   ]
  },
  {
   "cell_type": "code",
   "execution_count": 124,
   "metadata": {},
   "outputs": [],
   "source": [
    "import shapely\n",
    "from shapely.geometry import Point, Polygon"
   ]
  },
  {
   "cell_type": "markdown",
   "metadata": {
    "extensions": {
     "jupyter_dashboards": {
      "version": 1,
      "views": {
       "grid_default": {},
       "report_default": {
        "hidden": false
       }
      }
     }
    }
   },
   "source": [
    "### Enable Leatlet.JS-based mapping with Folium "
   ]
  },
  {
   "cell_type": "code",
   "execution_count": 125,
   "metadata": {
    "extensions": {
     "jupyter_dashboards": {
      "version": 1,
      "views": {
       "grid_default": {
        "hidden": true
       },
       "report_default": {
        "hidden": true
       }
      }
     }
    }
   },
   "outputs": [],
   "source": [
    "import folium\n",
    "from folium import IFrame\n",
    "import folium.plugins as plugins"
   ]
  },
  {
   "cell_type": "markdown",
   "metadata": {
    "extensions": {
     "jupyter_dashboards": {
      "version": 1,
      "views": {
       "grid_default": {},
       "report_default": {
        "hidden": false
       }
      }
     }
    }
   },
   "source": [
    "### Enable additional HTML features with Branca"
   ]
  },
  {
   "cell_type": "code",
   "execution_count": 126,
   "metadata": {
    "extensions": {
     "jupyter_dashboards": {
      "version": 1,
      "views": {
       "grid_default": {
        "hidden": true
       },
       "report_default": {
        "hidden": true
       }
      }
     }
    }
   },
   "outputs": [],
   "source": [
    "import branca"
   ]
  },
  {
   "cell_type": "markdown",
   "metadata": {},
   "source": [
    "### Enable HTTP requests and parsing of JSON results"
   ]
  },
  {
   "cell_type": "code",
   "execution_count": 127,
   "metadata": {},
   "outputs": [],
   "source": [
    "import requests\n",
    "import json"
   ]
  },
  {
   "cell_type": "markdown",
   "metadata": {},
   "source": [
    "### Enable SQL database access using SQLAlchemy (and GeoAlchemy)"
   ]
  },
  {
   "cell_type": "code",
   "execution_count": 128,
   "metadata": {},
   "outputs": [],
   "source": [
    "from sqlalchemy import create_engine\n",
    "from sqlalchemy import Table, MetaData"
   ]
  },
  {
   "cell_type": "markdown",
   "metadata": {},
   "source": [
    "### Define some handy geometry functions"
   ]
  },
  {
   "cell_type": "code",
   "execution_count": 129,
   "metadata": {},
   "outputs": [],
   "source": [
    "def geom_measure(lat1, lon1, lat2, lon2):\n",
    "    R = 6378.137 # Radius of earth in KM\n",
    "    dLat = lat2 * math.pi / 180 - lat1 * math.pi / 180\n",
    "    dLon = lon2 * math.pi / 180 - lon1 * math.pi / 180\n",
    "    a = math.sin(dLat/2) * math.sin(dLat/2) + math.cos(lat1 * math.pi / 180) * math.cos(lat2 * math.pi / 180) * math.sin(dLon/2) * math.sin(dLon/2)\n",
    "    c = 2 * math.atan2(math.sqrt(a), math.sqrt(1-a))\n",
    "    d = R * c\n",
    "    return d # Kilometers"
   ]
  },
  {
   "cell_type": "code",
   "execution_count": 130,
   "metadata": {},
   "outputs": [],
   "source": [
    "def geom_extent(geom):\n",
    "    lon1 = geom.total_bounds[0]\n",
    "    lat1 = geom.total_bounds[1]\n",
    "    lon2 = geom.total_bounds[2]\n",
    "    lat2 = geom.total_bounds[3]\n",
    "    d = geom_measure(lat1, lon1, lat2, lon2)\n",
    "    return d"
   ]
  },
  {
   "cell_type": "code",
   "execution_count": 131,
   "metadata": {},
   "outputs": [],
   "source": [
    "def geom_extent2(geom):\n",
    "    d2 = geom_width(geom)+geom_height(geom)\n",
    "    return d2"
   ]
  },
  {
   "cell_type": "code",
   "execution_count": 132,
   "metadata": {},
   "outputs": [],
   "source": [
    "def geom_height(geom):\n",
    "    lon1 = geom.total_bounds[0]\n",
    "    lat1 = geom.total_bounds[1]\n",
    "    lon2 = geom.total_bounds[2]\n",
    "    lat2 = geom.total_bounds[3]\n",
    "    h = geom_measure(lat1, lon1, lat2, lon1)\n",
    "    return h"
   ]
  },
  {
   "cell_type": "code",
   "execution_count": 133,
   "metadata": {},
   "outputs": [],
   "source": [
    "def geom_width(geom):\n",
    "    lon1 = geom.total_bounds[0]\n",
    "    lat1 = geom.total_bounds[1]\n",
    "    lon2 = geom.total_bounds[2]\n",
    "    lat2 = geom.total_bounds[3]\n",
    "    w = geom_measure(lat1, lon1, lat1, lon2)\n",
    "    return w"
   ]
  },
  {
   "cell_type": "code",
   "execution_count": 134,
   "metadata": {},
   "outputs": [],
   "source": [
    "def geom_bbox(geom):\n",
    "    polygon = gpd.GeoDataFrame(gpd.GeoSeries(geom.envelope), columns=['geometry'])\n",
    "    return polygon"
   ]
  },
  {
   "cell_type": "code",
   "execution_count": 135,
   "metadata": {},
   "outputs": [],
   "source": [
    "# In case CRS is different\n",
    "\n",
    "def geom_bbox2(geom):\n",
    "    lon_point_list = [geom.total_bounds[0],geom.total_bounds[2],geom.total_bounds[2],geom.total_bounds[0],geom.total_bounds[0]]\n",
    "    lat_point_list = [geom.total_bounds[1],geom.total_bounds[1],geom.total_bounds[3],geom.total_bounds[3],geom.total_bounds[1]]\n",
    "    polygon_geom = Polygon(zip(lon_point_list, lat_point_list))\n",
    "    crs = {'init': 'epsg:4326'}\n",
    "    polygon = gpd.GeoDataFrame(index=[0], crs=crs, geometry=[polygon_geom])    \n",
    "    return polygon"
   ]
  },
  {
   "cell_type": "code",
   "execution_count": 136,
   "metadata": {},
   "outputs": [],
   "source": [
    "# Try using the area of the total_bounds polygon in both degrees and meters to generate an approximate \"conversion\" factor\n",
    "\n",
    "def geom_area(geom):\n",
    "    factor = geom_width(geom)*geom_height(geom)/geom_bbox(geom).area\n",
    "    area = factor*geom.area\n",
    "    return area"
   ]
  },
  {
   "cell_type": "code",
   "execution_count": 137,
   "metadata": {},
   "outputs": [],
   "source": [
    "# Use a rectangular projection to get true area\n",
    "# *** Currently crashes kernel ***\n",
    "\n",
    "def geom_area2(geom):\n",
    "    geom_m = geom.to_crs(epsg=3857) # or 32633\n",
    "    a = geom_m.area/10**6\n",
    "    return a"
   ]
  },
  {
   "cell_type": "markdown",
   "metadata": {},
   "source": [
    "### Set up a local file-based SQLite/Spatialite database\n",
    " * TODO:\n",
    "  * Switch to Spatialite to hold geometry fields (instead of just Lat/Lon values)\n",
    "  * Provide option to use PostgreSQL/PostGIS running in a separate Docker container (along with Adminer)\n",
    "  * Make use of ORM model"
   ]
  },
  {
   "cell_type": "code",
   "execution_count": 138,
   "metadata": {},
   "outputs": [],
   "source": [
    "sqlite_db_filename = 'riverwalk.db'\n",
    "sqlite_engine = create_engine('sqlite:///{0}/{1}'.format(OUT_DIR,sqlite_db_filename))"
   ]
  },
  {
   "cell_type": "markdown",
   "metadata": {
    "extensions": {
     "jupyter_dashboards": {
      "version": 1,
      "views": {
       "grid_default": {},
       "report_default": {
        "hidden": false
       }
      }
     }
    }
   },
   "source": [
    "### Create an optional Sites database table from an input CSV file\n",
    " * TODO: eliminate extraneous columns.  Currently have:\n",
    " 'Type', 'Name', 'Longitude', 'Latitude', 'Elevation', 'River Code', 'Pool', 'RMI', 'Bank', 'State', 'County', 'HUC', 'Drainage Area', 'WQX Code', 'USGS Code', 'NWS Code', 'USACE Code', 'ORSANCO Code', 'Description'"
   ]
  },
  {
   "cell_type": "code",
   "execution_count": 139,
   "metadata": {},
   "outputs": [],
   "source": [
    "optional_sites = path.exists(IN_DIR+'/sites.csv')\n",
    "\n",
    "if (optional_sites):\n",
    "    sites = pd.read_csv(IN_DIR+'/sites.csv',dtype={'County':object,'HUC':object,'WQX Code':object,'USGS Code':object})\n",
    "    sites.to_sql(\"sites\", con=sqlite_engine, index=False, if_exists='replace')\n",
    "\n",
    "    meta = MetaData(bind=sqlite_engine)\n",
    "    sqlite_engine._metadata = meta\n",
    "    meta.reflect(sqlite_engine)\n",
    "\n",
    "    sites_table = Table('sites',meta,autoload=True,autoload_with=sqlite_engine)"
   ]
  },
  {
   "cell_type": "markdown",
   "metadata": {
    "extensions": {
     "jupyter_dashboards": {
      "version": 1,
      "views": {
       "grid_default": {
        "col": 0,
        "height": 4,
        "hidden": false,
        "row": 43,
        "width": 4
       },
       "report_default": {
        "hidden": false
       }
      }
     }
    }
   },
   "source": [
    "### Get Lat/Lon coordinates of starting site (NWIS station)"
   ]
  },
  {
   "cell_type": "code",
   "execution_count": 140,
   "metadata": {},
   "outputs": [],
   "source": [
    "nwis_site_json = gpd.read_file(NWIS_SITE_URL)\n",
    "nwis_site_geom = nwis_site_json.iloc[0]['geometry']\n",
    "nwis_site_coord = [nwis_site_geom.y, nwis_site_geom.x]"
   ]
  },
  {
   "cell_type": "markdown",
   "metadata": {
    "extensions": {
     "jupyter_dashboards": {
      "version": 1,
      "views": {
       "grid_default": {
        "col": 0,
        "height": 4,
        "hidden": false,
        "row": 43,
        "width": 4
       },
       "report_default": {
        "hidden": false
       }
      }
     }
    }
   },
   "source": [
    "## Generate map"
   ]
  },
  {
   "cell_type": "code",
   "execution_count": 141,
   "metadata": {
    "extensions": {
     "jupyter_dashboards": {
      "version": 1,
      "views": {
       "grid_default": {},
       "report_default": {
        "hidden": false
       }
      }
     }
    }
   },
   "outputs": [
    {
     "data": {
      "text/plain": [
       "<folium.plugins.fullscreen.Fullscreen at 0x7f2216a953c8>"
      ]
     },
     "execution_count": 141,
     "metadata": {},
     "output_type": "execute_result"
    }
   ],
   "source": [
    "river_map = folium.Map(nwis_site_coord,zoom_start=10,tiles=None)\n",
    "plugins.ScrollZoomToggler().add_to(river_map)\n",
    "plugins.Fullscreen(\n",
    "    position='bottomright',\n",
    "    title='Full Screen',\n",
    "    title_cancel='Exit Full Screen',\n",
    "    force_separate_button=True\n",
    ").add_to(river_map)"
   ]
  },
  {
   "cell_type": "markdown",
   "metadata": {},
   "source": [
    "### Add features (NWIS and WQP sites) from NLDI web services at USGS"
   ]
  },
  {
   "cell_type": "code",
   "execution_count": 142,
   "metadata": {},
   "outputs": [
    {
     "data": {
      "text/plain": [
       "<folium.map.FeatureGroup at 0x7f221e04d588>"
      ]
     },
     "execution_count": 142,
     "metadata": {},
     "output_type": "execute_result"
    }
   ],
   "source": [
    "# Popup parameters\n",
    "\n",
    "width = 500\n",
    "height = 120\n",
    "max_width = 1000\n",
    "\n",
    "# Main Stream\n",
    "\n",
    "folium.GeoJson(NWIS_SITE_NAV+\"/UM?distance=\"+str(UM_DIST),name=\"Main Stream (up)\",show=True,control=False).add_to(river_map)\n",
    "folium.GeoJson(NWIS_SITE_NAV+\"/DM?distance=\"+str(DM_DIST),name=\"Main Stream (down)\",show=True,control=False).add_to(river_map)\n",
    "\n",
    "# NWIS Sites\n",
    "\n",
    "fg_nwis = folium.FeatureGroup(name=\"USGS (NWIS) Sites\",overlay=True,show=False)\n",
    "color = 'darkred'\n",
    "icon = 'dashboard'\n",
    "        \n",
    "nwis_sites_dm = gpd.read_file(NWIS_SITE_NAV+\"/DM/nwissite?distance=\"+str(DM_DIST))\n",
    "nwis_sites_um = gpd.read_file(NWIS_SITE_NAV+\"/UM/nwissite?distance=\"+str(UM_DIST))\n",
    "nwis_sites = gpd.GeoDataFrame(pd.concat([nwis_sites_dm,nwis_sites_um], ignore_index=True), crs=nwis_sites_dm.crs)\n",
    "\n",
    "for i, nwis_site in nwis_sites.iterrows():\n",
    "    coord = [nwis_site.geometry.y,nwis_site.geometry.x]\n",
    "    label = 'NWIS Station: '+nwis_site.identifier+\" (\"+str(i)+\")\"\n",
    "    html = label\n",
    "    html += '<br>{0:s}'.format(nwis_site['name'])\n",
    "    html += '<br><a href=\\\"{0:s}\\\",target=\\\"_blank\\\">{1:s}'.format(nwis_site.uri,nwis_site.uri)+'</a>'\n",
    "    html += '<br>Lat: {0:.2f}'.format(nwis_site.geometry.y)+', Lon: {0:.2f}'.format(nwis_site.geometry.x)\n",
    "    html += '<br>Comid: {0:s}'.format(nwis_site.comid)\n",
    "    iframe = folium.IFrame(html,width=width,height=height)\n",
    "    popup = folium.Popup(iframe,max_width=max_width)\n",
    "    fg_nwis.add_child(folium.Marker(location=coord,icon=folium.Icon(color=color,icon=icon),popup=popup,tooltip=label))\n",
    "        \n",
    "fg_nwis.add_to(river_map)\n",
    "\n",
    "# WQP Stations\n",
    "        \n",
    "fg_wqp = folium.FeatureGroup(name=\"WQP Stations\",overlay=True,show=False)\n",
    "color = 'darkgreen'\n",
    "radius = 3\n",
    "        \n",
    "wqp_sites_dm = gpd.read_file(NWIS_SITE_NAV+\"/DM/wqp?distance=\"+str(DM_DIST))\n",
    "wqp_sites_um = gpd.read_file(NWIS_SITE_NAV+\"/UM/wqp?distance=\"+str(UM_DIST))\n",
    "wqp_sites = gpd.GeoDataFrame(pd.concat([wqp_sites_dm,wqp_sites_um], ignore_index=True), crs=wqp_sites_dm.crs)\n",
    "\n",
    "for i, wqp_site in wqp_sites.iterrows():\n",
    "    coord = [wqp_site.geometry.y,wqp_site.geometry.x]\n",
    "    label = 'WQP Station: '+wqp_site.identifier+\" (\"+str(i)+\")\"\n",
    "    html = label\n",
    "    html += '<br>{0:s}'.format(wqp_site['name'])\n",
    "    html += '<br><a href=\\\"{0:s}\\\",target=\\\"_blank\\\">{1:s}'.format(wqp_site.uri,wqp_site.uri)+'</a>'\n",
    "    html += '<br>Lat: {0:.2f}'.format(wqp_site.geometry.y)+', Lon: {0:.2f}'.format(wqp_site.geometry.x)\n",
    "    html += '<br>Comid: {0:s}'.format(wqp_site.comid)\n",
    "    iframe = folium.IFrame(html,width=width,height=height)\n",
    "    popup = folium.Popup(iframe,max_width=max_width)\n",
    "    fg_wqp.add_child(folium.CircleMarker(location=coord,radius=radius,color=color,popup=popup,tooltip=label))\n",
    "\n",
    "fg_wqp.add_to(river_map)"
   ]
  },
  {
   "cell_type": "markdown",
   "metadata": {},
   "source": [
    "### Add HUC12 Pour Points (upstream and downstream) and *differential* drainage basins"
   ]
  },
  {
   "cell_type": "code",
   "execution_count": 143,
   "metadata": {},
   "outputs": [
    {
     "data": {
      "text/plain": [
       "<folium.map.FeatureGroup at 0x7f2216a6bf60>"
      ]
     },
     "execution_count": 143,
     "metadata": {},
     "output_type": "execute_result"
    }
   ],
   "source": [
    "fg_huc12pp = folium.FeatureGroup(name=\"HUC12 Pour Points\",overlay=True,show=False)\n",
    "fg_basins = folium.FeatureGroup(name=\"Drainage Basins\",overlay=True,show=False)\n",
    "\n",
    "color = 'darkblue'\n",
    "radius = 3\n",
    "        \n",
    "huc12pp_site_dm = gpd.read_file(NWIS_SITE_NAV+\"/DM/huc12pp?distance=\"+str(DM_DIST))\n",
    "huc12pp_sites_um = gpd.read_file(NWIS_SITE_NAV+\"/UM/huc12pp?distance=\"+str(UM_DIST))\n",
    "huc12pp_sites = gpd.GeoDataFrame(pd.concat([huc12pp_site_dm,huc12pp_sites_um], ignore_index=True), crs=huc12pp_site_dm.crs)\n",
    "\n",
    "n_segs = len(huc12pp_sites)-1\n",
    "\n",
    "# Sort sites by decreasing area of drainage basin\n",
    "def get_area(x):\n",
    "    x_basin = gpd.read_file(USGS_NLDI_WS+\"/comid/\"+x+\"/basin\")\n",
    "    return int(round(x_basin.iloc[0].geometry.area,3)*1000)  \n",
    "\n",
    "huc12pp_sites['area']=huc12pp_sites.apply(lambda x: get_area(x.comid), axis=1)\n",
    "huc12pp_sites.set_index(['area'],inplace=True,drop=True)\n",
    "huc12pp_sites.sort_index(inplace=True,ascending=False)\n",
    "\n",
    "i = 0\n",
    "i_max = n_segs\n",
    "\n",
    "for area, huc12pp_site in huc12pp_sites.iterrows():\n",
    "    basin_url = USGS_NLDI_WS+\"/comid/{0:s}/basin\".format(huc12pp_site.comid)\n",
    "    basin = gpd.read_file(basin_url)\n",
    "    #basin_area = basin.iloc[0].geometry.area\n",
    "    basin_area = geom_area(basin)\n",
    "    basin_diff_area = basin_area\n",
    "    wbd12_url = TNM_WS+\"/wbd/MapServer/6/query?where=HUC12%3D%27{0:s}%27&outFields=NAME%2CHUC12%2CSHAPE_Length&f=geojson\".format(huc12pp_site.identifier)\n",
    "    wbd12 = gpd.read_file(wbd12_url)\n",
    "    \n",
    "    if i > 0:\n",
    "        # Generate and show difference (polygon) between sussessive drainage basins\n",
    "        basin_diff = gpd.overlay(basin_prev,basin,how='difference')  \n",
    "        basin_diff_area = geom_area(basin_diff)\n",
    "        style_function = lambda x: {'color': 'red', 'weight': 1, 'fillColor': 'blue', 'fillOpacity': 0.1}\n",
    "        highlight_function = lambda x: {'color':'yellow', 'weight':3}\n",
    "        tooltip = \"Differential Drainage Basin for HUC12 Pour Point: {0:s} ({1:s}), Area: {2:.2f}\".format(wbd12.iloc[0].HUC12,wbd12.iloc[0].NAME,basin_diff_area[0])\n",
    "        basin_diff_feature = folium.GeoJson(basin_diff.iloc[0].geometry.buffer(-0.001).buffer(0.001),style_function=style_function,highlight_function=highlight_function,tooltip=tooltip)\n",
    "        fg_basins.add_child(basin_diff_feature)\n",
    "        \n",
    "        if i == i_max:\n",
    "            # Show large basin of first (highest upstream) pour point\n",
    "            style_function = lambda x: {'color': 'gray', 'weight': 1, 'fillColor': 'gray', 'fillOpacity': 0.1}\n",
    "            highlight_function = lambda x: {'color':'yellow', 'weight':1}\n",
    "            tooltip = \"Total Drainage Basin for HUC12 Pour Point: {0:s} ({1:s}), Area: {2:.2f}\".format(wbd12.iloc[0].HUC12,wbd12.iloc[0].NAME,basin_area[0])\n",
    "            basin_feature = folium.GeoJson(basin.iloc[0].geometry,style_function=style_function,highlight_function=highlight_function,tooltip=tooltip)\n",
    "            fg_basins.add_child(basin_feature)\n",
    "            \n",
    "    basin_prev = basin\n",
    "\n",
    "    # HUC12 Pour Point markers\n",
    "    coord = [huc12pp_site.geometry.y,huc12pp_site.geometry.x]\n",
    "    label = 'Pour Point for HUC12: '+wbd12.iloc[0].NAME\n",
    "    html = label\n",
    "    html += '<br>Indentifier: {0:s}'.format(huc12pp_site.identifier)\n",
    "    html += '<br>Lat: {0:.2f}, Lon: {1:.2f}'.format(huc12pp_site.geometry.y,huc12pp_site.geometry.x)\n",
    "    html += '<br>Comid: {0:s}'.format(huc12pp_site.comid)\n",
    "    html += '<br>Area Total: {0:.2f}'.format(basin_area[0])\n",
    "    html += '<br>Area Difference: {0:.2f}'.format(basin_diff_area[0])\n",
    "    iframe = folium.IFrame(html,width=width,height=height)\n",
    "    popup = folium.Popup(iframe,max_width=max_width)\n",
    "    fg_huc12pp.add_child(folium.CircleMarker(location=coord,radius=radius,color=color,popup=popup,tooltip=label))\n",
    "    \n",
    "    i = i + 1\n",
    "\n",
    "fg_huc12pp.add_to(river_map)\n",
    "fg_basins.add_to(river_map)"
   ]
  },
  {
   "cell_type": "markdown",
   "metadata": {},
   "source": [
    "### Add HUC12 and HUC10 WBD boundaries from The National Map web services (ArcGIS) for Pour Points along main stream and up nearby tributaries\n",
    " * TODO: Get HUC12s from up-tribs themselves instead the Pour Points"
   ]
  },
  {
   "cell_type": "code",
   "execution_count": 144,
   "metadata": {},
   "outputs": [
    {
     "data": {
      "text/plain": [
       "<folium.map.FeatureGroup at 0x7f2216a6bdd8>"
      ]
     },
     "execution_count": 144,
     "metadata": {},
     "output_type": "execute_result"
    }
   ],
   "source": [
    "fg_wbd12 = folium.FeatureGroup(name=\"HUC12 Boundaries\",overlay=True,show=False)\n",
    "fg_wbd12_ut = folium.FeatureGroup(name=\"Up-Trib HUC12s\",overlay=True,show=False)\n",
    "fg_wbd10 = folium.FeatureGroup(name=\"HUC10 Boundaries\",overlay=True,show=False)\n",
    "        \n",
    "i = 0\n",
    "i_max = n_segs\n",
    "huc12pp_comid_list = []\n",
    "huc12_list = []\n",
    "huc10_list = []\n",
    "\n",
    "for area, huc12pp_site in huc12pp_sites.iterrows():\n",
    "    if (huc12pp_site.identifier not in huc12_list):\n",
    "        huc12_list.append(huc12pp_site.identifier)\n",
    "    if (huc12pp_site.comid not in huc12pp_comid_list):\n",
    "        huc12pp_comid_list.append(huc12pp_site.comid)\n",
    "\n",
    "    # Get HUC12 watershed boundary (WBD) for pour point from The National Map web services\n",
    "    wbd12_url = TNM_WS+\"/wbd/MapServer/6/query?where=HUC12%3D%27{0:s}%27&outFields=NAME%2CHUC12%2CSHAPE_Length&f=geojson\".format(huc12pp_site.identifier)\n",
    "    wbd12 = gpd.read_file(wbd12_url)\n",
    "    \n",
    "    if i < i_max:\n",
    "        style_function = lambda x: {'color': 'darkgreen', 'weight': 1, 'fillColor': 'green', 'fillOpacity': 0.1}\n",
    "        highlight_function = lambda x: {'color':'yellow', 'weight':2}\n",
    "        tooltip = \"HUC12: {0:s} ({1:s}), Area: {2:.2f}\".format(wbd12.iloc[0].HUC12,wbd12.iloc[0].NAME,geom_area(wbd12)[0])\n",
    "        wbd12_feature = folium.GeoJson(wbd12.iloc[0].geometry,style_function=style_function,highlight_function=highlight_function,tooltip=tooltip)\n",
    "        fg_wbd12.add_child(wbd12_feature)  \n",
    "\n",
    "        # Get extent (width + height) of WBD associated with HUC12 Pour Point\n",
    "        distance = int(round(geom_extent2(wbd12),0))\n",
    "\n",
    "        # Find other pour points (and associated HUC12s) up stream (following tributares) within the current HUC12\n",
    "        huc12pp_ut_url = USGS_NLDI_WS+\"/comid/{0:s}/navigate/UT/huc12pp?distance={1:d}\".format(huc12pp_site.comid,distance)\n",
    "        huc12pp_ut_sites = gpd.read_file(huc12pp_ut_url)\n",
    "        \n",
    "        for k, huc12pp_ut in huc12pp_ut_sites.iterrows():\n",
    "            if (huc12pp_ut.comid in huc12pp_comid_list):\n",
    "                continue            \n",
    "            else:\n",
    "                huc12pp_comid_list.append(huc12pp_ut.comid)\n",
    "            \n",
    "            if (huc12pp_ut.identifier in huc12_list):\n",
    "                continue                \n",
    "            else:\n",
    "                huc12_list.append(huc12pp_ut.identifier)\n",
    "            \n",
    "            # Get and display WBD for HUC12 associated with up-trib Pour Point\n",
    "            wbd12_ut_url = TNM_WS+\"/wbd/MapServer/6/query?where=HUC12%3D%27{0:s}%27&outFields=NAME%2CHUC12%2CSHAPE_Length&f=geojson\".format(huc12pp_ut.identifier)\n",
    "            wbd12_ut = gpd.read_file(wbd12_ut_url)\n",
    "            style_function = lambda x: {'color': 'darkgreen', 'weight': 1, 'fillColor': 'green', 'fillOpacity': 0.05}\n",
    "            highlight_function = lambda x: {'color':'yellow', 'weight':2}\n",
    "            tooltip = \"HUC12: {0:s} ({1:s}), Area: {2:.2f}\".format(wbd12_ut.iloc[0].HUC12,wbd12_ut.iloc[0].NAME,geom_area(wbd12_ut)[0])\n",
    "            wbd12_ut_feature = folium.GeoJson(wbd12_ut_url,style_function=style_function,highlight_function=highlight_function,tooltip=tooltip)\n",
    "            fg_wbd12_ut.add_child(wbd12_ut_feature)        \n",
    "\n",
    "            # Put marker at up-trib HUC12 Pour Point\n",
    "            coord = [huc12pp_ut.geometry.y,huc12pp_ut.geometry.x]\n",
    "            label = 'UT Pour Point for HUC12: '+wbd12_ut.iloc[0].NAME\n",
    "            fg_wbd12_ut.add_child(folium.CircleMarker(location=coord,radius=4,color='lightblue',tooltip=label))\n",
    "\n",
    "            # Get and display HUC10 containing HUC12\n",
    "            huc10_identifier = huc12pp_ut.identifier[:-2]\n",
    "            \n",
    "            if (huc10_identifier in huc10_list):\n",
    "                continue\n",
    "            else:\n",
    "                huc10_list.append(huc10_identifier)\n",
    "                \n",
    "            wbd10_url = TNM_WS+\"/wbd/MapServer/5/query?where=HUC10%3D%27{0:s}%27&outFields=NAME%2CHUC10%2CSHAPE_Length&f=geojson\".format(huc10_identifier)\n",
    "            wbd10 = gpd.read_file(wbd10_url)\n",
    "            style_function = lambda x: {'color': 'darkgreen', 'weight': 1, 'fillColor': 'green', 'fillOpacity': 0.05}\n",
    "            highlight_function = lambda x: {'color':'yellow', 'weight':2}\n",
    "            tooltip = \"HUC10: {0:s} ({1:s}), Area: {2:.2f}\".format(wbd10.iloc[0].HUC10,wbd10.iloc[0].NAME,geom_area(wbd10)[0])\n",
    "            wbd10_feature = folium.GeoJson(wbd10_url,style_function=style_function,highlight_function=highlight_function,tooltip=tooltip)\n",
    "            fg_wbd10.add_child(wbd10_feature)  \n",
    "            \n",
    "    i = i + 1\n",
    "\n",
    "fg_wbd12.add_to(river_map)\n",
    "fg_wbd12_ut.add_to(river_map)\n",
    "fg_wbd10.add_to(river_map)"
   ]
  },
  {
   "cell_type": "markdown",
   "metadata": {},
   "source": [
    "### Add tributaries upstream of HUC12 Pour Points"
   ]
  },
  {
   "cell_type": "code",
   "execution_count": 145,
   "metadata": {},
   "outputs": [
    {
     "data": {
      "text/plain": [
       "<folium.map.FeatureGroup at 0x7f2216a9f898>"
      ]
     },
     "execution_count": 145,
     "metadata": {},
     "output_type": "execute_result"
    }
   ],
   "source": [
    "fg_utpp = folium.FeatureGroup(name=\"Tribs upstream of PPs\",overlay=True,show=False)\n",
    "\n",
    "for huc12 in huc12_list:\n",
    "    wbd12_url = TNM_WS+\"/wbd/MapServer/6/query?where=HUC12%3D%27{0:s}%27&f=geojson\".format(huc12)\n",
    "    wbd12 = gpd.read_file(wbd12_url)\n",
    "    distance = int(round(geom_extent(wbd12),0))\n",
    "    #distance = 35\n",
    "    tribs = folium.GeoJson(USGS_NLDI_WS+\"/huc12pp/{0:s}/navigate/UT?distance={1:d}\".format(huc12,distance))\n",
    "    fg_utpp.add_child(tribs)\n",
    "    \n",
    "fg_utpp.add_to(river_map)"
   ]
  },
  {
   "cell_type": "markdown",
   "metadata": {},
   "source": [
    "### Add Bordering Counties\n",
    " * TODO: Get County codes from drainage basins"
   ]
  },
  {
   "cell_type": "markdown",
   "metadata": {},
   "source": [
    "fg_counties = folium.FeatureGroup(name=\"Bordering Counties\",overlay=True,show=False)\n",
    "tiger_lines_url = \"https://tigerweb.geo.census.gov/arcgis/rest/services/TIGERweb/State_County/MapServer/55/query?\"\n",
    "query_params = \"&outFields=STATE%2C+COUNTY%2C+NAME&returnGeometry=true&f=geojson\"\n",
    "\n",
    "mason = folium.GeoJson(tiger_lines_url+\"where=GEOID%3D%2754053%27\"+query_params,tooltip='Mason') \n",
    "fg_counties.add_child(mason)\n",
    "\n",
    "cabel = folium.GeoJson(tiger_lines_url+\"where=GEOID%3D%2754011%27\"+query_params,tooltip='Cabel') \n",
    "fg_counties.add_child(cabel)\n",
    "\n",
    "wayne = folium.GeoJson(tiger_lines_url+\"where=GEOID%3D%2754099%27\"+query_params,tooltip='Wayne') \n",
    "fg_counties.add_child(wayne)\n",
    "\n",
    "boyd = folium.GeoJson(tiger_lines_url+\"where=GEOID%3D%2721019%27\"+query_params,tooltip='Boyd') \n",
    "fg_counties.add_child(boyd)\n",
    "\n",
    "greenup = folium.GeoJson(tiger_lines_url+\"where=GEOID%3D%2721089%27\"+query_params,tooltip='Greenup') \n",
    "fg_counties.add_child(greenup)\n",
    "\n",
    "galia = folium.GeoJson(tiger_lines_url+\"where=GEOID%3D%2739053%27\"+query_params,tooltip='Galia') \n",
    "fg_counties.add_child(galia)\n",
    "\n",
    "lawrence = folium.GeoJson(tiger_lines_url+\"where=GEOID%3D%2739087%27\"+query_params,tooltip='Lawrence') \n",
    "fg_counties.add_child(lawrence)\n",
    "\n",
    "scioto = folium.GeoJson(tiger_lines_url+\"where=GEOID%3D%2739145%27\"+query_params,tooltip='Scioto') \n",
    "fg_counties.add_child(scioto)\n",
    "\n",
    "fg_counties.add_to(river_map)"
   ]
  },
  {
   "cell_type": "markdown",
   "metadata": {},
   "source": [
    "### Add NPDES Point Sources along tributaries\n",
    " * TODO: Check to see why NPDES data is no longer accessible"
   ]
  },
  {
   "cell_type": "code",
   "execution_count": 146,
   "metadata": {},
   "outputs": [
    {
     "data": {
      "text/plain": [
       "<folium.map.FeatureGroup at 0x7f2215e03320>"
      ]
     },
     "execution_count": 146,
     "metadata": {},
     "output_type": "execute_result"
    }
   ],
   "source": [
    "fg_npdes = folium.FeatureGroup(name=\"NPDES Point Sources\",overlay=True,show=False)\n",
    "color = 'orange'\n",
    "radius = 2\n",
    "\n",
    "i = 0\n",
    "i_max = n_segs\n",
    "\n",
    "for area, huc12pp_site in huc12pp_sites.iterrows():\n",
    "    wbd12_url = TNM_WS+\"/wbd/MapServer/6/query?where=HUC12%3D%27{0:s}%27&outFields=NAME%2CHUC12%2CSHAPE_Length&f=geojson\".format(huc12pp_site.identifier)\n",
    "    wbd12 = gpd.read_file(wbd12_url)\n",
    "    distance = int(round(geom_extent(wbd12),0))\n",
    "    \n",
    "    try:\n",
    "        npdes_sites = gpd.read_file(huc12pp_site.navigation+\"/UT/npdes_rad?distance={0:d}\".format(distance))\n",
    "    except:\n",
    "        i = i + 1\n",
    "        continue\n",
    "        \n",
    "    if i < i_max:\n",
    "        for j, npdes_site in npdes_sites.iterrows():\n",
    "            coord = [npdes_site.geometry.y,npdes_site.geometry.x]\n",
    "            label = 'NPDES Site: '+npdes_site.identifier\n",
    "            html = label\n",
    "            html += '<br>{0:s}'.format(npdes_site['name'])\n",
    "            html += '<br><a href=\\\"{0:s}\\\",target=\\\"_blank\\\">{1:s}'.format(npdes_site.uri,npdes_site.uri)+'</a>'\n",
    "            html += '<br>Lat: {0:.2f}'.format(npdes_site.geometry.y)+', Lon: {0:.2f}'.format(npdes_site.geometry.x)\n",
    "            html += '<br>Comid: {0:s}'.format(npdes_site.comid)\n",
    "            html += '<br>Reachcode: {0:s}'.format(npdes_site.reachcode)\n",
    "            iframe = folium.IFrame(html,width=width,height=height)\n",
    "            popup = folium.Popup(iframe,max_width=max_width)\n",
    "            fg_npdes.add_child(folium.CircleMarker(location=coord,radius=radius,color=color,popup=popup,tooltip=label))\n",
    "            \n",
    "    i = i + 1\n",
    "    \n",
    "fg_npdes.add_to(river_map)"
   ]
  },
  {
   "cell_type": "markdown",
   "metadata": {},
   "source": [
    "### Add optional input sites\n",
    " * TODO: Make more generic"
   ]
  },
  {
   "cell_type": "code",
   "execution_count": 147,
   "metadata": {
    "extensions": {
     "jupyter_dashboards": {
      "version": 1,
      "views": {
       "grid_default": {},
       "report_default": {
        "hidden": false
       }
      }
     }
    }
   },
   "outputs": [],
   "source": [
    "if (optional_sites):\n",
    "    sites_df = pd.read_sql_query('select * from sites', sqlite_engine)\n",
    "    site_geometries = gpd.GeoSeries(sites_df.apply(lambda z: Point(z['Longitude'],z['Latitude']),1),crs={'init':'epsg:4326'})\n",
    "    sites = gpd.GeoDataFrame(sites_df.drop(['Latitude','Longitude'],1),geometry=site_geometries)\n",
    "    \n",
    "    fg_locks = folium.FeatureGroup(name=\"Locks and Dam\",overlay=True,show=False)\n",
    "    fg_other = folium.FeatureGroup(name=\"Other Sites\",overlay=True,show=False)\n",
    "\n",
    "    for i, row in sites.iterrows():\n",
    "        coord = [row.geometry.y,row.geometry.x]\n",
    "        label = row.Type+' @ '+row.Name\n",
    "        marker_type = 'pin'\n",
    "        radius = 3\n",
    "        color = 'red'\n",
    "        # Available colors: red, darkred, lightred, pink, green, darkgreen, lightgreen, blue, darkblue, lightblue, cadetblue, purple, darkpurple, orange, beige, black, gray, lightgray\n",
    "        icon = 'dashboard'\n",
    "        html = label\n",
    "        width = 500\n",
    "        height = 120\n",
    "        max_width = 1000\n",
    "        \n",
    "        if (row.Type == 'Locks and Dam'):\n",
    "            marker_type = 'circle'\n",
    "            radius = 5\n",
    "            color = 'red'\n",
    "            fill = True\n",
    "            fill_color = color\n",
    "            html += '<br><a href=\\\"https://www.lrh.usace.army.mil/Missions/Civil-Works/Locks-and-Dams/{0:s}'.format(row['USACE Code'])+'\\\",target=\\\"_blank\\\">USACE Data for Locks and Dams at {0:s}'.format(row['Name'])+'</a>'\n",
    "            \n",
    "            if (row.Name == 'Greenup'):\n",
    "                html += '<br><a href=\\\"https://v2.wqdatalive.com/project/view/1010/?d=1168\\\",target=\\\"_blank\\\">WQData Live data at {0:s} Locks and Dams'.format(row['Name'])+'</a>'\n",
    "                html += '<br>{0:s}'.format(str(row.Description))\n",
    "                html += '<br>Lat: {0:.2f}'.format(row.geometry.y)+', Lon: {0:.2f}'.format(row.geometry.x)\n",
    "                html += '<br><iframe src=\"https://v2.wqdatalive.com/project/applet/html/1010?d=1168&refresh=true\" allowtransparency=true style=\"width: 300px; height: 420px; overflow-y: hidden; overflow-x: hidden;\"></iframe>'\n",
    "                iframe = folium.IFrame(html,width=width,height=height)\n",
    "                popup = folium.Popup(iframe,max_width=max_width)\n",
    "                \n",
    "                if (marker_type == 'pin'):\n",
    "                    fg_locks.add_child(folium.Marker(location=coord,icon=folium.Icon(color=color,icon=icon),popup=popup,tooltip=label)).add_to(river_map)\n",
    "                elif (marker_type == 'circle'):\n",
    "                    fg_locks.add_child(folium.CircleMarker(location=coord,radius=radius,color=color,popup=popup,tooltip=label)).add_to(river_map)\n",
    "                    \n",
    "            elif (row.Name == 'RC Byrd'):\n",
    "                html += '<br><a href=\\\"https://v2.wqdatalive.com/project/view/1010/?d=1169\\\",target=\\\"_blank\\\">WQData Live data at {0:s} Locks and Dams'.format(row['Name'])+'</a>'\n",
    "                html += '<br>{0:s}'.format(str(row.Description))\n",
    "                html += '<br>Lat: {0:.2f}'.format(row.geometry.y)+', Lon: {0:.2f}'.format(row.geometry.x)\n",
    "                html += '<br><iframe src=\"https://v2.wqdatalive.com/project/applet/html/1010?d=1169&refresh=true\" allowtransparency=true style=\"width: 300px; height: 420px; overflow-y: hidden; overflow-x: hidden;\"></iframe>'\n",
    "                iframe = folium.IFrame(html,width=width,height=height)\n",
    "                popup = folium.Popup(iframe,max_width=max_width)\n",
    "                \n",
    "                if (marker_type == 'pin'):\n",
    "                    fg_locks.add_child(folium.Marker(location=coord,icon=folium.Icon(color=color,icon=icon),popup=popup,tooltip=label)).add_to(river_map)\n",
    "                elif (marker_type == 'circle'):\n",
    "                    fg_locks.add_child(folium.CircleMarker(location=coord,radius=radius,color=color,popup=popup,tooltip=label)).add_to(river_map)\n",
    "                    \n",
    "        else:\n",
    "            marker_type = 'circle'\n",
    "            radius = 3\n",
    "            color = 'blue'\n",
    "            fill = True\n",
    "            fill_color = color\n",
    "            html += '<br>{0:s}'.format(str(row.Description))\n",
    "            html += '<br>Lat: {0:.2f}'.format(row.geometry.y)+', Lon: {0:.2f}'.format(row.geometry.x)\n",
    "            iframe = folium.IFrame(html,width=width,height=height)\n",
    "            popup = folium.Popup(iframe,max_width=max_width)\n",
    "            \n",
    "            if (marker_type == 'pin'):\n",
    "                fg_other.add_child(folium.Marker(location=coord,icon=folium.Icon(color=color,icon=icon),popup=popup,tooltip=label)).add_to(river_map)\n",
    "            elif (marker_type == 'circle'):\n",
    "                fg_other.add_child(folium.CircleMarker(location=coord,radius=radius,color=color,popup=popup,tooltip=label)).add_to(river_map)"
   ]
  },
  {
   "cell_type": "markdown",
   "metadata": {},
   "source": [
    "### Add built-in basemaps"
   ]
  },
  {
   "cell_type": "code",
   "execution_count": 148,
   "metadata": {
    "extensions": {
     "jupyter_dashboards": {
      "version": 1,
      "views": {
       "grid_default": {},
       "report_default": {
        "hidden": false
       }
      }
     }
    }
   },
   "outputs": [
    {
     "data": {
      "text/plain": [
       "<folium.raster_layers.TileLayer at 0x7f2215eb8208>"
      ]
     },
     "execution_count": 148,
     "metadata": {},
     "output_type": "execute_result"
    }
   ],
   "source": [
    "folium.TileLayer('OpenStreetMap').add_to(river_map)\n",
    "folium.TileLayer('StamenTerrain').add_to(river_map)"
   ]
  },
  {
   "cell_type": "markdown",
   "metadata": {
    "extensions": {
     "jupyter_dashboards": {
      "version": 1,
      "views": {
       "grid_default": {},
       "report_default": {
        "hidden": false
       }
      }
     }
    }
   },
   "source": [
    "### Add other basemap options using Map Servers at  ArcGIS Online"
   ]
  },
  {
   "cell_type": "code",
   "execution_count": 149,
   "metadata": {
    "extensions": {
     "jupyter_dashboards": {
      "version": 1,
      "views": {
       "grid_default": {},
       "report_default": {
        "hidden": true
       }
      }
     }
    }
   },
   "outputs": [],
   "source": [
    "mapserver_query = '/MapServer/tile/{z}/{y}/{x}'\n",
    "mapserver_dict = dict(NatGeo_World_Map=ARCGIS_WS+'/NatGeo_World_Map/MapServer',\n",
    "            World_Imagery=ARCGIS_WS+'/World_Imagery/MapServer',\n",
    "            World_Shaded_Relief=ARCGIS_WS+'/World_Shaded_Relief/MapServer',\n",
    "            World_Street_Map=ARCGIS_WS+'/World_Street_Map/MapServer',\n",
    "            World_Topo_Map=ARCGIS_WS+'/World_Topo_Map/MapServer',\n",
    "#            World_Physical_Map=ARCGIS_WS+'/World_Physical_Map/MapServer',\n",
    "            World_Terrain_Base=ARCGIS_WS+'/World_Terrain_Base/MapServer')\n",
    "\n",
    "for tile_name, tile_url in mapserver_dict.items():\n",
    "    tile_url += mapserver_query\n",
    "    folium.TileLayer(tile_url,name=tile_name,attr=tile_name).add_to(river_map)"
   ]
  },
  {
   "cell_type": "markdown",
   "metadata": {
    "extensions": {
     "jupyter_dashboards": {
      "version": 1,
      "views": {
       "grid_default": {},
       "report_default": {
        "hidden": false
       }
      }
     }
    }
   },
   "source": [
    "### Add the Layer Control widget"
   ]
  },
  {
   "cell_type": "code",
   "execution_count": 150,
   "metadata": {
    "extensions": {
     "jupyter_dashboards": {
      "version": 1,
      "views": {
       "grid_default": {},
       "report_default": {
        "hidden": false
       }
      }
     }
    }
   },
   "outputs": [
    {
     "data": {
      "text/plain": [
       "<folium.map.LayerControl at 0x7f2215e03c88>"
      ]
     },
     "execution_count": 150,
     "metadata": {},
     "output_type": "execute_result"
    }
   ],
   "source": [
    "folium.LayerControl().add_to(river_map)"
   ]
  },
  {
   "cell_type": "markdown",
   "metadata": {
    "extensions": {
     "jupyter_dashboards": {
      "version": 1,
      "views": {
       "grid_default": {},
       "report_default": {
        "hidden": false
       }
      }
     }
    }
   },
   "source": [
    "### Save the map as HTML\n",
    " * Suppress before publishing as read-only Tool\n",
    "\n",
    "<div id='map' />"
   ]
  },
  {
   "cell_type": "code",
   "execution_count": 151,
   "metadata": {
    "extensions": {
     "jupyter_dashboards": {
      "version": 1,
      "views": {
       "grid_default": {},
       "report_default": {
        "hidden": true
       }
      }
     }
    }
   },
   "outputs": [],
   "source": [
    "river_map.save(OUT_DIR+'/river_map.html')"
   ]
  },
  {
   "cell_type": "markdown",
   "metadata": {
    "extensions": {
     "jupyter_dashboards": {
      "version": 1,
      "views": {
       "grid_default": {},
       "report_default": {
        "hidden": false
       }
      }
     }
    }
   },
   "source": [
    "## Display Map"
   ]
  },
  {
   "cell_type": "code",
   "execution_count": 152,
   "metadata": {
    "extensions": {
     "jupyter_dashboards": {
      "version": 1,
      "views": {
       "grid_default": {
        "col": 0,
        "height": 21,
        "hidden": false,
        "row": 51,
        "width": 10
       },
       "report_default": {
        "hidden": false
       }
      }
     }
    },
    "scrolled": false
   },
   "outputs": [
    {
     "data": {
      "text/html": [
       "\n",
       "        <iframe\n",
       "            width=\"1500\"\n",
       "            height=\"750\"\n",
       "            src=\"data/USGS-03206000/out/river_map.html\"\n",
       "            frameborder=\"0\"\n",
       "            allowfullscreen\n",
       "        ></iframe>\n",
       "        "
      ],
      "text/plain": [
       "<IPython.lib.display.IFrame at 0x7f2215cc5e10>"
      ]
     },
     "execution_count": 152,
     "metadata": {},
     "output_type": "execute_result"
    }
   ],
   "source": [
    "from IPython.display import IFrame\n",
    "IFrame(OUT_DIR+\"/river_map.html\", width=1500, height=750)"
   ]
  },
  {
   "cell_type": "code",
   "execution_count": null,
   "metadata": {},
   "outputs": [],
   "source": []
  }
 ],
 "metadata": {
  "extensions": {
   "jupyter_dashboards": {
    "activeView": "report_default",
    "version": 1,
    "views": {
     "grid_default": {
      "cellMargin": 10,
      "defaultCellHeight": 20,
      "maxColumns": 12,
      "name": "grid",
      "type": "grid"
     },
     "report_default": {
      "name": "report",
      "type": "report"
     }
    }
   }
  },
  "kernelspec": {
   "display_name": "Python 3",
   "language": "python",
   "name": "python3"
  },
  "language_info": {
   "codemirror_mode": {
    "name": "ipython",
    "version": 3
   },
   "file_extension": ".py",
   "mimetype": "text/x-python",
   "name": "python",
   "nbconvert_exporter": "python",
   "pygments_lexer": "ipython3",
   "version": "3.7.3"
  }
 },
 "nbformat": 4,
 "nbformat_minor": 4
}
